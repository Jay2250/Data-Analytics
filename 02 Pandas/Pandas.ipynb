{
 "cells": [
  {
   "cell_type": "code",
   "execution_count": 1,
   "id": "42aa1341-7c8f-4694-a403-1d592e9dbb19",
   "metadata": {},
   "outputs": [],
   "source": [
    "import numpy as np\n",
    "import pandas as pd"
   ]
  },
  {
   "cell_type": "code",
   "execution_count": 2,
   "id": "f1e2e280-df87-4ad4-95cf-f5325d455e42",
   "metadata": {},
   "outputs": [],
   "source": [
    "# Creating a series from a Python list\n",
    "myindex = ['USA','Canada','England']\n",
    "\n",
    "mydata = [1776,1867,1821]"
   ]
  },
  {
   "cell_type": "code",
   "execution_count": 3,
   "id": "dac50771-bcbc-4a5e-9e2c-4dc274cc748d",
   "metadata": {},
   "outputs": [
    {
     "name": "stdout",
     "output_type": "stream",
     "text": [
      "0    1776\n",
      "1    1867\n",
      "2    1821\n",
      "dtype: int64\n"
     ]
    }
   ],
   "source": [
    "# Just the numeric index\n",
    "myser = pd.Series(data=mydata)\n",
    "\n",
    "print(myser)"
   ]
  },
  {
   "cell_type": "code",
   "execution_count": 4,
   "id": "a086ab4a-762b-4a78-b506-58f112136aa6",
   "metadata": {},
   "outputs": [
    {
     "name": "stdout",
     "output_type": "stream",
     "text": [
      "USA        1776\n",
      "Canada     1867\n",
      "England    1821\n",
      "dtype: int64\n"
     ]
    }
   ],
   "source": [
    "# Now the named index\n",
    "myser = pd.Series(data=mydata,index=myindex)\n",
    "\n",
    "print(myser)"
   ]
  },
  {
   "cell_type": "code",
   "execution_count": 5,
   "id": "d111c66a-18d1-465c-ab6f-91d2701fa199",
   "metadata": {},
   "outputs": [
    {
     "name": "stdout",
     "output_type": "stream",
     "text": [
      "[78 31 16 18]\n",
      "Alice      78\n",
      "Bob        31\n",
      "Charles    16\n",
      "Dave       18\n",
      "dtype: int32\n"
     ]
    }
   ],
   "source": [
    "# Creating a series from NumPy array\n",
    "# First create a NumPy array using the earlier list\n",
    "ran_data = np.random.randint(0,100,4)\n",
    "print(ran_data)\n",
    "\n",
    "names = ['Alice','Bob','Charles','Dave']\n",
    "\n",
    "ages = pd.Series(ran_data,names)\n",
    "\n",
    "print(ages)"
   ]
  },
  {
   "cell_type": "code",
   "execution_count": 6,
   "id": "fcdbc543-a979-435d-8783-bd595ac180c6",
   "metadata": {},
   "outputs": [
    {
     "name": "stdout",
     "output_type": "stream",
     "text": [
      "{'Sammy': 5, 'Frank': 10, 'Spike': 7}\n",
      "Sammy     5\n",
      "Frank    10\n",
      "Spike     7\n",
      "dtype: int64\n"
     ]
    }
   ],
   "source": [
    "# Creating a series from a dictionary\n",
    "\n",
    "ages = {'Sammy':5,'Frank':10,'Spike':7}\n",
    "\n",
    "print(ages)\n",
    "\n",
    "print(pd.Series(ages))"
   ]
  },
  {
   "cell_type": "code",
   "execution_count": 7,
   "id": "b3009620-9faf-4427-a6bd-7df4a15530f3",
   "metadata": {},
   "outputs": [],
   "source": [
    "# Using named index\n",
    "# Imaginary Sales Data for 1st and 2nd Quarters for a Global Company\n",
    "q1 = {'Japan': 80, 'China': 450, 'India': 200, 'USA': 250}\n",
    "q2 = {'Brazil': 100,'China': 500, 'India': 210,'USA': 260}"
   ]
  },
  {
   "cell_type": "code",
   "execution_count": 8,
   "id": "439ed04f-24a4-46c0-a384-21e59a2db040",
   "metadata": {},
   "outputs": [
    {
     "name": "stdout",
     "output_type": "stream",
     "text": [
      "Japan     80\n",
      "China    450\n",
      "India    200\n",
      "USA      250\n",
      "dtype: int64\n"
     ]
    }
   ],
   "source": [
    "# Convert into Pandas Series\n",
    "sales_Q1 = pd.Series(q1)\n",
    "sales_Q2 = pd.Series(q2)\n",
    "\n",
    "print(sales_Q1)"
   ]
  },
  {
   "cell_type": "code",
   "execution_count": 9,
   "id": "56aded72-5176-4264-a2a9-08890b462a7b",
   "metadata": {},
   "outputs": [
    {
     "name": "stdout",
     "output_type": "stream",
     "text": [
      "80\n"
     ]
    }
   ],
   "source": [
    "# Call values based on Named Index\n",
    "print(sales_Q1['Japan'])"
   ]
  },
  {
   "cell_type": "code",
   "execution_count": 10,
   "id": "1aaea6d9-0a01-4b38-9ea4-beb16e2b216f",
   "metadata": {},
   "outputs": [
    {
     "name": "stdout",
     "output_type": "stream",
     "text": [
      "80\n"
     ]
    },
    {
     "name": "stderr",
     "output_type": "stream",
     "text": [
      "C:\\Users\\jayes\\AppData\\Local\\Temp\\ipykernel_5140\\644169171.py:2: FutureWarning: Series.__getitem__ treating keys as positions is deprecated. In a future version, integer keys will always be treated as labels (consistent with DataFrame behavior). To access a value by position, use `ser.iloc[pos]`\n",
      "  print(sales_Q1[0])\n"
     ]
    }
   ],
   "source": [
    "# Integer Based Location information also retained!\n",
    "print(sales_Q1[0])"
   ]
  },
  {
   "cell_type": "code",
   "execution_count": 11,
   "id": "3450e88b-aa46-4331-a706-dd97b06d3be2",
   "metadata": {},
   "outputs": [],
   "source": [
    "# Be careful with potential errors!\n",
    "\n",
    "# Wrong Name\n",
    "# print(sales_Q1['France'])"
   ]
  },
  {
   "cell_type": "code",
   "execution_count": 12,
   "id": "2d5b574a-1d25-4003-8478-8f92f6b2c3ca",
   "metadata": {},
   "outputs": [],
   "source": [
    "# Accidental Extra Space\n",
    "# print(sales_Q1['USA '])"
   ]
  },
  {
   "cell_type": "code",
   "execution_count": 13,
   "id": "71b939af-2fca-4084-bebc-37e718308822",
   "metadata": {},
   "outputs": [],
   "source": [
    "# Text case Mistake\n",
    "# print(sales_Q1['usa'])"
   ]
  },
  {
   "cell_type": "code",
   "execution_count": 14,
   "id": "7cf20e3f-0aa6-4fc6-b02f-fdddc6065818",
   "metadata": {},
   "outputs": [
    {
     "name": "stdout",
     "output_type": "stream",
     "text": [
      "Index(['Japan', 'China', 'India', 'USA'], dtype='object')\n"
     ]
    }
   ],
   "source": [
    "# Series operations\n",
    "# Grab just the index keys\n",
    "print(sales_Q1.keys())"
   ]
  },
  {
   "cell_type": "code",
   "execution_count": 15,
   "id": "fc9b87e3-2098-45c1-b901-13e9c953bfe4",
   "metadata": {},
   "outputs": [
    {
     "name": "stdout",
     "output_type": "stream",
     "text": [
      "Japan    160\n",
      "China    900\n",
      "India    400\n",
      "USA      500\n",
      "dtype: int64\n",
      "Brazil    1.0\n",
      "China     5.0\n",
      "India     2.1\n",
      "USA       2.6\n",
      "dtype: float64\n"
     ]
    }
   ],
   "source": [
    "# Can Perform Operations Broadcasted across entire Series\n",
    "print(sales_Q1 * 2)\n",
    "\n",
    "print(sales_Q2 / 100)"
   ]
  },
  {
   "cell_type": "code",
   "execution_count": 16,
   "id": "2c89f9e6-ff20-44ef-8cf5-5a91578d3fcd",
   "metadata": {},
   "outputs": [
    {
     "name": "stdout",
     "output_type": "stream",
     "text": [
      "Brazil      NaN\n",
      "China     950.0\n",
      "India     410.0\n",
      "Japan       NaN\n",
      "USA       510.0\n",
      "dtype: float64\n"
     ]
    }
   ],
   "source": [
    "# Notice how Pandas informs you of mismatch with NaN\n",
    "print(sales_Q1 + sales_Q2)"
   ]
  },
  {
   "cell_type": "code",
   "execution_count": 17,
   "id": "eba1c1e2-b626-460c-8ce1-a1203f6ca245",
   "metadata": {},
   "outputs": [
    {
     "name": "stdout",
     "output_type": "stream",
     "text": [
      "Brazil    100.0\n",
      "China     950.0\n",
      "India     410.0\n",
      "Japan      80.0\n",
      "USA       510.0\n",
      "dtype: float64\n"
     ]
    }
   ],
   "source": [
    "# You can fill NAN with any matching data type value you want\n",
    "print(sales_Q1.add(sales_Q2,fill_value=0))"
   ]
  },
  {
   "cell_type": "code",
   "execution_count": null,
   "id": "5855a045-b779-4bea-8186-a6caa1a07878",
   "metadata": {},
   "outputs": [],
   "source": []
  },
  {
   "cell_type": "markdown",
   "id": "a09bda74-6b30-4677-addb-f5c3008f9f91",
   "metadata": {},
   "source": [
    "## Pandas DateFrame"
   ]
  },
  {
   "cell_type": "code",
   "execution_count": 18,
   "id": "397d2411-71b5-45b8-897f-f2e33c708ad3",
   "metadata": {},
   "outputs": [
    {
     "name": "stdout",
     "output_type": "stream",
     "text": [
      "[[95 11 81]\n",
      " [70 63 87]\n",
      " [75  9 77]\n",
      " [40  4 63]]\n",
      "    0   1   2\n",
      "0  95  11  81\n",
      "1  70  63  87\n",
      "2  75   9  77\n",
      "3  40   4  63\n"
     ]
    }
   ],
   "source": [
    "# Create a simple dataframe from an existing Python list\n",
    "\n",
    "np.random.seed(101)\n",
    "mydata = np.random.randint(0,101,(4,3))\n",
    "\n",
    "print(mydata)\n",
    "\n",
    "myindex = ['CA','NY','AZ','TX']\n",
    "\n",
    "mycolumns = ['Jan','Feb','Mar']\n",
    "\n",
    "df = pd.DataFrame(data=mydata)\n",
    "print(df)"
   ]
  },
  {
   "cell_type": "code",
   "execution_count": 19,
   "id": "7c918fa5-b35a-4d08-9277-88f9fcb39f26",
   "metadata": {},
   "outputs": [
    {
     "name": "stdout",
     "output_type": "stream",
     "text": [
      "     0   1   2\n",
      "CA  95  11  81\n",
      "NY  70  63  87\n",
      "AZ  75   9  77\n",
      "TX  40   4  63\n"
     ]
    }
   ],
   "source": [
    "df = pd.DataFrame(data=mydata,index=myindex)\n",
    "print(df)"
   ]
  },
  {
   "cell_type": "code",
   "execution_count": 20,
   "id": "b75e5b5a-84ae-42ac-9c1e-316f6ab863fc",
   "metadata": {},
   "outputs": [
    {
     "name": "stdout",
     "output_type": "stream",
     "text": [
      "    Jan  Feb  Mar\n",
      "CA   95   11   81\n",
      "NY   70   63   87\n",
      "AZ   75    9   77\n",
      "TX   40    4   63\n"
     ]
    }
   ],
   "source": [
    "df = pd.DataFrame(data=mydata,index=myindex,columns=mycolumns)\n",
    "print(df)"
   ]
  },
  {
   "cell_type": "code",
   "execution_count": 21,
   "id": "3a11a7b8-5a6b-46f8-bf9d-823aa43a0242",
   "metadata": {},
   "outputs": [
    {
     "name": "stdout",
     "output_type": "stream",
     "text": [
      "<class 'pandas.core.frame.DataFrame'>\n",
      "Index: 4 entries, CA to TX\n",
      "Data columns (total 3 columns):\n",
      " #   Column  Non-Null Count  Dtype\n",
      "---  ------  --------------  -----\n",
      " 0   Jan     4 non-null      int32\n",
      " 1   Feb     4 non-null      int32\n",
      " 2   Mar     4 non-null      int32\n",
      "dtypes: int32(3)\n",
      "memory usage: 80.0+ bytes\n",
      "None\n"
     ]
    }
   ],
   "source": [
    "print(df.info())"
   ]
  },
  {
   "cell_type": "code",
   "execution_count": 22,
   "id": "6c5c26d0-0f0a-4a31-a57c-b4ab0d90524d",
   "metadata": {},
   "outputs": [
    {
     "name": "stdout",
     "output_type": "stream",
     "text": [
      "     total_bill   tip  gender smoker   day    time  size  price_per_person  \\\n",
      "0         16.99  1.01  Female     No   Sun  Dinner     2              8.49   \n",
      "1         10.34  1.66    Male     No   Sun  Dinner     3              3.45   \n",
      "2         21.01  3.50    Male     No   Sun  Dinner     3              7.00   \n",
      "3         23.68  3.31    Male     No   Sun  Dinner     2             11.84   \n",
      "4         24.59  3.61  Female     No   Sun  Dinner     4              6.15   \n",
      "..          ...   ...     ...    ...   ...     ...   ...               ...   \n",
      "239       29.03  5.92    Male     No   Sat  Dinner     3              9.68   \n",
      "240       27.18  2.00  Female    Yes   Sat  Dinner     2             13.59   \n",
      "241       22.67  2.00    Male    Yes   Sat  Dinner     2             11.34   \n",
      "242       17.82  1.75    Male     No   Sat  Dinner     2              8.91   \n",
      "243       18.78  3.00  Female     No  Thur  Dinner     2              9.39   \n",
      "\n",
      "             Payer Name     CC Number Payment ID  \n",
      "0    Christy Cunningham  3.560330e+15    Sun2959  \n",
      "1        Douglas Tucker  4.478070e+15    Sun4608  \n",
      "2        Travis Walters  6.011810e+15    Sun4458  \n",
      "3      Nathaniel Harris  4.676140e+15    Sun5260  \n",
      "4          Tonya Carter  4.832730e+15    Sun2251  \n",
      "..                  ...           ...        ...  \n",
      "239       Michael Avila  5.296070e+15    Sat2657  \n",
      "240      Monica Sanders  3.506810e+15    Sat1766  \n",
      "241          Keith Wong  6.011890e+15    Sat3880  \n",
      "242        Dennis Dixon  4.375220e+12      Sat17  \n",
      "243     Michelle Hardin  3.511450e+15    Thur672  \n",
      "\n",
      "[244 rows x 11 columns]\n"
     ]
    }
   ],
   "source": [
    "# Create a dataframe from a CSV file\n",
    "\n",
    "df = pd.read_csv('tips.csv')\n",
    "print(df)"
   ]
  },
  {
   "cell_type": "code",
   "execution_count": 23,
   "id": "74a3b40d-eeb0-47ef-be26-0b91238df4dc",
   "metadata": {},
   "outputs": [
    {
     "data": {
      "text/plain": [
       "' \\nColumns\\n    * tip in dollars,\\n    * bill in dollars,\\n    * gender of the bill payer,\\n    * whether there were smokers in the party,\\n    * day of the week,\\n    * time of day,\\n    * size of the party.\\nNote: Fake columns: Name, CC Number, and Payment ID\\n'"
      ]
     },
     "execution_count": 23,
     "metadata": {},
     "output_type": "execute_result"
    }
   ],
   "source": [
    "''' \n",
    "Columns\n",
    "    * tip in dollars,\n",
    "    * bill in dollars,\n",
    "    * gender of the bill payer,\n",
    "    * whether there were smokers in the party,\n",
    "    * day of the week,\n",
    "    * time of day,\n",
    "    * size of the party.\n",
    "Note: Fake columns: Name, CC Number, and Payment ID\n",
    "'''"
   ]
  },
  {
   "cell_type": "code",
   "execution_count": 24,
   "id": "8d52a227-2885-4d42-9062-d29f8dc0ef00",
   "metadata": {},
   "outputs": [
    {
     "name": "stdout",
     "output_type": "stream",
     "text": [
      "Index(['total_bill', 'tip', 'gender', 'smoker', 'day', 'time', 'size',\n",
      "       'price_per_person', 'Payer Name', 'CC Number', 'Payment ID'],\n",
      "      dtype='object')\n"
     ]
    }
   ],
   "source": [
    "print(df.columns) # Column names"
   ]
  },
  {
   "cell_type": "code",
   "execution_count": 25,
   "id": "2663b50e-570d-4ea0-9e43-dc7016d89336",
   "metadata": {},
   "outputs": [
    {
     "name": "stdout",
     "output_type": "stream",
     "text": [
      "RangeIndex(start=0, stop=244, step=1)\n"
     ]
    }
   ],
   "source": [
    "print(df.index) # Index"
   ]
  },
  {
   "cell_type": "code",
   "execution_count": 26,
   "id": "58b95851-9e60-456d-a9e6-c342cd3a214d",
   "metadata": {},
   "outputs": [
    {
     "name": "stdout",
     "output_type": "stream",
     "text": [
      "   total_bill   tip  gender smoker  day    time  size  price_per_person  \\\n",
      "0       16.99  1.01  Female     No  Sun  Dinner     2              8.49   \n",
      "1       10.34  1.66    Male     No  Sun  Dinner     3              3.45   \n",
      "2       21.01  3.50    Male     No  Sun  Dinner     3              7.00   \n",
      "\n",
      "           Payer Name     CC Number Payment ID  \n",
      "0  Christy Cunningham  3.560330e+15    Sun2959  \n",
      "1      Douglas Tucker  4.478070e+15    Sun4608  \n",
      "2      Travis Walters  6.011810e+15    Sun4458  \n"
     ]
    }
   ],
   "source": [
    "print(df.head(3)) # First three rows"
   ]
  },
  {
   "cell_type": "code",
   "execution_count": 27,
   "id": "55e7cf2b-3b01-4ab7-b712-66ef6ba3c324",
   "metadata": {},
   "outputs": [
    {
     "name": "stdout",
     "output_type": "stream",
     "text": [
      "     total_bill   tip  gender smoker   day    time  size  price_per_person  \\\n",
      "241       22.67  2.00    Male    Yes   Sat  Dinner     2             11.34   \n",
      "242       17.82  1.75    Male     No   Sat  Dinner     2              8.91   \n",
      "243       18.78  3.00  Female     No  Thur  Dinner     2              9.39   \n",
      "\n",
      "          Payer Name     CC Number Payment ID  \n",
      "241       Keith Wong  6.011890e+15    Sat3880  \n",
      "242     Dennis Dixon  4.375220e+12      Sat17  \n",
      "243  Michelle Hardin  3.511450e+15    Thur672  \n"
     ]
    }
   ],
   "source": [
    "print(df.tail(3)) # Last three rows"
   ]
  },
  {
   "cell_type": "code",
   "execution_count": 28,
   "id": "01c91210-f9c9-4e16-b22d-3ea71435549f",
   "metadata": {},
   "outputs": [
    {
     "name": "stdout",
     "output_type": "stream",
     "text": [
      "<class 'pandas.core.frame.DataFrame'>\n",
      "RangeIndex: 244 entries, 0 to 243\n",
      "Data columns (total 11 columns):\n",
      " #   Column            Non-Null Count  Dtype  \n",
      "---  ------            --------------  -----  \n",
      " 0   total_bill        244 non-null    float64\n",
      " 1   tip               244 non-null    float64\n",
      " 2   gender            244 non-null    object \n",
      " 3   smoker            244 non-null    object \n",
      " 4   day               244 non-null    object \n",
      " 5   time              244 non-null    object \n",
      " 6   size              244 non-null    int64  \n",
      " 7   price_per_person  244 non-null    float64\n",
      " 8   Payer Name        244 non-null    object \n",
      " 9   CC Number         244 non-null    float64\n",
      " 10  Payment ID        244 non-null    object \n",
      "dtypes: float64(4), int64(1), object(6)\n",
      "memory usage: 21.1+ KB\n",
      "None\n"
     ]
    }
   ],
   "source": [
    "print(df.info()) # Information about he DF, including data types and memory used"
   ]
  },
  {
   "cell_type": "code",
   "execution_count": 29,
   "id": "e7eaf51c-e8f8-40e9-9fd4-0b02b7b9d118",
   "metadata": {},
   "outputs": [
    {
     "name": "stdout",
     "output_type": "stream",
     "text": [
      "244\n"
     ]
    }
   ],
   "source": [
    "print(len(df)) # Number of rows"
   ]
  },
  {
   "cell_type": "code",
   "execution_count": 30,
   "id": "f0c21f27-9198-49f0-9107-ac4df1607d92",
   "metadata": {},
   "outputs": [
    {
     "name": "stdout",
     "output_type": "stream",
     "text": [
      "       total_bill         tip        size  price_per_person     CC Number\n",
      "count  244.000000  244.000000  244.000000        244.000000  2.440000e+02\n",
      "mean    19.785943    2.998279    2.569672          7.888197  2.563495e+15\n",
      "std      8.902412    1.383638    0.951100          2.914234  2.369340e+15\n",
      "min      3.070000    1.000000    1.000000          2.880000  6.040679e+10\n",
      "25%     13.347500    2.000000    2.000000          5.800000  3.040732e+13\n",
      "50%     17.795000    2.900000    2.000000          7.255000  3.525320e+15\n",
      "75%     24.127500    3.562500    3.000000          9.390000  4.553675e+15\n",
      "max     50.810000   10.000000    6.000000         20.270000  6.596450e+15\n"
     ]
    }
   ],
   "source": [
    "print(df.describe()) # Statistical summary"
   ]
  },
  {
   "cell_type": "code",
   "execution_count": 31,
   "id": "1215a8ee-065c-462f-9a10-dfe104aaf057",
   "metadata": {},
   "outputs": [
    {
     "name": "stdout",
     "output_type": "stream",
     "text": [
      "                  count          mean           std           min  \\\n",
      "total_bill        244.0  1.978594e+01  8.902412e+00  3.070000e+00   \n",
      "tip               244.0  2.998279e+00  1.383638e+00  1.000000e+00   \n",
      "size              244.0  2.569672e+00  9.510998e-01  1.000000e+00   \n",
      "price_per_person  244.0  7.888197e+00  2.914234e+00  2.880000e+00   \n",
      "CC Number         244.0  2.563495e+15  2.369340e+15  6.040679e+10   \n",
      "\n",
      "                           25%           50%           75%           max  \n",
      "total_bill        1.334750e+01  1.779500e+01  2.412750e+01  5.081000e+01  \n",
      "tip               2.000000e+00  2.900000e+00  3.562500e+00  1.000000e+01  \n",
      "size              2.000000e+00  2.000000e+00  3.000000e+00  6.000000e+00  \n",
      "price_per_person  5.800000e+00  7.255000e+00  9.390000e+00  2.027000e+01  \n",
      "CC Number         3.040732e+13  3.525320e+15  4.553675e+15  6.596450e+15  \n"
     ]
    }
   ],
   "source": [
    "print(df.describe().transpose()) # Statistical summary, better organized"
   ]
  },
  {
   "cell_type": "code",
   "execution_count": null,
   "id": "33f15c35-a9c7-4076-9d63-973aba717b50",
   "metadata": {},
   "outputs": [],
   "source": []
  },
  {
   "cell_type": "markdown",
   "id": "f352b45f-bdd9-4ebf-a13c-c184ab8b7359",
   "metadata": {},
   "source": [
    "## Column Selection and Indexing"
   ]
  },
  {
   "cell_type": "code",
   "execution_count": 32,
   "id": "54b4d2f2-6e1d-440d-8c71-77147f94b937",
   "metadata": {},
   "outputs": [
    {
     "name": "stdout",
     "output_type": "stream",
     "text": [
      "   total_bill   tip  gender smoker  day    time  size  price_per_person  \\\n",
      "0       16.99  1.01  Female     No  Sun  Dinner     2              8.49   \n",
      "1       10.34  1.66    Male     No  Sun  Dinner     3              3.45   \n",
      "2       21.01  3.50    Male     No  Sun  Dinner     3              7.00   \n",
      "3       23.68  3.31    Male     No  Sun  Dinner     2             11.84   \n",
      "4       24.59  3.61  Female     No  Sun  Dinner     4              6.15   \n",
      "\n",
      "           Payer Name     CC Number Payment ID  \n",
      "0  Christy Cunningham  3.560330e+15    Sun2959  \n",
      "1      Douglas Tucker  4.478070e+15    Sun4608  \n",
      "2      Travis Walters  6.011810e+15    Sun4458  \n",
      "3    Nathaniel Harris  4.676140e+15    Sun5260  \n",
      "4        Tonya Carter  4.832730e+15    Sun2251  \n"
     ]
    }
   ],
   "source": [
    "df = pd.read_csv('tips.csv')\n",
    "print(df.head())"
   ]
  },
  {
   "cell_type": "code",
   "execution_count": 33,
   "id": "24aab0c0-5a70-4eb2-8ba0-6907e48ed26c",
   "metadata": {},
   "outputs": [
    {
     "name": "stdout",
     "output_type": "stream",
     "text": [
      "0      16.99\n",
      "1      10.34\n",
      "2      21.01\n",
      "3      23.68\n",
      "4      24.59\n",
      "       ...  \n",
      "239    29.03\n",
      "240    27.18\n",
      "241    22.67\n",
      "242    17.82\n",
      "243    18.78\n",
      "Name: total_bill, Length: 244, dtype: float64\n",
      "<class 'pandas.core.series.Series'>\n"
     ]
    }
   ],
   "source": [
    "# Select a single column\n",
    "print(df['total_bill'])\n",
    "print(type(df['total_bill']))"
   ]
  },
  {
   "cell_type": "code",
   "execution_count": 34,
   "id": "b7f9b17e-987f-4664-b653-09f10201b2db",
   "metadata": {},
   "outputs": [
    {
     "name": "stdout",
     "output_type": "stream",
     "text": [
      "     total_bill   tip\n",
      "0         16.99  1.01\n",
      "1         10.34  1.66\n",
      "2         21.01  3.50\n",
      "3         23.68  3.31\n",
      "4         24.59  3.61\n",
      "..          ...   ...\n",
      "239       29.03  5.92\n",
      "240       27.18  2.00\n",
      "241       22.67  2.00\n",
      "242       17.82  1.75\n",
      "243       18.78  3.00\n",
      "\n",
      "[244 rows x 2 columns]\n"
     ]
    }
   ],
   "source": [
    "# Select multiple columns\n",
    "# Note how its a python list of column names! Thus the double brackets.\n",
    "print(df[['total_bill','tip']])"
   ]
  },
  {
   "cell_type": "code",
   "execution_count": 35,
   "id": "2559137f-78df-496c-ac51-9cb1d9e12186",
   "metadata": {},
   "outputs": [
    {
     "name": "stdout",
     "output_type": "stream",
     "text": [
      "   total_bill   tip  gender smoker  day    time  size  price_per_person  \\\n",
      "0       16.99  1.01  Female     No  Sun  Dinner     2              8.49   \n",
      "1       10.34  1.66    Male     No  Sun  Dinner     3              3.45   \n",
      "2       21.01  3.50    Male     No  Sun  Dinner     3              7.00   \n",
      "3       23.68  3.31    Male     No  Sun  Dinner     2             11.84   \n",
      "4       24.59  3.61  Female     No  Sun  Dinner     4              6.15   \n",
      "\n",
      "           Payer Name     CC Number Payment ID  tip_percentage  \n",
      "0  Christy Cunningham  3.560330e+15    Sun2959        5.944673  \n",
      "1      Douglas Tucker  4.478070e+15    Sun4608       16.054159  \n",
      "2      Travis Walters  6.011810e+15    Sun4458       16.658734  \n",
      "3    Nathaniel Harris  4.676140e+15    Sun5260       13.978041  \n",
      "4        Tonya Carter  4.832730e+15    Sun2251       14.680765  \n",
      "   total_bill   tip  gender smoker  day    time  size  price_per_person  \\\n",
      "0       16.99  1.01  Female     No  Sun  Dinner     2          8.495000   \n",
      "1       10.34  1.66    Male     No  Sun  Dinner     3          3.446667   \n",
      "2       21.01  3.50    Male     No  Sun  Dinner     3          7.003333   \n",
      "3       23.68  3.31    Male     No  Sun  Dinner     2         11.840000   \n",
      "4       24.59  3.61  Female     No  Sun  Dinner     4          6.147500   \n",
      "\n",
      "           Payer Name     CC Number Payment ID  tip_percentage  \n",
      "0  Christy Cunningham  3.560330e+15    Sun2959        5.944673  \n",
      "1      Douglas Tucker  4.478070e+15    Sun4608       16.054159  \n",
      "2      Travis Walters  6.011810e+15    Sun4458       16.658734  \n",
      "3    Nathaniel Harris  4.676140e+15    Sun5260       13.978041  \n",
      "4        Tonya Carter  4.832730e+15    Sun2251       14.680765  \n"
     ]
    }
   ],
   "source": [
    "# Create new columns\n",
    "df['tip_percentage'] = 100 * df['tip'] / df['total_bill']\n",
    "print(df.head())\n",
    "\n",
    "df['price_per_person'] = df['total_bill'] / df['size']\n",
    "print(df.head())"
   ]
  },
  {
   "cell_type": "code",
   "execution_count": 36,
   "id": "c00245fb-fa38-4403-b842-35db1de219d1",
   "metadata": {},
   "outputs": [
    {
     "name": "stdout",
     "output_type": "stream",
     "text": [
      "   total_bill   tip  gender smoker  day    time  size  price_per_person  \\\n",
      "0       16.99  1.01  Female     No  Sun  Dinner     2              8.49   \n",
      "1       10.34  1.66    Male     No  Sun  Dinner     3              3.45   \n",
      "2       21.01  3.50    Male     No  Sun  Dinner     3              7.00   \n",
      "3       23.68  3.31    Male     No  Sun  Dinner     2             11.84   \n",
      "4       24.59  3.61  Female     No  Sun  Dinner     4              6.15   \n",
      "\n",
      "           Payer Name     CC Number Payment ID  tip_percentage  \n",
      "0  Christy Cunningham  3.560330e+15    Sun2959        5.944673  \n",
      "1      Douglas Tucker  4.478070e+15    Sun4608       16.054159  \n",
      "2      Travis Walters  6.011810e+15    Sun4458       16.658734  \n",
      "3    Nathaniel Harris  4.676140e+15    Sun5260       13.978041  \n",
      "4        Tonya Carter  4.832730e+15    Sun2251       14.680765  \n"
     ]
    }
   ],
   "source": [
    "# Adjust Existing Columns\n",
    "df['price_per_person'] = np.round(df['price_per_person'],2)\n",
    "print(df.head())"
   ]
  },
  {
   "cell_type": "code",
   "execution_count": 37,
   "id": "38b34de3-9382-449c-ab04-328c89d97e6f",
   "metadata": {},
   "outputs": [
    {
     "name": "stdout",
     "output_type": "stream",
     "text": [
      "   total_bill   tip  gender smoker  day    time  size  price_per_person  \\\n",
      "0       16.99  1.01  Female     No  Sun  Dinner     2              8.49   \n",
      "1       10.34  1.66    Male     No  Sun  Dinner     3              3.45   \n",
      "2       21.01  3.50    Male     No  Sun  Dinner     3              7.00   \n",
      "3       23.68  3.31    Male     No  Sun  Dinner     2             11.84   \n",
      "4       24.59  3.61  Female     No  Sun  Dinner     4              6.15   \n",
      "\n",
      "           Payer Name     CC Number Payment ID  \n",
      "0  Christy Cunningham  3.560330e+15    Sun2959  \n",
      "1      Douglas Tucker  4.478070e+15    Sun4608  \n",
      "2      Travis Walters  6.011810e+15    Sun4458  \n",
      "3    Nathaniel Harris  4.676140e+15    Sun5260  \n",
      "4        Tonya Carter  4.832730e+15    Sun2251  \n"
     ]
    }
   ],
   "source": [
    "# Remove Columns\n",
    "df = df.drop(\"tip_percentage\",axis=1)\n",
    "print(df.head())"
   ]
  },
  {
   "cell_type": "code",
   "execution_count": 38,
   "id": "1dc79219-f64a-4e4f-98c0-7ed327511d81",
   "metadata": {},
   "outputs": [
    {
     "name": "stdout",
     "output_type": "stream",
     "text": [
      "   total_bill   tip  gender smoker  day    time  size  price_per_person  \\\n",
      "0       16.99  1.01  Female     No  Sun  Dinner     2              8.49   \n",
      "1       10.34  1.66    Male     No  Sun  Dinner     3              3.45   \n",
      "2       21.01  3.50    Male     No  Sun  Dinner     3              7.00   \n",
      "3       23.68  3.31    Male     No  Sun  Dinner     2             11.84   \n",
      "4       24.59  3.61  Female     No  Sun  Dinner     4              6.15   \n",
      "\n",
      "           Payer Name     CC Number Payment ID  \n",
      "0  Christy Cunningham  3.560330e+15    Sun2959  \n",
      "1      Douglas Tucker  4.478070e+15    Sun4608  \n",
      "2      Travis Walters  6.011810e+15    Sun4458  \n",
      "3    Nathaniel Harris  4.676140e+15    Sun5260  \n",
      "4        Tonya Carter  4.832730e+15    Sun2251  \n",
      "RangeIndex(start=0, stop=244, step=1)\n"
     ]
    }
   ],
   "source": [
    "# Index\n",
    "print(df.head())\n",
    "print(df.index)"
   ]
  },
  {
   "cell_type": "code",
   "execution_count": 39,
   "id": "ec37abdf-1830-4570-b50d-7bcfb2ac96ec",
   "metadata": {},
   "outputs": [
    {
     "name": "stdout",
     "output_type": "stream",
     "text": [
      "   total_bill   tip  gender smoker  day    time  size  price_per_person  \\\n",
      "0       16.99  1.01  Female     No  Sun  Dinner     2              8.49   \n",
      "1       10.34  1.66    Male     No  Sun  Dinner     3              3.45   \n",
      "2       21.01  3.50    Male     No  Sun  Dinner     3              7.00   \n",
      "3       23.68  3.31    Male     No  Sun  Dinner     2             11.84   \n",
      "4       24.59  3.61  Female     No  Sun  Dinner     4              6.15   \n",
      "\n",
      "           Payer Name     CC Number Payment ID  \n",
      "0  Christy Cunningham  3.560330e+15    Sun2959  \n",
      "1      Douglas Tucker  4.478070e+15    Sun4608  \n",
      "2      Travis Walters  6.011810e+15    Sun4458  \n",
      "3    Nathaniel Harris  4.676140e+15    Sun5260  \n",
      "4        Tonya Carter  4.832730e+15    Sun2251  \n"
     ]
    }
   ],
   "source": [
    "df.set_index('Payment ID')\n",
    "print(df.head())"
   ]
  },
  {
   "cell_type": "code",
   "execution_count": 40,
   "id": "dc62694a-8f36-48b9-ab0f-f7d1e724fc5d",
   "metadata": {},
   "outputs": [
    {
     "name": "stdout",
     "output_type": "stream",
     "text": [
      "            total_bill   tip  gender smoker  day    time  size  \\\n",
      "Payment ID                                                       \n",
      "Sun2959          16.99  1.01  Female     No  Sun  Dinner     2   \n",
      "Sun4608          10.34  1.66    Male     No  Sun  Dinner     3   \n",
      "Sun4458          21.01  3.50    Male     No  Sun  Dinner     3   \n",
      "Sun5260          23.68  3.31    Male     No  Sun  Dinner     2   \n",
      "Sun2251          24.59  3.61  Female     No  Sun  Dinner     4   \n",
      "\n",
      "            price_per_person          Payer Name     CC Number  \n",
      "Payment ID                                                      \n",
      "Sun2959                 8.49  Christy Cunningham  3.560330e+15  \n",
      "Sun4608                 3.45      Douglas Tucker  4.478070e+15  \n",
      "Sun4458                 7.00      Travis Walters  6.011810e+15  \n",
      "Sun5260                11.84    Nathaniel Harris  4.676140e+15  \n",
      "Sun2251                 6.15        Tonya Carter  4.832730e+15  \n"
     ]
    }
   ],
   "source": [
    "df = df.set_index('Payment ID')\n",
    "print(df.head())"
   ]
  },
  {
   "cell_type": "code",
   "execution_count": 41,
   "id": "2f015ff2-a80b-41c6-871e-c19d63ae370f",
   "metadata": {},
   "outputs": [
    {
     "name": "stdout",
     "output_type": "stream",
     "text": [
      "  Payment ID  total_bill   tip  gender smoker  day    time  size  \\\n",
      "0    Sun2959       16.99  1.01  Female     No  Sun  Dinner     2   \n",
      "1    Sun4608       10.34  1.66    Male     No  Sun  Dinner     3   \n",
      "2    Sun4458       21.01  3.50    Male     No  Sun  Dinner     3   \n",
      "3    Sun5260       23.68  3.31    Male     No  Sun  Dinner     2   \n",
      "4    Sun2251       24.59  3.61  Female     No  Sun  Dinner     4   \n",
      "\n",
      "   price_per_person          Payer Name     CC Number  \n",
      "0              8.49  Christy Cunningham  3.560330e+15  \n",
      "1              3.45      Douglas Tucker  4.478070e+15  \n",
      "2              7.00      Travis Walters  6.011810e+15  \n",
      "3             11.84    Nathaniel Harris  4.676140e+15  \n",
      "4              6.15        Tonya Carter  4.832730e+15  \n"
     ]
    }
   ],
   "source": [
    "df = df.reset_index() # Set it to the default integer values\n",
    "print(df.head())"
   ]
  },
  {
   "cell_type": "code",
   "execution_count": 42,
   "id": "1cb18294-65f8-4a48-a3b4-9932ab2cd8c6",
   "metadata": {},
   "outputs": [
    {
     "name": "stdout",
     "output_type": "stream",
     "text": [
      "     id                                 name  host_id  host_name  \\\n",
      "0  2539   Clean & quiet apt home by the park     2787       John   \n",
      "1  2595                Skylit Midtown Castle     2845   Jennifer   \n",
      "2  3647  THE VILLAGE OF HARLEM....NEW YORK !     4632  Elisabeth   \n",
      "\n",
      "  neighbourhood_group neighbourhood  latitude  longitude        room_type  \\\n",
      "0            Brooklyn    Kensington  40.64749  -73.97237     Private room   \n",
      "1           Manhattan       Midtown  40.75362  -73.98377  Entire home/apt   \n",
      "2           Manhattan        Harlem  40.80902  -73.94190     Private room   \n",
      "\n",
      "   price  minimum_nights  number_of_reviews last_review  reviews_per_month  \\\n",
      "0    149               1                  9  2018-10-19               0.21   \n",
      "1    225               1                 45  2019-05-21               0.38   \n",
      "2    150               3                  0         NaN                NaN   \n",
      "\n",
      "   calculated_host_listings_count  availability_365  \n",
      "0                               6               365  \n",
      "1                               2               355  \n",
      "2                               1               365  \n"
     ]
    }
   ],
   "source": [
    "# Another index example - Air BNB dataset from Kaggle\n",
    "\n",
    "# Default index\n",
    "df_airbnb = pd.read_csv(\"AB_NYC_2019.csv\")\n",
    "print(df_airbnb.head(3))"
   ]
  },
  {
   "cell_type": "code",
   "execution_count": 43,
   "id": "7c60ea85-849e-443e-b289-f35472988f33",
   "metadata": {},
   "outputs": [
    {
     "name": "stdout",
     "output_type": "stream",
     "text": [
      "                                     name  host_id  host_name  \\\n",
      "id                                                              \n",
      "2539   Clean & quiet apt home by the park     2787       John   \n",
      "2595                Skylit Midtown Castle     2845   Jennifer   \n",
      "3647  THE VILLAGE OF HARLEM....NEW YORK !     4632  Elisabeth   \n",
      "\n",
      "     neighbourhood_group neighbourhood  latitude  longitude        room_type  \\\n",
      "id                                                                             \n",
      "2539            Brooklyn    Kensington  40.64749  -73.97237     Private room   \n",
      "2595           Manhattan       Midtown  40.75362  -73.98377  Entire home/apt   \n",
      "3647           Manhattan        Harlem  40.80902  -73.94190     Private room   \n",
      "\n",
      "      price  minimum_nights  number_of_reviews last_review  reviews_per_month  \\\n",
      "id                                                                              \n",
      "2539    149               1                  9  2018-10-19               0.21   \n",
      "2595    225               1                 45  2019-05-21               0.38   \n",
      "3647    150               3                  0         NaN                NaN   \n",
      "\n",
      "      calculated_host_listings_count  availability_365  \n",
      "id                                                      \n",
      "2539                               6               365  \n",
      "2595                               2               355  \n",
      "3647                               1               365  \n",
      "THE VILLAGE OF HARLEM....NEW YORK !\n"
     ]
    }
   ],
   "source": [
    "# Make id column the index\n",
    "df2 = df_airbnb.set_index(\"id\")\n",
    "print(df2.head(3))\n",
    "print(df2.name[3647])  # Get the name for id = 3467"
   ]
  },
  {
   "cell_type": "code",
   "execution_count": 44,
   "id": "a7fbaefb-193d-4bd8-904e-b00f7530f391",
   "metadata": {},
   "outputs": [],
   "source": [
    "# df3 = df2.groupby(\"room_type\").mean(['price','number_of_reviews'])\n",
    "# Set pandas display options to show all columns\n",
    "numeric_columns = df2.select_dtypes(include=['float64', 'int64'])"
   ]
  },
  {
   "cell_type": "code",
   "execution_count": 45,
   "id": "9f5f3751-3adf-4e3f-b31a-6578a797e2d0",
   "metadata": {},
   "outputs": [
    {
     "name": "stdout",
     "output_type": "stream",
     "text": [
      "                      host_id   latitude  longitude       price  \\\n",
      "room_type                                                         \n",
      "Entire home/apt  6.175593e+07  40.728649 -73.960696  211.794246   \n",
      "Private room     7.247514e+07  40.729208 -73.942924   89.780973   \n",
      "Shared room      1.026241e+08  40.730514 -73.943343   70.127586   \n",
      "\n",
      "                 minimum_nights  number_of_reviews  reviews_per_month  \\\n",
      "room_type                                                               \n",
      "Entire home/apt        8.506907          22.842418           1.306578   \n",
      "Private room           5.377900          24.112962           1.445209   \n",
      "Shared room            6.475000          16.600000           1.471726   \n",
      "\n",
      "                 calculated_host_listings_count  availability_365  \n",
      "room_type                                                          \n",
      "Entire home/apt                       10.698335        111.920304  \n",
      "Private room                           3.227717        111.203933  \n",
      "Shared room                            4.662931        162.000862  \n",
      "Index(['Entire home/apt', 'Private room', 'Shared room'], dtype='object', name='room_type')\n"
     ]
    }
   ],
   "source": [
    "# Include 'room_type' column in numeric_columns DataFrame\n",
    "numeric_columns['room_type'] = df2['room_type']\n",
    "df3 = numeric_columns.groupby(\"room_type\").mean()\n",
    "pd.set_option('display.max_columns', None)\n",
    "print(df3.head(3))\n",
    "print(df3.index)"
   ]
  },
  {
   "cell_type": "code",
   "execution_count": 46,
   "id": "763bf872-7fb7-4a5b-b44e-42eeeef3775f",
   "metadata": {},
   "outputs": [
    {
     "name": "stdout",
     "output_type": "stream",
     "text": [
      "         room_type       host_id   latitude  longitude       price  \\\n",
      "0  Entire home/apt  6.175593e+07  40.728649 -73.960696  211.794246   \n",
      "1     Private room  7.247514e+07  40.729208 -73.942924   89.780973   \n",
      "2      Shared room  1.026241e+08  40.730514 -73.943343   70.127586   \n",
      "\n",
      "   minimum_nights  number_of_reviews  reviews_per_month  \\\n",
      "0        8.506907          22.842418           1.306578   \n",
      "1        5.377900          24.112962           1.445209   \n",
      "2        6.475000          16.600000           1.471726   \n",
      "\n",
      "   calculated_host_listings_count  availability_365  \n",
      "0                       10.698335        111.920304  \n",
      "1                        3.227717        111.203933  \n",
      "2                        4.662931        162.000862  \n"
     ]
    }
   ],
   "source": [
    "# Note that room_type has become to index - we can again convert it into a normal column\n",
    "df3 = df3.reset_index()\n",
    "pd.reset_option('display.max_columns') # Also reset the column display to default\n",
    "print(df3.head(3))"
   ]
  },
  {
   "cell_type": "code",
   "execution_count": 47,
   "id": "5a3f2a42-dcd3-40dd-8f1a-246b94856561",
   "metadata": {},
   "outputs": [
    {
     "name": "stdout",
     "output_type": "stream",
     "text": [
      "Payment ID                     Sun2959\n",
      "total_bill                       16.99\n",
      "tip                               1.01\n",
      "gender                          Female\n",
      "smoker                              No\n",
      "day                                Sun\n",
      "time                            Dinner\n",
      "size                                 2\n",
      "price_per_person                  8.49\n",
      "Payer Name          Christy Cunningham\n",
      "CC Number           3560330000000000.0\n",
      "Name: 0, dtype: object\n"
     ]
    }
   ],
   "source": [
    "# Rows\n",
    "\n",
    "# Get a single row\n",
    "# Integer Based\n",
    "print(df.iloc[0])"
   ]
  },
  {
   "cell_type": "code",
   "execution_count": 48,
   "id": "c36142d3-65c7-4c27-aa86-ed1d799aebef",
   "metadata": {},
   "outputs": [
    {
     "name": "stdout",
     "output_type": "stream",
     "text": [
      "total_bill                       16.99\n",
      "tip                               1.01\n",
      "gender                          Female\n",
      "smoker                              No\n",
      "day                                Sun\n",
      "time                            Dinner\n",
      "size                                 2\n",
      "price_per_person                  8.49\n",
      "Payer Name          Christy Cunningham\n",
      "CC Number           3560330000000000.0\n",
      "Name: Sun2959, dtype: object\n"
     ]
    }
   ],
   "source": [
    "# Name Based\n",
    "# First set the index to the column which will be used in locating the row\n",
    "df = df.set_index('Payment ID') \n",
    "\n",
    "print(df.loc['Sun2959'])"
   ]
  },
  {
   "cell_type": "code",
   "execution_count": 49,
   "id": "aa99297f-766a-4ab1-8f67-e56e3a4065f8",
   "metadata": {},
   "outputs": [
    {
     "name": "stdout",
     "output_type": "stream",
     "text": [
      "            total_bill   tip  gender smoker  day    time  size  \\\n",
      "Payment ID                                                       \n",
      "Sun2959          16.99  1.01  Female     No  Sun  Dinner     2   \n",
      "Sun4608          10.34  1.66    Male     No  Sun  Dinner     3   \n",
      "Sun4458          21.01  3.50    Male     No  Sun  Dinner     3   \n",
      "Sun5260          23.68  3.31    Male     No  Sun  Dinner     2   \n",
      "Sun2251          24.59  3.61  Female     No  Sun  Dinner     4   \n",
      "\n",
      "            price_per_person          Payer Name     CC Number  \n",
      "Payment ID                                                      \n",
      "Sun2959                 8.49  Christy Cunningham  3.560330e+15  \n",
      "Sun4608                 3.45      Douglas Tucker  4.478070e+15  \n",
      "Sun4458                 7.00      Travis Walters  6.011810e+15  \n",
      "Sun5260                11.84    Nathaniel Harris  4.676140e+15  \n",
      "Sun2251                 6.15        Tonya Carter  4.832730e+15  \n",
      "            total_bill   tip  gender smoker  day    time  size  \\\n",
      "Payment ID                                                       \n",
      "Sun4608          10.34  1.66    Male     No  Sun  Dinner     3   \n",
      "Sun4458          21.01  3.50    Male     No  Sun  Dinner     3   \n",
      "Sun5260          23.68  3.31    Male     No  Sun  Dinner     2   \n",
      "Sun2251          24.59  3.61  Female     No  Sun  Dinner     4   \n",
      "Sun9679          25.29  4.71    Male     No  Sun  Dinner     4   \n",
      "\n",
      "            price_per_person        Payer Name     CC Number  \n",
      "Payment ID                                                    \n",
      "Sun4608                 3.45    Douglas Tucker  4.478070e+15  \n",
      "Sun4458                 7.00    Travis Walters  6.011810e+15  \n",
      "Sun5260                11.84  Nathaniel Harris  4.676140e+15  \n",
      "Sun2251                 6.15      Tonya Carter  4.832730e+15  \n",
      "Sun9679                 6.32        Erik Smith  2.131400e+14  \n"
     ]
    }
   ],
   "source": [
    "# Remove a row\n",
    "print(df.head())\n",
    "df = df.drop('Sun2959',axis=0)\n",
    "print(df.head())"
   ]
  },
  {
   "cell_type": "code",
   "execution_count": null,
   "id": "2a4c116e-7abf-431f-9569-ca4831857d19",
   "metadata": {},
   "outputs": [],
   "source": []
  },
  {
   "cell_type": "markdown",
   "id": "3b4fb988-6164-437d-ab61-47dd26387766",
   "metadata": {},
   "source": [
    "## Conditional Filtering"
   ]
  },
  {
   "cell_type": "code",
   "execution_count": 50,
   "id": "b2856d4b-a4da-49fc-9a9e-03ea823c31a0",
   "metadata": {},
   "outputs": [
    {
     "name": "stdout",
     "output_type": "stream",
     "text": [
      "   total_bill   tip  gender smoker  day    time  size  price_per_person  \\\n",
      "0       16.99  1.01  Female     No  Sun  Dinner     2              8.49   \n",
      "1       10.34  1.66    Male     No  Sun  Dinner     3              3.45   \n",
      "2       21.01  3.50    Male     No  Sun  Dinner     3              7.00   \n",
      "3       23.68  3.31    Male     No  Sun  Dinner     2             11.84   \n",
      "4       24.59  3.61  Female     No  Sun  Dinner     4              6.15   \n",
      "\n",
      "           Payer Name     CC Number Payment ID  \n",
      "0  Christy Cunningham  3.560330e+15    Sun2959  \n",
      "1      Douglas Tucker  4.478070e+15    Sun4608  \n",
      "2      Travis Walters  6.011810e+15    Sun4458  \n",
      "3    Nathaniel Harris  4.676140e+15    Sun5260  \n",
      "4        Tonya Carter  4.832730e+15    Sun2251  \n"
     ]
    }
   ],
   "source": [
    "df = pd.read_csv('tips.csv')\n",
    "print(df.head())"
   ]
  },
  {
   "cell_type": "code",
   "execution_count": 51,
   "id": "2008540a-dbec-4ea4-87bc-9fcb9ca21f6a",
   "metadata": {},
   "outputs": [
    {
     "name": "stdout",
     "output_type": "stream",
     "text": [
      "0      True\n",
      "1      True\n",
      "2      True\n",
      "3      True\n",
      "4      True\n",
      "       ... \n",
      "239    True\n",
      "240    True\n",
      "241    True\n",
      "242    True\n",
      "243    True\n",
      "Name: total_bill, Length: 244, dtype: bool\n"
     ]
    }
   ],
   "source": [
    "# Conditions\n",
    "\n",
    "print(df['total_bill'] < 30)   # True/false\n",
    "\n",
    "bool_series = df['total_bill'] > 30 # Save in a variable"
   ]
  },
  {
   "cell_type": "code",
   "execution_count": 52,
   "id": "78026cf6-d5b4-4e79-a3c5-cb786820ef41",
   "metadata": {},
   "outputs": [
    {
     "name": "stdout",
     "output_type": "stream",
     "text": [
      "0      False\n",
      "1      False\n",
      "2      False\n",
      "3      False\n",
      "4      False\n",
      "       ...  \n",
      "239    False\n",
      "240    False\n",
      "241    False\n",
      "242    False\n",
      "243    False\n",
      "Name: total_bill, Length: 244, dtype: bool\n",
      "     total_bill    tip  gender smoker   day    time  size  price_per_person  \\\n",
      "11        35.26   5.00  Female     No   Sun  Dinner     4              8.82   \n",
      "23        39.42   7.58    Male     No   Sat  Dinner     4              9.86   \n",
      "39        31.27   5.00    Male     No   Sat  Dinner     3             10.42   \n",
      "44        30.40   5.60    Male     No   Sun  Dinner     4              7.60   \n",
      "47        32.40   6.00    Male     No   Sun  Dinner     4              8.10   \n",
      "52        34.81   5.20  Female     No   Sun  Dinner     4              8.70   \n",
      "56        38.01   3.00    Male    Yes   Sat  Dinner     4              9.50   \n",
      "59        48.27   6.73    Male     No   Sat  Dinner     4             12.07   \n",
      "83        32.68   5.00    Male    Yes  Thur   Lunch     2             16.34   \n",
      "85        34.83   5.17  Female     No  Thur   Lunch     4              8.71   \n",
      "95        40.17   4.73    Male    Yes   Fri  Dinner     4             10.04   \n",
      "102       44.30   2.50  Female    Yes   Sat  Dinner     3             14.77   \n",
      "112       38.07   4.00    Male     No   Sun  Dinner     3             12.69   \n",
      "141       34.30   6.70    Male     No  Thur   Lunch     6              5.72   \n",
      "142       41.19   5.00    Male     No  Thur   Lunch     5              8.24   \n",
      "156       48.17   5.00    Male     No   Sun  Dinner     6              8.03   \n",
      "167       31.71   4.50    Male     No   Sun  Dinner     4              7.93   \n",
      "170       50.81  10.00    Male    Yes   Sat  Dinner     3             16.94   \n",
      "173       31.85   3.18    Male    Yes   Sun  Dinner     2             15.92   \n",
      "175       32.90   3.11    Male    Yes   Sun  Dinner     2             16.45   \n",
      "179       34.63   3.55    Male    Yes   Sun  Dinner     2             17.32   \n",
      "180       34.65   3.68    Male    Yes   Sun  Dinner     4              8.66   \n",
      "182       45.35   3.50    Male    Yes   Sun  Dinner     3             15.12   \n",
      "184       40.55   3.00    Male    Yes   Sun  Dinner     2             20.27   \n",
      "187       30.46   2.00    Male    Yes   Sun  Dinner     5              6.09   \n",
      "197       43.11   5.00  Female    Yes  Thur   Lunch     4             10.78   \n",
      "207       38.73   3.00    Male    Yes   Sat  Dinner     4              9.68   \n",
      "210       30.06   2.00    Male    Yes   Sat  Dinner     3             10.02   \n",
      "212       48.33   9.00    Male     No   Sat  Dinner     4             12.08   \n",
      "219       30.14   3.09  Female    Yes   Sat  Dinner     4              7.54   \n",
      "237       32.83   1.17    Male    Yes   Sat  Dinner     2             16.42   \n",
      "238       35.83   4.67  Female     No   Sat  Dinner     3             11.94   \n",
      "\n",
      "                Payer Name     CC Number Payment ID  \n",
      "11            Diane Macias  4.577820e+15    Sun6686  \n",
      "23          Lance Peterson  3.542580e+15     Sat239  \n",
      "39       Mr. Brandon Berry  6.011530e+15    Sat6373  \n",
      "44             Todd Cooper  5.038470e+11    Sun2274  \n",
      "47            James Barnes  3.552000e+15    Sun9677  \n",
      "52            Emily Daniel  4.291280e+15    Sun6165  \n",
      "56   James Christensen DDS  3.497940e+14    Sat8903  \n",
      "59             Brian Ortiz  6.596450e+15    Sat8139  \n",
      "83           Daniel Murphy  5.356180e+15   Thur8801  \n",
      "85             Shawna Cook  6.011790e+15   Thur7972  \n",
      "95           Aaron Bentley  1.800270e+14    Fri9628  \n",
      "102          Heather Cohen  3.797710e+14    Sat6240  \n",
      "112             Jeff Lopez  3.572870e+15     Sun591  \n",
      "141         Steven Carlson  3.526520e+15   Thur1025  \n",
      "142           Eric Andrews  4.356530e+15   Thur3621  \n",
      "156          Ryan Gonzales  3.523150e+15    Sun7518  \n",
      "167         Michael Lawson  3.566290e+15    Sun3719  \n",
      "170          Gregory Clark  5.473850e+15    Sat1954  \n",
      "173            Scott Perez  3.577120e+15    Sun9335  \n",
      "175        Nathan Reynolds  3.703070e+14    Sun5109  \n",
      "179           Brian Bailey  3.466560e+14    Sun9851  \n",
      "180       James Hebert DDS  6.761690e+11    Sun7544  \n",
      "182           Jose Parsons  4.112210e+15    Sun2337  \n",
      "184            Stephen Cox  3.547800e+15    Sun5140  \n",
      "187          David Barrett  4.792880e+15    Sun9987  \n",
      "197            Brooke Soto  5.544900e+15   Thur9313  \n",
      "207          Ricky Ramirez  3.478180e+14    Sat4505  \n",
      "210          Shawn Mendoza  3.018400e+13    Sat8361  \n",
      "212        Alex Williamson  6.762190e+11    Sat4590  \n",
      "219           Shelby House  5.020970e+11    Sat8863  \n",
      "237           Thomas Brown  4.284720e+15    Sat2929  \n",
      "238         Kimberly Crane  6.761840e+11    Sat9777  \n"
     ]
    }
   ],
   "source": [
    "print(bool_series)      # True/False\n",
    "print(df[bool_series])  # Actual results, applying the true/false conditions"
   ]
  },
  {
   "cell_type": "code",
   "execution_count": 53,
   "id": "d4485c61-3e7f-47a7-9106-fe3baece2b0c",
   "metadata": {},
   "outputs": [
    {
     "name": "stdout",
     "output_type": "stream",
     "text": [
      "     total_bill    tip  gender smoker   day    time  size  price_per_person  \\\n",
      "11        35.26   5.00  Female     No   Sun  Dinner     4              8.82   \n",
      "23        39.42   7.58    Male     No   Sat  Dinner     4              9.86   \n",
      "39        31.27   5.00    Male     No   Sat  Dinner     3             10.42   \n",
      "44        30.40   5.60    Male     No   Sun  Dinner     4              7.60   \n",
      "47        32.40   6.00    Male     No   Sun  Dinner     4              8.10   \n",
      "52        34.81   5.20  Female     No   Sun  Dinner     4              8.70   \n",
      "56        38.01   3.00    Male    Yes   Sat  Dinner     4              9.50   \n",
      "59        48.27   6.73    Male     No   Sat  Dinner     4             12.07   \n",
      "83        32.68   5.00    Male    Yes  Thur   Lunch     2             16.34   \n",
      "85        34.83   5.17  Female     No  Thur   Lunch     4              8.71   \n",
      "95        40.17   4.73    Male    Yes   Fri  Dinner     4             10.04   \n",
      "102       44.30   2.50  Female    Yes   Sat  Dinner     3             14.77   \n",
      "112       38.07   4.00    Male     No   Sun  Dinner     3             12.69   \n",
      "141       34.30   6.70    Male     No  Thur   Lunch     6              5.72   \n",
      "142       41.19   5.00    Male     No  Thur   Lunch     5              8.24   \n",
      "156       48.17   5.00    Male     No   Sun  Dinner     6              8.03   \n",
      "167       31.71   4.50    Male     No   Sun  Dinner     4              7.93   \n",
      "170       50.81  10.00    Male    Yes   Sat  Dinner     3             16.94   \n",
      "173       31.85   3.18    Male    Yes   Sun  Dinner     2             15.92   \n",
      "175       32.90   3.11    Male    Yes   Sun  Dinner     2             16.45   \n",
      "179       34.63   3.55    Male    Yes   Sun  Dinner     2             17.32   \n",
      "180       34.65   3.68    Male    Yes   Sun  Dinner     4              8.66   \n",
      "182       45.35   3.50    Male    Yes   Sun  Dinner     3             15.12   \n",
      "184       40.55   3.00    Male    Yes   Sun  Dinner     2             20.27   \n",
      "187       30.46   2.00    Male    Yes   Sun  Dinner     5              6.09   \n",
      "197       43.11   5.00  Female    Yes  Thur   Lunch     4             10.78   \n",
      "207       38.73   3.00    Male    Yes   Sat  Dinner     4              9.68   \n",
      "210       30.06   2.00    Male    Yes   Sat  Dinner     3             10.02   \n",
      "212       48.33   9.00    Male     No   Sat  Dinner     4             12.08   \n",
      "219       30.14   3.09  Female    Yes   Sat  Dinner     4              7.54   \n",
      "237       32.83   1.17    Male    Yes   Sat  Dinner     2             16.42   \n",
      "238       35.83   4.67  Female     No   Sat  Dinner     3             11.94   \n",
      "\n",
      "                Payer Name     CC Number Payment ID  \n",
      "11            Diane Macias  4.577820e+15    Sun6686  \n",
      "23          Lance Peterson  3.542580e+15     Sat239  \n",
      "39       Mr. Brandon Berry  6.011530e+15    Sat6373  \n",
      "44             Todd Cooper  5.038470e+11    Sun2274  \n",
      "47            James Barnes  3.552000e+15    Sun9677  \n",
      "52            Emily Daniel  4.291280e+15    Sun6165  \n",
      "56   James Christensen DDS  3.497940e+14    Sat8903  \n",
      "59             Brian Ortiz  6.596450e+15    Sat8139  \n",
      "83           Daniel Murphy  5.356180e+15   Thur8801  \n",
      "85             Shawna Cook  6.011790e+15   Thur7972  \n",
      "95           Aaron Bentley  1.800270e+14    Fri9628  \n",
      "102          Heather Cohen  3.797710e+14    Sat6240  \n",
      "112             Jeff Lopez  3.572870e+15     Sun591  \n",
      "141         Steven Carlson  3.526520e+15   Thur1025  \n",
      "142           Eric Andrews  4.356530e+15   Thur3621  \n",
      "156          Ryan Gonzales  3.523150e+15    Sun7518  \n",
      "167         Michael Lawson  3.566290e+15    Sun3719  \n",
      "170          Gregory Clark  5.473850e+15    Sat1954  \n",
      "173            Scott Perez  3.577120e+15    Sun9335  \n",
      "175        Nathan Reynolds  3.703070e+14    Sun5109  \n",
      "179           Brian Bailey  3.466560e+14    Sun9851  \n",
      "180       James Hebert DDS  6.761690e+11    Sun7544  \n",
      "182           Jose Parsons  4.112210e+15    Sun2337  \n",
      "184            Stephen Cox  3.547800e+15    Sun5140  \n",
      "187          David Barrett  4.792880e+15    Sun9987  \n",
      "197            Brooke Soto  5.544900e+15   Thur9313  \n",
      "207          Ricky Ramirez  3.478180e+14    Sat4505  \n",
      "210          Shawn Mendoza  3.018400e+13    Sat8361  \n",
      "212        Alex Williamson  6.762190e+11    Sat4590  \n",
      "219           Shelby House  5.020970e+11    Sat8863  \n",
      "237           Thomas Brown  4.284720e+15    Sat2929  \n",
      "238         Kimberly Crane  6.761840e+11    Sat9777  \n"
     ]
    }
   ],
   "source": [
    "print(df[df['total_bill']>30])"
   ]
  },
  {
   "cell_type": "code",
   "execution_count": 54,
   "id": "9b789efa-c29d-4a3e-a870-7061647f071c",
   "metadata": {},
   "outputs": [
    {
     "name": "stdout",
     "output_type": "stream",
     "text": [
      "0      False\n",
      "1      False\n",
      "2      False\n",
      "3      False\n",
      "4      False\n",
      "       ...  \n",
      "239    False\n",
      "240    False\n",
      "241    False\n",
      "242    False\n",
      "243    False\n",
      "Name: total_bill, Length: 244, dtype: bool\n",
      "     total_bill    tip  gender smoker   day    time  size  price_per_person  \\\n",
      "11        35.26   5.00  Female     No   Sun  Dinner     4              8.82   \n",
      "23        39.42   7.58    Male     No   Sat  Dinner     4              9.86   \n",
      "39        31.27   5.00    Male     No   Sat  Dinner     3             10.42   \n",
      "44        30.40   5.60    Male     No   Sun  Dinner     4              7.60   \n",
      "47        32.40   6.00    Male     No   Sun  Dinner     4              8.10   \n",
      "52        34.81   5.20  Female     No   Sun  Dinner     4              8.70   \n",
      "56        38.01   3.00    Male    Yes   Sat  Dinner     4              9.50   \n",
      "59        48.27   6.73    Male     No   Sat  Dinner     4             12.07   \n",
      "83        32.68   5.00    Male    Yes  Thur   Lunch     2             16.34   \n",
      "85        34.83   5.17  Female     No  Thur   Lunch     4              8.71   \n",
      "95        40.17   4.73    Male    Yes   Fri  Dinner     4             10.04   \n",
      "102       44.30   2.50  Female    Yes   Sat  Dinner     3             14.77   \n",
      "112       38.07   4.00    Male     No   Sun  Dinner     3             12.69   \n",
      "141       34.30   6.70    Male     No  Thur   Lunch     6              5.72   \n",
      "142       41.19   5.00    Male     No  Thur   Lunch     5              8.24   \n",
      "156       48.17   5.00    Male     No   Sun  Dinner     6              8.03   \n",
      "167       31.71   4.50    Male     No   Sun  Dinner     4              7.93   \n",
      "170       50.81  10.00    Male    Yes   Sat  Dinner     3             16.94   \n",
      "173       31.85   3.18    Male    Yes   Sun  Dinner     2             15.92   \n",
      "175       32.90   3.11    Male    Yes   Sun  Dinner     2             16.45   \n",
      "179       34.63   3.55    Male    Yes   Sun  Dinner     2             17.32   \n",
      "180       34.65   3.68    Male    Yes   Sun  Dinner     4              8.66   \n",
      "182       45.35   3.50    Male    Yes   Sun  Dinner     3             15.12   \n",
      "184       40.55   3.00    Male    Yes   Sun  Dinner     2             20.27   \n",
      "187       30.46   2.00    Male    Yes   Sun  Dinner     5              6.09   \n",
      "197       43.11   5.00  Female    Yes  Thur   Lunch     4             10.78   \n",
      "207       38.73   3.00    Male    Yes   Sat  Dinner     4              9.68   \n",
      "210       30.06   2.00    Male    Yes   Sat  Dinner     3             10.02   \n",
      "212       48.33   9.00    Male     No   Sat  Dinner     4             12.08   \n",
      "219       30.14   3.09  Female    Yes   Sat  Dinner     4              7.54   \n",
      "237       32.83   1.17    Male    Yes   Sat  Dinner     2             16.42   \n",
      "238       35.83   4.67  Female     No   Sat  Dinner     3             11.94   \n",
      "\n",
      "                Payer Name     CC Number Payment ID  \n",
      "11            Diane Macias  4.577820e+15    Sun6686  \n",
      "23          Lance Peterson  3.542580e+15     Sat239  \n",
      "39       Mr. Brandon Berry  6.011530e+15    Sat6373  \n",
      "44             Todd Cooper  5.038470e+11    Sun2274  \n",
      "47            James Barnes  3.552000e+15    Sun9677  \n",
      "52            Emily Daniel  4.291280e+15    Sun6165  \n",
      "56   James Christensen DDS  3.497940e+14    Sat8903  \n",
      "59             Brian Ortiz  6.596450e+15    Sat8139  \n",
      "83           Daniel Murphy  5.356180e+15   Thur8801  \n",
      "85             Shawna Cook  6.011790e+15   Thur7972  \n",
      "95           Aaron Bentley  1.800270e+14    Fri9628  \n",
      "102          Heather Cohen  3.797710e+14    Sat6240  \n",
      "112             Jeff Lopez  3.572870e+15     Sun591  \n",
      "141         Steven Carlson  3.526520e+15   Thur1025  \n",
      "142           Eric Andrews  4.356530e+15   Thur3621  \n",
      "156          Ryan Gonzales  3.523150e+15    Sun7518  \n",
      "167         Michael Lawson  3.566290e+15    Sun3719  \n",
      "170          Gregory Clark  5.473850e+15    Sat1954  \n",
      "173            Scott Perez  3.577120e+15    Sun9335  \n",
      "175        Nathan Reynolds  3.703070e+14    Sun5109  \n",
      "179           Brian Bailey  3.466560e+14    Sun9851  \n",
      "180       James Hebert DDS  6.761690e+11    Sun7544  \n",
      "182           Jose Parsons  4.112210e+15    Sun2337  \n",
      "184            Stephen Cox  3.547800e+15    Sun5140  \n",
      "187          David Barrett  4.792880e+15    Sun9987  \n",
      "197            Brooke Soto  5.544900e+15   Thur9313  \n",
      "207          Ricky Ramirez  3.478180e+14    Sat4505  \n",
      "210          Shawn Mendoza  3.018400e+13    Sat8361  \n",
      "212        Alex Williamson  6.762190e+11    Sat4590  \n",
      "219           Shelby House  5.020970e+11    Sat8863  \n",
      "237           Thomas Brown  4.284720e+15    Sat2929  \n",
      "238         Kimberly Crane  6.761840e+11    Sat9777  \n"
     ]
    }
   ],
   "source": [
    "# Another syntax\n",
    "print(df.total_bill > 30)\n",
    "print(df[df.total_bill > 30])"
   ]
  },
  {
   "cell_type": "code",
   "execution_count": 55,
   "id": "34e00f95-a85d-4039-a9b2-ae62e47ba247",
   "metadata": {},
   "outputs": [
    {
     "name": "stdout",
     "output_type": "stream",
     "text": [
      "     total_bill   tip gender smoker  day    time  size  price_per_person  \\\n",
      "1         10.34  1.66   Male     No  Sun  Dinner     3              3.45   \n",
      "2         21.01  3.50   Male     No  Sun  Dinner     3              7.00   \n",
      "3         23.68  3.31   Male     No  Sun  Dinner     2             11.84   \n",
      "5         25.29  4.71   Male     No  Sun  Dinner     4              6.32   \n",
      "6          8.77  2.00   Male     No  Sun  Dinner     2              4.38   \n",
      "..          ...   ...    ...    ...  ...     ...   ...               ...   \n",
      "236       12.60  1.00   Male    Yes  Sat  Dinner     2              6.30   \n",
      "237       32.83  1.17   Male    Yes  Sat  Dinner     2             16.42   \n",
      "239       29.03  5.92   Male     No  Sat  Dinner     3              9.68   \n",
      "241       22.67  2.00   Male    Yes  Sat  Dinner     2             11.34   \n",
      "242       17.82  1.75   Male     No  Sat  Dinner     2              8.91   \n",
      "\n",
      "             Payer Name     CC Number Payment ID  \n",
      "1        Douglas Tucker  4.478070e+15    Sun4608  \n",
      "2        Travis Walters  6.011810e+15    Sun4458  \n",
      "3      Nathaniel Harris  4.676140e+15    Sun5260  \n",
      "5            Erik Smith  2.131400e+14    Sun9679  \n",
      "6    Kristopher Johnson  2.223730e+15    Sun5985  \n",
      "..                  ...           ...        ...  \n",
      "236       Matthew Myers  3.543680e+15    Sat5032  \n",
      "237        Thomas Brown  4.284720e+15    Sat2929  \n",
      "239       Michael Avila  5.296070e+15    Sat2657  \n",
      "241          Keith Wong  6.011890e+15    Sat3880  \n",
      "242        Dennis Dixon  4.375220e+12      Sat17  \n",
      "\n",
      "[157 rows x 11 columns]\n"
     ]
    }
   ],
   "source": [
    "print(df[df['gender'] == 'Male'])"
   ]
  },
  {
   "cell_type": "code",
   "execution_count": 56,
   "id": "c06aa267-fc8e-421e-97f4-7617b0fa2c78",
   "metadata": {},
   "outputs": [
    {
     "name": "stdout",
     "output_type": "stream",
     "text": [
      "     total_bill    tip gender smoker   day    time  size  price_per_person  \\\n",
      "23        39.42   7.58   Male     No   Sat  Dinner     4              9.86   \n",
      "39        31.27   5.00   Male     No   Sat  Dinner     3             10.42   \n",
      "44        30.40   5.60   Male     No   Sun  Dinner     4              7.60   \n",
      "47        32.40   6.00   Male     No   Sun  Dinner     4              8.10   \n",
      "56        38.01   3.00   Male    Yes   Sat  Dinner     4              9.50   \n",
      "59        48.27   6.73   Male     No   Sat  Dinner     4             12.07   \n",
      "83        32.68   5.00   Male    Yes  Thur   Lunch     2             16.34   \n",
      "95        40.17   4.73   Male    Yes   Fri  Dinner     4             10.04   \n",
      "112       38.07   4.00   Male     No   Sun  Dinner     3             12.69   \n",
      "141       34.30   6.70   Male     No  Thur   Lunch     6              5.72   \n",
      "142       41.19   5.00   Male     No  Thur   Lunch     5              8.24   \n",
      "156       48.17   5.00   Male     No   Sun  Dinner     6              8.03   \n",
      "167       31.71   4.50   Male     No   Sun  Dinner     4              7.93   \n",
      "170       50.81  10.00   Male    Yes   Sat  Dinner     3             16.94   \n",
      "173       31.85   3.18   Male    Yes   Sun  Dinner     2             15.92   \n",
      "175       32.90   3.11   Male    Yes   Sun  Dinner     2             16.45   \n",
      "179       34.63   3.55   Male    Yes   Sun  Dinner     2             17.32   \n",
      "180       34.65   3.68   Male    Yes   Sun  Dinner     4              8.66   \n",
      "182       45.35   3.50   Male    Yes   Sun  Dinner     3             15.12   \n",
      "184       40.55   3.00   Male    Yes   Sun  Dinner     2             20.27   \n",
      "187       30.46   2.00   Male    Yes   Sun  Dinner     5              6.09   \n",
      "207       38.73   3.00   Male    Yes   Sat  Dinner     4              9.68   \n",
      "210       30.06   2.00   Male    Yes   Sat  Dinner     3             10.02   \n",
      "212       48.33   9.00   Male     No   Sat  Dinner     4             12.08   \n",
      "237       32.83   1.17   Male    Yes   Sat  Dinner     2             16.42   \n",
      "\n",
      "                Payer Name     CC Number Payment ID  \n",
      "23          Lance Peterson  3.542580e+15     Sat239  \n",
      "39       Mr. Brandon Berry  6.011530e+15    Sat6373  \n",
      "44             Todd Cooper  5.038470e+11    Sun2274  \n",
      "47            James Barnes  3.552000e+15    Sun9677  \n",
      "56   James Christensen DDS  3.497940e+14    Sat8903  \n",
      "59             Brian Ortiz  6.596450e+15    Sat8139  \n",
      "83           Daniel Murphy  5.356180e+15   Thur8801  \n",
      "95           Aaron Bentley  1.800270e+14    Fri9628  \n",
      "112             Jeff Lopez  3.572870e+15     Sun591  \n",
      "141         Steven Carlson  3.526520e+15   Thur1025  \n",
      "142           Eric Andrews  4.356530e+15   Thur3621  \n",
      "156          Ryan Gonzales  3.523150e+15    Sun7518  \n",
      "167         Michael Lawson  3.566290e+15    Sun3719  \n",
      "170          Gregory Clark  5.473850e+15    Sat1954  \n",
      "173            Scott Perez  3.577120e+15    Sun9335  \n",
      "175        Nathan Reynolds  3.703070e+14    Sun5109  \n",
      "179           Brian Bailey  3.466560e+14    Sun9851  \n",
      "180       James Hebert DDS  6.761690e+11    Sun7544  \n",
      "182           Jose Parsons  4.112210e+15    Sun2337  \n",
      "184            Stephen Cox  3.547800e+15    Sun5140  \n",
      "187          David Barrett  4.792880e+15    Sun9987  \n",
      "207          Ricky Ramirez  3.478180e+14    Sat4505  \n",
      "210          Shawn Mendoza  3.018400e+13    Sat8361  \n",
      "212        Alex Williamson  6.762190e+11    Sat4590  \n",
      "237           Thomas Brown  4.284720e+15    Sat2929  \n"
     ]
    }
   ],
   "source": [
    "# Multiple conditions\n",
    "df_new = df[(df['total_bill'] > 30) & (df['gender']=='Male')]\n",
    "print(df_new)"
   ]
  },
  {
   "cell_type": "code",
   "execution_count": 57,
   "id": "cc345903-ab13-4065-beb9-34e32d750bd7",
   "metadata": {},
   "outputs": [
    {
     "name": "stdout",
     "output_type": "stream",
     "text": [
      "     total_bill   tip  gender smoker   day    time  size  price_per_person  \\\n",
      "11        35.26  5.00  Female     No   Sun  Dinner     4              8.82   \n",
      "52        34.81  5.20  Female     No   Sun  Dinner     4              8.70   \n",
      "85        34.83  5.17  Female     No  Thur   Lunch     4              8.71   \n",
      "102       44.30  2.50  Female    Yes   Sat  Dinner     3             14.77   \n",
      "197       43.11  5.00  Female    Yes  Thur   Lunch     4             10.78   \n",
      "219       30.14  3.09  Female    Yes   Sat  Dinner     4              7.54   \n",
      "238       35.83  4.67  Female     No   Sat  Dinner     3             11.94   \n",
      "\n",
      "         Payer Name     CC Number Payment ID  \n",
      "11     Diane Macias  4.577820e+15    Sun6686  \n",
      "52     Emily Daniel  4.291280e+15    Sun6165  \n",
      "85      Shawna Cook  6.011790e+15   Thur7972  \n",
      "102   Heather Cohen  3.797710e+14    Sat6240  \n",
      "197     Brooke Soto  5.544900e+15   Thur9313  \n",
      "219    Shelby House  5.020970e+11    Sat8863  \n",
      "238  Kimberly Crane  6.761840e+11    Sat9777  \n"
     ]
    }
   ],
   "source": [
    "df_new = df[(df['total_bill'] > 30) & ~(df['gender']=='Male')]\n",
    "print(df_new)"
   ]
  },
  {
   "cell_type": "code",
   "execution_count": 58,
   "id": "226e4167-a7c5-46e7-9262-3ccdab0502fb",
   "metadata": {},
   "outputs": [
    {
     "name": "stdout",
     "output_type": "stream",
     "text": [
      "     total_bill   tip  gender smoker   day    time  size  price_per_person  \\\n",
      "11        35.26  5.00  Female     No   Sun  Dinner     4              8.82   \n",
      "52        34.81  5.20  Female     No   Sun  Dinner     4              8.70   \n",
      "85        34.83  5.17  Female     No  Thur   Lunch     4              8.71   \n",
      "102       44.30  2.50  Female    Yes   Sat  Dinner     3             14.77   \n",
      "197       43.11  5.00  Female    Yes  Thur   Lunch     4             10.78   \n",
      "219       30.14  3.09  Female    Yes   Sat  Dinner     4              7.54   \n",
      "238       35.83  4.67  Female     No   Sat  Dinner     3             11.94   \n",
      "\n",
      "         Payer Name     CC Number Payment ID  \n",
      "11     Diane Macias  4.577820e+15    Sun6686  \n",
      "52     Emily Daniel  4.291280e+15    Sun6165  \n",
      "85      Shawna Cook  6.011790e+15   Thur7972  \n",
      "102   Heather Cohen  3.797710e+14    Sat6240  \n",
      "197     Brooke Soto  5.544900e+15   Thur9313  \n",
      "219    Shelby House  5.020970e+11    Sat8863  \n",
      "238  Kimberly Crane  6.761840e+11    Sat9777  \n"
     ]
    }
   ],
   "source": [
    "df_new = df[(df['total_bill'] > 30) & (df['gender']!='Male')]\n",
    "print(df_new)"
   ]
  },
  {
   "cell_type": "code",
   "execution_count": 59,
   "id": "16323972-aceb-4edd-87b1-26f3da963303",
   "metadata": {},
   "outputs": [
    {
     "name": "stdout",
     "output_type": "stream",
     "text": [
      "     total_bill    tip  gender smoker   day    time  size  price_per_person  \\\n",
      "11        35.26   5.00  Female     No   Sun  Dinner     4              8.82   \n",
      "23        39.42   7.58    Male     No   Sat  Dinner     4              9.86   \n",
      "39        31.27   5.00    Male     No   Sat  Dinner     3             10.42   \n",
      "44        30.40   5.60    Male     No   Sun  Dinner     4              7.60   \n",
      "47        32.40   6.00    Male     No   Sun  Dinner     4              8.10   \n",
      "52        34.81   5.20  Female     No   Sun  Dinner     4              8.70   \n",
      "56        38.01   3.00    Male    Yes   Sat  Dinner     4              9.50   \n",
      "59        48.27   6.73    Male     No   Sat  Dinner     4             12.07   \n",
      "83        32.68   5.00    Male    Yes  Thur   Lunch     2             16.34   \n",
      "85        34.83   5.17  Female     No  Thur   Lunch     4              8.71   \n",
      "88        24.71   5.85    Male     No  Thur   Lunch     2             12.36   \n",
      "95        40.17   4.73    Male    Yes   Fri  Dinner     4             10.04   \n",
      "102       44.30   2.50  Female    Yes   Sat  Dinner     3             14.77   \n",
      "112       38.07   4.00    Male     No   Sun  Dinner     3             12.69   \n",
      "116       29.93   5.07    Male     No   Sun  Dinner     4              7.48   \n",
      "141       34.30   6.70    Male     No  Thur   Lunch     6              5.72   \n",
      "142       41.19   5.00    Male     No  Thur   Lunch     5              8.24   \n",
      "155       29.85   5.14  Female     No   Sun  Dinner     5              5.97   \n",
      "156       48.17   5.00    Male     No   Sun  Dinner     6              8.03   \n",
      "167       31.71   4.50    Male     No   Sun  Dinner     4              7.93   \n",
      "170       50.81  10.00    Male    Yes   Sat  Dinner     3             16.94   \n",
      "172        7.25   5.15    Male    Yes   Sun  Dinner     2              3.62   \n",
      "173       31.85   3.18    Male    Yes   Sun  Dinner     2             15.92   \n",
      "175       32.90   3.11    Male    Yes   Sun  Dinner     2             16.45   \n",
      "179       34.63   3.55    Male    Yes   Sun  Dinner     2             17.32   \n",
      "180       34.65   3.68    Male    Yes   Sun  Dinner     4              8.66   \n",
      "181       23.33   5.65    Male    Yes   Sun  Dinner     2             11.66   \n",
      "182       45.35   3.50    Male    Yes   Sun  Dinner     3             15.12   \n",
      "183       23.17   6.50    Male    Yes   Sun  Dinner     4              5.79   \n",
      "184       40.55   3.00    Male    Yes   Sun  Dinner     2             20.27   \n",
      "187       30.46   2.00    Male    Yes   Sun  Dinner     5              6.09   \n",
      "197       43.11   5.00  Female    Yes  Thur   Lunch     4             10.78   \n",
      "207       38.73   3.00    Male    Yes   Sat  Dinner     4              9.68   \n",
      "210       30.06   2.00    Male    Yes   Sat  Dinner     3             10.02   \n",
      "211       25.89   5.16    Male    Yes   Sat  Dinner     4              6.47   \n",
      "212       48.33   9.00    Male     No   Sat  Dinner     4             12.08   \n",
      "214       28.17   6.50  Female    Yes   Sat  Dinner     3              9.39   \n",
      "219       30.14   3.09  Female    Yes   Sat  Dinner     4              7.54   \n",
      "237       32.83   1.17    Male    Yes   Sat  Dinner     2             16.42   \n",
      "238       35.83   4.67  Female     No   Sat  Dinner     3             11.94   \n",
      "239       29.03   5.92    Male     No   Sat  Dinner     3              9.68   \n",
      "\n",
      "                Payer Name     CC Number Payment ID  \n",
      "11            Diane Macias  4.577820e+15    Sun6686  \n",
      "23          Lance Peterson  3.542580e+15     Sat239  \n",
      "39       Mr. Brandon Berry  6.011530e+15    Sat6373  \n",
      "44             Todd Cooper  5.038470e+11    Sun2274  \n",
      "47            James Barnes  3.552000e+15    Sun9677  \n",
      "52            Emily Daniel  4.291280e+15    Sun6165  \n",
      "56   James Christensen DDS  3.497940e+14    Sat8903  \n",
      "59             Brian Ortiz  6.596450e+15    Sat8139  \n",
      "83           Daniel Murphy  5.356180e+15   Thur8801  \n",
      "85             Shawna Cook  6.011790e+15   Thur7972  \n",
      "88            Roger Taylor  4.410250e+12   Thur9003  \n",
      "95           Aaron Bentley  1.800270e+14    Fri9628  \n",
      "102          Heather Cohen  3.797710e+14    Sat6240  \n",
      "112             Jeff Lopez  3.572870e+15     Sun591  \n",
      "116            Shawn Blake  4.689080e+15      Sun22  \n",
      "141         Steven Carlson  3.526520e+15   Thur1025  \n",
      "142           Eric Andrews  4.356530e+15   Thur3621  \n",
      "155         Madison Wilson  4.210880e+15    Sun9176  \n",
      "156          Ryan Gonzales  3.523150e+15    Sun7518  \n",
      "167         Michael Lawson  3.566290e+15    Sun3719  \n",
      "170          Gregory Clark  5.473850e+15    Sat1954  \n",
      "172            Larry White  3.043260e+13    Sun9209  \n",
      "173            Scott Perez  3.577120e+15    Sun9335  \n",
      "175        Nathan Reynolds  3.703070e+14    Sun5109  \n",
      "179           Brian Bailey  3.466560e+14    Sun9851  \n",
      "180       James Hebert DDS  6.761690e+11    Sun7544  \n",
      "181              Jason Cox  6.556930e+15    Sun3402  \n",
      "182           Jose Parsons  4.112210e+15    Sun2337  \n",
      "183      Dr. Michael James  4.718500e+12    Sun6059  \n",
      "184            Stephen Cox  3.547800e+15    Sun5140  \n",
      "187          David Barrett  4.792880e+15    Sun9987  \n",
      "197            Brooke Soto  5.544900e+15   Thur9313  \n",
      "207          Ricky Ramirez  3.478180e+14    Sat4505  \n",
      "210          Shawn Mendoza  3.018400e+13    Sat8361  \n",
      "211         Christopher Li  6.011960e+15    Sat6735  \n",
      "212        Alex Williamson  6.762190e+11    Sat4590  \n",
      "214        Marissa Jackson  4.922300e+15    Sat3374  \n",
      "219           Shelby House  5.020970e+11    Sat8863  \n",
      "237           Thomas Brown  4.284720e+15    Sat2929  \n",
      "238         Kimberly Crane  6.761840e+11    Sat9777  \n",
      "239          Michael Avila  5.296070e+15    Sat2657  \n"
     ]
    }
   ],
   "source": [
    "df_new = df[(df['total_bill'] > 30) | (df['tip'] > 5)]\n",
    "print(df_new)"
   ]
  },
  {
   "cell_type": "code",
   "execution_count": 60,
   "id": "2f5428eb-836f-4c20-97c0-d244049bca22",
   "metadata": {},
   "outputs": [
    {
     "name": "stdout",
     "output_type": "stream",
     "text": [
      "0       True\n",
      "1       True\n",
      "2       True\n",
      "3       True\n",
      "4       True\n",
      "       ...  \n",
      "239     True\n",
      "240     True\n",
      "241     True\n",
      "242     True\n",
      "243    False\n",
      "Name: day, Length: 244, dtype: bool\n",
      "     total_bill   tip  gender smoker  day    time  size  price_per_person  \\\n",
      "0         16.99  1.01  Female     No  Sun  Dinner     2              8.49   \n",
      "1         10.34  1.66    Male     No  Sun  Dinner     3              3.45   \n",
      "2         21.01  3.50    Male     No  Sun  Dinner     3              7.00   \n",
      "3         23.68  3.31    Male     No  Sun  Dinner     2             11.84   \n",
      "4         24.59  3.61  Female     No  Sun  Dinner     4              6.15   \n",
      "..          ...   ...     ...    ...  ...     ...   ...               ...   \n",
      "238       35.83  4.67  Female     No  Sat  Dinner     3             11.94   \n",
      "239       29.03  5.92    Male     No  Sat  Dinner     3              9.68   \n",
      "240       27.18  2.00  Female    Yes  Sat  Dinner     2             13.59   \n",
      "241       22.67  2.00    Male    Yes  Sat  Dinner     2             11.34   \n",
      "242       17.82  1.75    Male     No  Sat  Dinner     2              8.91   \n",
      "\n",
      "             Payer Name     CC Number Payment ID  \n",
      "0    Christy Cunningham  3.560330e+15    Sun2959  \n",
      "1        Douglas Tucker  4.478070e+15    Sun4608  \n",
      "2        Travis Walters  6.011810e+15    Sun4458  \n",
      "3      Nathaniel Harris  4.676140e+15    Sun5260  \n",
      "4          Tonya Carter  4.832730e+15    Sun2251  \n",
      "..                  ...           ...        ...  \n",
      "238      Kimberly Crane  6.761840e+11    Sat9777  \n",
      "239       Michael Avila  5.296070e+15    Sat2657  \n",
      "240      Monica Sanders  3.506810e+15    Sat1766  \n",
      "241          Keith Wong  6.011890e+15    Sat3880  \n",
      "242        Dennis Dixon  4.375220e+12      Sat17  \n",
      "\n",
      "[163 rows x 11 columns]\n"
     ]
    }
   ],
   "source": [
    "# Conditional is in operator\n",
    "options = ['Sat','Sun']\n",
    "print(df['day'].isin(options))\n",
    "\n",
    "print(df[df['day'].isin(['Sat','Sun'])])"
   ]
  },
  {
   "cell_type": "code",
   "execution_count": null,
   "id": "647c231c-8af1-49d4-9f60-52927985cd32",
   "metadata": {},
   "outputs": [],
   "source": []
  },
  {
   "cell_type": "markdown",
   "id": "f354ebb9-3e86-47f0-94cd-cc93e35e0ef6",
   "metadata": {},
   "source": [
    "## Useful Methods"
   ]
  },
  {
   "cell_type": "code",
   "execution_count": 61,
   "id": "d60e6437-5b2d-4b6d-b4f7-1f42ae01f631",
   "metadata": {},
   "outputs": [
    {
     "name": "stdout",
     "output_type": "stream",
     "text": [
      "   total_bill   tip  gender smoker  day    time  size  price_per_person  \\\n",
      "0       16.99  1.01  Female     No  Sun  Dinner     2              8.49   \n",
      "1       10.34  1.66    Male     No  Sun  Dinner     3              3.45   \n",
      "2       21.01  3.50    Male     No  Sun  Dinner     3              7.00   \n",
      "3       23.68  3.31    Male     No  Sun  Dinner     2             11.84   \n",
      "4       24.59  3.61  Female     No  Sun  Dinner     4              6.15   \n",
      "\n",
      "           Payer Name     CC Number Payment ID  \n",
      "0  Christy Cunningham  3.560330e+15    Sun2959  \n",
      "1      Douglas Tucker  4.478070e+15    Sun4608  \n",
      "2      Travis Walters  6.011810e+15    Sun4458  \n",
      "3    Nathaniel Harris  4.676140e+15    Sun5260  \n",
      "4        Tonya Carter  4.832730e+15    Sun2251  \n"
     ]
    }
   ],
   "source": [
    "df = pd.read_csv('tips.csv')\n",
    "print(df.head())"
   ]
  },
  {
   "cell_type": "code",
   "execution_count": 62,
   "id": "dc787dfa-66b4-4a2c-a101-e005b0f79b47",
   "metadata": {},
   "outputs": [
    {
     "name": "stdout",
     "output_type": "stream",
     "text": [
      "<class 'pandas.core.frame.DataFrame'>\n",
      "RangeIndex: 244 entries, 0 to 243\n",
      "Data columns (total 11 columns):\n",
      " #   Column            Non-Null Count  Dtype  \n",
      "---  ------            --------------  -----  \n",
      " 0   total_bill        244 non-null    float64\n",
      " 1   tip               244 non-null    float64\n",
      " 2   gender            244 non-null    object \n",
      " 3   smoker            244 non-null    object \n",
      " 4   day               244 non-null    object \n",
      " 5   time              244 non-null    object \n",
      " 6   size              244 non-null    int64  \n",
      " 7   price_per_person  244 non-null    float64\n",
      " 8   Payer Name        244 non-null    object \n",
      " 9   CC Number         244 non-null    float64\n",
      " 10  Payment ID        244 non-null    object \n",
      "dtypes: float64(4), int64(1), object(6)\n",
      "memory usage: 21.1+ KB\n",
      "None\n",
      "3560330000000000.0\n",
      "3410\n"
     ]
    }
   ],
   "source": [
    "# apply function\n",
    "print(df.info())\n",
    "\n",
    "def last_four(num):\n",
    "    return str(num)[-4:]\n",
    "\n",
    "print(df['CC Number'][0])\n",
    "\n",
    "print(last_four(3560325168603410))\n",
    "\n",
    "df['last_four'] = df['CC Number'].apply(last_four)"
   ]
  },
  {
   "cell_type": "code",
   "execution_count": 63,
   "id": "d79343a6-6706-4c58-9671-7664f44f37a6",
   "metadata": {},
   "outputs": [
    {
     "name": "stdout",
     "output_type": "stream",
     "text": [
      "19.78594262295082\n",
      "<bound method NDFrame.head of      total_bill   tip  gender smoker   day    time  size  price_per_person  \\\n",
      "0         16.99  1.01  Female     No   Sun  Dinner     2              8.49   \n",
      "1         10.34  1.66    Male     No   Sun  Dinner     3              3.45   \n",
      "2         21.01  3.50    Male     No   Sun  Dinner     3              7.00   \n",
      "3         23.68  3.31    Male     No   Sun  Dinner     2             11.84   \n",
      "4         24.59  3.61  Female     No   Sun  Dinner     4              6.15   \n",
      "..          ...   ...     ...    ...   ...     ...   ...               ...   \n",
      "239       29.03  5.92    Male     No   Sat  Dinner     3              9.68   \n",
      "240       27.18  2.00  Female    Yes   Sat  Dinner     2             13.59   \n",
      "241       22.67  2.00    Male    Yes   Sat  Dinner     2             11.34   \n",
      "242       17.82  1.75    Male     No   Sat  Dinner     2              8.91   \n",
      "243       18.78  3.00  Female     No  Thur  Dinner     2              9.39   \n",
      "\n",
      "             Payer Name     CC Number Payment ID last_four Expensive  \n",
      "0    Christy Cunningham  3.560330e+15    Sun2959      00.0        $$  \n",
      "1        Douglas Tucker  4.478070e+15    Sun4608      00.0        $$  \n",
      "2        Travis Walters  6.011810e+15    Sun4458      00.0        $$  \n",
      "3      Nathaniel Harris  4.676140e+15    Sun5260      00.0        $$  \n",
      "4          Tonya Carter  4.832730e+15    Sun2251      00.0        $$  \n",
      "..                  ...           ...        ...       ...       ...  \n",
      "239       Michael Avila  5.296070e+15    Sat2657      00.0        $$  \n",
      "240      Monica Sanders  3.506810e+15    Sat1766      00.0        $$  \n",
      "241          Keith Wong  6.011890e+15    Sat3880      00.0        $$  \n",
      "242        Dennis Dixon  4.375220e+12      Sat17      00.0        $$  \n",
      "243     Michelle Hardin  3.511450e+15    Thur672      00.0        $$  \n",
      "\n",
      "[244 rows x 13 columns]>\n"
     ]
    }
   ],
   "source": [
    "# More complex use of apply()\n",
    "print(df['total_bill'].mean())\n",
    "\n",
    "def yelp(price):\n",
    "    if price < 10:\n",
    "        return '$'\n",
    "    elif price >= 10 and price < 30:\n",
    "        return '$$'\n",
    "    else:\n",
    "        return '$$$'\n",
    "\n",
    "df['Expensive'] = df['total_bill'].apply(yelp)\n",
    "print(df.head)"
   ]
  },
  {
   "cell_type": "code",
   "execution_count": 64,
   "id": "01818940-a4f3-4530-ac48-fd0bc68d2d09",
   "metadata": {},
   "outputs": [
    {
     "data": {
      "text/plain": [
       "'\\nadd a new column Tip_Quality\\nApply a Lambda function to all the rows (because axis = 1)\\nFor each row, calculate Tip_Quality using the quality() function above\\n'"
      ]
     },
     "execution_count": 64,
     "metadata": {},
     "output_type": "execute_result"
    }
   ],
   "source": [
    "# apply on multiple columns\n",
    "\n",
    "def quality(total_bill,tip):\n",
    "    if tip/total_bill  > 0.25:\n",
    "        return \"Generous\"\n",
    "    else:\n",
    "        return \"Other\"\n",
    "'''\n",
    "add a new column Tip_Quality\n",
    "Apply a Lambda function to all the rows (because axis = 1)\n",
    "For each row, calculate Tip_Quality using the quality() function above\n",
    "'''"
   ]
  },
  {
   "cell_type": "code",
   "execution_count": 65,
   "id": "4c94e508-e962-4f57-8c1d-1ae29e5bf8ae",
   "metadata": {},
   "outputs": [
    {
     "name": "stdout",
     "output_type": "stream",
     "text": [
      "   total_bill   tip  gender smoker  day    time  size  price_per_person  \\\n",
      "0       16.99  1.01  Female     No  Sun  Dinner     2              8.49   \n",
      "1       10.34  1.66    Male     No  Sun  Dinner     3              3.45   \n",
      "2       21.01  3.50    Male     No  Sun  Dinner     3              7.00   \n",
      "3       23.68  3.31    Male     No  Sun  Dinner     2             11.84   \n",
      "4       24.59  3.61  Female     No  Sun  Dinner     4              6.15   \n",
      "\n",
      "           Payer Name     CC Number Payment ID last_four Expensive Tip Quality  \n",
      "0  Christy Cunningham  3.560330e+15    Sun2959      00.0        $$       Other  \n",
      "1      Douglas Tucker  4.478070e+15    Sun4608      00.0        $$       Other  \n",
      "2      Travis Walters  6.011810e+15    Sun4458      00.0        $$       Other  \n",
      "3    Nathaniel Harris  4.676140e+15    Sun5260      00.0        $$       Other  \n",
      "4        Tonya Carter  4.832730e+15    Sun2251      00.0        $$       Other  \n"
     ]
    }
   ],
   "source": [
    "df['Tip Quality'] = df[['total_bill','tip']].apply(lambda df: quality(df['total_bill'],df['tip']),axis=1)\n",
    "print(df.head())"
   ]
  },
  {
   "cell_type": "code",
   "execution_count": 66,
   "id": "2f2b6e0b-c39c-4d19-898f-934c19ec5dcf",
   "metadata": {},
   "outputs": [
    {
     "name": "stdout",
     "output_type": "stream",
     "text": [
      "     total_bill    tip  gender smoker   day    time  size  price_per_person  \\\n",
      "92         5.75   1.00  Female    Yes   Fri  Dinner     2              2.88   \n",
      "111        7.25   1.00  Female     No   Sat  Dinner     1              7.25   \n",
      "67         3.07   1.00  Female    Yes   Sat  Dinner     1              3.07   \n",
      "236       12.60   1.00    Male    Yes   Sat  Dinner     2              6.30   \n",
      "0         16.99   1.01  Female     No   Sun  Dinner     2              8.49   \n",
      "..          ...    ...     ...    ...   ...     ...   ...               ...   \n",
      "141       34.30   6.70    Male     No  Thur   Lunch     6              5.72   \n",
      "59        48.27   6.73    Male     No   Sat  Dinner     4             12.07   \n",
      "23        39.42   7.58    Male     No   Sat  Dinner     4              9.86   \n",
      "212       48.33   9.00    Male     No   Sat  Dinner     4             12.08   \n",
      "170       50.81  10.00    Male    Yes   Sat  Dinner     3             16.94   \n",
      "\n",
      "             Payer Name     CC Number Payment ID last_four Expensive  \\\n",
      "92         Leah Ramirez  3.508910e+15    Fri3780      00.0         $   \n",
      "111         Terri Jones  3.559220e+15    Sat4801      00.0         $   \n",
      "67        Tiffany Brock  4.359490e+15    Sat3455      00.0         $   \n",
      "236       Matthew Myers  3.543680e+15    Sat5032      00.0        $$   \n",
      "0    Christy Cunningham  3.560330e+15    Sun2959      00.0        $$   \n",
      "..                  ...           ...        ...       ...       ...   \n",
      "141      Steven Carlson  3.526520e+15   Thur1025      00.0       $$$   \n",
      "59          Brian Ortiz  6.596450e+15    Sat8139      00.0       $$$   \n",
      "23       Lance Peterson  3.542580e+15     Sat239      00.0       $$$   \n",
      "212     Alex Williamson  6.762190e+11    Sat4590      00.0       $$$   \n",
      "170       Gregory Clark  5.473850e+15    Sat1954      00.0       $$$   \n",
      "\n",
      "    Tip Quality  \n",
      "92        Other  \n",
      "111       Other  \n",
      "67     Generous  \n",
      "236       Other  \n",
      "0         Other  \n",
      "..          ...  \n",
      "141       Other  \n",
      "59        Other  \n",
      "23        Other  \n",
      "212       Other  \n",
      "170       Other  \n",
      "\n",
      "[244 rows x 14 columns]\n"
     ]
    }
   ],
   "source": [
    "# sort_values\n",
    "print(df.sort_values('tip'))"
   ]
  },
  {
   "cell_type": "code",
   "execution_count": 67,
   "id": "bf344644-8d24-42f4-90bd-07550020854d",
   "metadata": {},
   "outputs": [
    {
     "name": "stdout",
     "output_type": "stream",
     "text": [
      "            total_bill       tip\n",
      "total_bill    1.000000  0.675734\n",
      "tip           0.675734  1.000000\n"
     ]
    }
   ],
   "source": [
    "# correlation\n",
    "print(df[['total_bill','tip']].corr())"
   ]
  },
  {
   "cell_type": "code",
   "execution_count": 68,
   "id": "17fa58a4-3821-45fd-a636-21b0412013ff",
   "metadata": {},
   "outputs": [
    {
     "name": "stdout",
     "output_type": "stream",
     "text": [
      "   total_bill   tip  gender smoker  day    time  size  price_per_person  \\\n",
      "0       16.99  1.01  Female     No  Sun  Dinner     2              8.49   \n",
      "1       10.34  1.66    Male     No  Sun  Dinner     3              3.45   \n",
      "2       21.01  3.50    Male     No  Sun  Dinner     3              7.00   \n",
      "3       23.68  3.31    Male     No  Sun  Dinner     2             11.84   \n",
      "4       24.59  3.61  Female     No  Sun  Dinner     4              6.15   \n",
      "\n",
      "           Payer Name     CC Number Payment ID last_four Expensive Tip Quality  \n",
      "0  Christy Cunningham  3.560330e+15    Sun2959      00.0        $$       Other  \n",
      "1      Douglas Tucker  4.478070e+15    Sun4608      00.0        $$       Other  \n",
      "2      Travis Walters  6.011810e+15    Sun4458      00.0        $$       Other  \n",
      "3    Nathaniel Harris  4.676140e+15    Sun5260      00.0        $$       Other  \n",
      "4        Tonya Carter  4.832730e+15    Sun2251      00.0        $$       Other  \n",
      "50.81\n",
      "170\n",
      "67\n"
     ]
    }
   ],
   "source": [
    "# idxmin and idxmax\n",
    "print(df.head())\n",
    "\n",
    "print(df['total_bill'].max())\n",
    "print(df['total_bill'].idxmax())\n",
    "print(df['total_bill'].idxmin())"
   ]
  },
  {
   "cell_type": "code",
   "execution_count": 69,
   "id": "78b66796-389a-4cfb-be31-d9d04424321f",
   "metadata": {},
   "outputs": [
    {
     "name": "stdout",
     "output_type": "stream",
     "text": [
      "total_bill                        3.07\n",
      "tip                                1.0\n",
      "gender                          Female\n",
      "smoker                             Yes\n",
      "day                                Sat\n",
      "time                            Dinner\n",
      "size                                 1\n",
      "price_per_person                  3.07\n",
      "Payer Name               Tiffany Brock\n",
      "CC Number           4359490000000000.0\n",
      "Payment ID                     Sat3455\n",
      "last_four                         00.0\n",
      "Expensive                            $\n",
      "Tip Quality                   Generous\n",
      "Name: 67, dtype: object\n",
      "total_bill                       50.81\n",
      "tip                               10.0\n",
      "gender                            Male\n",
      "smoker                             Yes\n",
      "day                                Sat\n",
      "time                            Dinner\n",
      "size                                 3\n",
      "price_per_person                 16.94\n",
      "Payer Name               Gregory Clark\n",
      "CC Number           5473850000000000.0\n",
      "Payment ID                     Sat1954\n",
      "last_four                         00.0\n",
      "Expensive                          $$$\n",
      "Tip Quality                      Other\n",
      "Name: 170, dtype: object\n"
     ]
    }
   ],
   "source": [
    "print(df.iloc[67])\n",
    "print(df.iloc[170])"
   ]
  },
  {
   "cell_type": "code",
   "execution_count": 70,
   "id": "ef3f337c-7d7a-4572-abcd-652921cbbaec",
   "metadata": {},
   "outputs": [
    {
     "name": "stdout",
     "output_type": "stream",
     "text": [
      "smoker\n",
      "No     151\n",
      "Yes     93\n",
      "Name: count, dtype: int64\n",
      "gender\n",
      "Male      157\n",
      "Female     87\n",
      "Name: count, dtype: int64\n"
     ]
    }
   ],
   "source": [
    "# value_counts - get count on categorical columns\n",
    "print(df['smoker'].value_counts())   # Smokers and non-smokers\n",
    "print(df['gender'].value_counts())   # Males and Females"
   ]
  },
  {
   "cell_type": "code",
   "execution_count": 71,
   "id": "73fac9b4-5c9c-492e-88fa-9906980b42cd",
   "metadata": {},
   "outputs": [
    {
     "name": "stdout",
     "output_type": "stream",
     "text": [
      "   total_bill   tip  gender smoker  day    time  size  price_per_person  \\\n",
      "0       16.99  1.01  Female     No  Sun  Dinner     2              8.49   \n",
      "1       10.34  1.66    Male     No  Sun  Dinner     3              3.45   \n",
      "2       21.01  3.50    Male     No  Sun  Dinner     3              7.00   \n",
      "3       23.68  3.31    Male     No  Sun  Dinner     2             11.84   \n",
      "4       24.59  3.61  Female     No  Sun  Dinner     4              6.15   \n",
      "\n",
      "           Payer Name     CC Number Payment ID last_four Expensive Tip Quality  \n",
      "0  Christy Cunningham  3.560330e+15    Sun2959      00.0        $$       Other  \n",
      "1      Douglas Tucker  4.478070e+15    Sun4608      00.0        $$       Other  \n",
      "2      Travis Walters  6.011810e+15    Sun4458      00.0        $$       Other  \n",
      "3    Nathaniel Harris  4.676140e+15    Sun5260      00.0        $$       Other  \n",
      "4        Tonya Carter  4.832730e+15    Sun2251      00.0        $$       Other  \n",
      "   total_bill   tip  gender smoker  day    time  size  price_per_person  \\\n",
      "0       16.99  1.01  Female     No  Sun  Dinner     2              8.49   \n",
      "1       10.34  1.66    Male     No  Sun  Dinner     3              3.45   \n",
      "2       21.01  3.50    Male     No  Sun  Dinner     3              7.00   \n",
      "3       23.68  3.31    Male     No  Sun  Dinner     2             11.84   \n",
      "4       24.59  3.61  Female     No  Sun  Dinner     4              6.15   \n",
      "\n",
      "           Payer Name     CC Number Payment ID last_four Expensive Tip Quality  \n",
      "0  Christy Cunningham  3.560330e+15    Sun2959      00.0        $$          Ok  \n",
      "1      Douglas Tucker  4.478070e+15    Sun4608      00.0        $$          Ok  \n",
      "2      Travis Walters  6.011810e+15    Sun4458      00.0        $$          Ok  \n",
      "3    Nathaniel Harris  4.676140e+15    Sun5260      00.0        $$          Ok  \n",
      "4        Tonya Carter  4.832730e+15    Sun2251      00.0        $$          Ok  \n"
     ]
    }
   ],
   "source": [
    "# replace one value with another\n",
    "print(df.head())\n",
    "\n",
    "df['Tip Quality'] = df['Tip Quality'].replace(to_replace='Other',value='Ok')\n",
    "print(df.head())"
   ]
  },
  {
   "cell_type": "code",
   "execution_count": 72,
   "id": "cd9a7f88-07d9-4c13-ac98-65bab7ed0b98",
   "metadata": {},
   "outputs": [
    {
     "name": "stdout",
     "output_type": "stream",
     "text": [
      "[2 3 4 1 6 5]\n",
      "6\n",
      "['Dinner' 'Lunch']\n"
     ]
    }
   ],
   "source": [
    "# unique\n",
    "print(df['size'].unique())   # All the unique values as an array\n",
    "print(df['size'].nunique())  # Number of unique values (i.e. count of the above array)\n",
    "print(df['time'].unique())   # For a char column"
   ]
  },
  {
   "cell_type": "code",
   "execution_count": 73,
   "id": "c46304f7-7872-4cd2-9b4c-0d2ac73966d4",
   "metadata": {},
   "outputs": [
    {
     "name": "stdout",
     "output_type": "stream",
     "text": [
      "0    D\n",
      "1    D\n",
      "2    D\n",
      "3    D\n",
      "4    D\n",
      "Name: time, dtype: object\n"
     ]
    }
   ],
   "source": [
    "# map\n",
    "my_map = {'Dinner':'D','Lunch':'L'}\n",
    "df_new = df['time'].map(my_map) # Create a new DF only containing D or L for each row\n",
    "print(df_new.head())"
   ]
  },
  {
   "cell_type": "code",
   "execution_count": 74,
   "id": "65966c45-76e5-47cc-bdef-75d16f3b0968",
   "metadata": {},
   "outputs": [
    {
     "name": "stdout",
     "output_type": "stream",
     "text": [
      "0      False\n",
      "1      False\n",
      "2      False\n",
      "3      False\n",
      "4      False\n",
      "       ...  \n",
      "239    False\n",
      "240    False\n",
      "241    False\n",
      "242    False\n",
      "243    False\n",
      "Length: 244, dtype: bool\n"
     ]
    }
   ],
   "source": [
    "# duplicated and drop_duplicates\n",
    "# Returns True for the 1st instance of a duplicated row\n",
    "print(df.duplicated())"
   ]
  },
  {
   "cell_type": "code",
   "execution_count": 75,
   "id": "de603439-7589-4a5f-a574-e52c7211197f",
   "metadata": {},
   "outputs": [],
   "source": [
    "simple_df = pd.DataFrame([1,2,2],['a','b','c'])"
   ]
  },
  {
   "cell_type": "code",
   "execution_count": 76,
   "id": "e07f84cb-308d-431d-9ffd-4fbe57935b76",
   "metadata": {},
   "outputs": [
    {
     "name": "stdout",
     "output_type": "stream",
     "text": [
      "   0\n",
      "a  1\n",
      "b  2\n",
      "c  2\n"
     ]
    }
   ],
   "source": [
    "print(simple_df)"
   ]
  },
  {
   "cell_type": "code",
   "execution_count": 77,
   "id": "8274a361-9c4a-426d-9fd1-f4a28e322e39",
   "metadata": {},
   "outputs": [
    {
     "name": "stdout",
     "output_type": "stream",
     "text": [
      "a    False\n",
      "b    False\n",
      "c     True\n",
      "dtype: bool\n"
     ]
    }
   ],
   "source": [
    "print(simple_df.duplicated())  # True/False for each case"
   ]
  },
  {
   "cell_type": "code",
   "execution_count": 78,
   "id": "7d6b503a-8f5f-44e1-99d2-ef5eee0a80af",
   "metadata": {},
   "outputs": [
    {
     "name": "stdout",
     "output_type": "stream",
     "text": [
      "   0\n",
      "a  1\n",
      "b  2\n"
     ]
    }
   ],
   "source": [
    "print(simple_df.drop_duplicates())"
   ]
  },
  {
   "cell_type": "code",
   "execution_count": 79,
   "id": "da0128b9-c3b7-431f-8b0a-f8291e9d8fa4",
   "metadata": {},
   "outputs": [
    {
     "name": "stdout",
     "output_type": "stream",
     "text": [
      "0       True\n",
      "1       True\n",
      "2      False\n",
      "3      False\n",
      "4      False\n",
      "       ...  \n",
      "239    False\n",
      "240    False\n",
      "241    False\n",
      "242     True\n",
      "243     True\n",
      "Name: total_bill, Length: 244, dtype: bool\n",
      "     total_bill   tip  gender smoker   day    time  size  price_per_person  \\\n",
      "0         16.99  1.01  Female     No   Sun  Dinner     2              8.49   \n",
      "1         10.34  1.66    Male     No   Sun  Dinner     3              3.45   \n",
      "8         15.04  1.96    Male     No   Sun  Dinner     2              7.52   \n",
      "9         14.78  3.23    Male     No   Sun  Dinner     2              7.39   \n",
      "10        10.27  1.71    Male     No   Sun  Dinner     2              5.14   \n",
      "..          ...   ...     ...    ...   ...     ...   ...               ...   \n",
      "234       15.53  3.00    Male    Yes   Sat  Dinner     2              7.76   \n",
      "235       10.07  1.25    Male     No   Sat  Dinner     2              5.04   \n",
      "236       12.60  1.00    Male    Yes   Sat  Dinner     2              6.30   \n",
      "242       17.82  1.75    Male     No   Sat  Dinner     2              8.91   \n",
      "243       18.78  3.00  Female     No  Thur  Dinner     2              9.39   \n",
      "\n",
      "             Payer Name     CC Number Payment ID last_four Expensive  \\\n",
      "0    Christy Cunningham  3.560330e+15    Sun2959      00.0        $$   \n",
      "1        Douglas Tucker  4.478070e+15    Sun4608      00.0        $$   \n",
      "8       Joseph Mcdonald  3.522870e+15    Sun6820      00.0        $$   \n",
      "9         Jerome Abbott  3.532120e+15    Sun3775      00.0        $$   \n",
      "10        William Riley  5.662880e+11    Sun2546      00.0        $$   \n",
      "..                  ...           ...        ...       ...       ...   \n",
      "234       Tracy Douglas  4.097940e+15    Sat7220      00.0        $$   \n",
      "235       Sean Gonzalez  3.534020e+15    Sat4615      00.0        $$   \n",
      "236       Matthew Myers  3.543680e+15    Sat5032      00.0        $$   \n",
      "242        Dennis Dixon  4.375220e+12      Sat17      00.0        $$   \n",
      "243     Michelle Hardin  3.511450e+15    Thur672      00.0        $$   \n",
      "\n",
      "    Tip Quality  \n",
      "0            Ok  \n",
      "1            Ok  \n",
      "8            Ok  \n",
      "9            Ok  \n",
      "10           Ok  \n",
      "..          ...  \n",
      "234          Ok  \n",
      "235          Ok  \n",
      "236          Ok  \n",
      "242          Ok  \n",
      "243          Ok  \n",
      "\n",
      "[130 rows x 14 columns]\n"
     ]
    }
   ],
   "source": [
    "# between: options for inclusive are both, left, right, neither\n",
    "print(df['total_bill'].between(10,20,inclusive='both'))     # True/false\n",
    "print(df[df['total_bill'].between(10,20,inclusive='both')]) # Actual data"
   ]
  },
  {
   "cell_type": "code",
   "execution_count": 80,
   "id": "e0c4545c-489e-4662-b485-9f7ff6f58047",
   "metadata": {},
   "outputs": [
    {
     "name": "stdout",
     "output_type": "stream",
     "text": [
      "     total_bill   tip  gender smoker  day    time  size  price_per_person  \\\n",
      "169       10.63  2.00  Female    Yes  Sat  Dinner     2              5.32   \n",
      "161       12.66  2.50    Male     No  Sun  Dinner     2              6.33   \n",
      "69        15.01  2.09    Male    Yes  Sat  Dinner     2              7.50   \n",
      "222        8.58  1.92    Male    Yes  Fri   Lunch     1              8.58   \n",
      "93        16.32  4.30  Female    Yes  Fri  Dinner     2              8.16   \n",
      "\n",
      "          Payer Name     CC Number Payment ID last_four Expensive Tip Quality  \n",
      "169         Amy Hill  3.536330e+15    Sat1788      00.0        $$          Ok  \n",
      "161  Brandon Oconnor  4.406880e+15    Sun5879      00.0        $$          Ok  \n",
      "69         Adam Hall  4.700920e+15     Sat855      00.0        $$          Ok  \n",
      "222   Jason Lawrence  3.505300e+15    Fri6624      00.0         $          Ok  \n",
      "93    Natalie Nguyen  5.181240e+15    Fri6963      00.0        $$    Generous  \n",
      "     total_bill   tip  gender smoker   day    time  size  price_per_person  \\\n",
      "32        15.06  3.00  Female     No   Sat  Dinner     2              7.53   \n",
      "215       12.90  1.10  Female    Yes   Sat  Dinner     2              6.45   \n",
      "213       13.27  2.50  Female    Yes   Sat  Dinner     2              6.64   \n",
      "106       20.49  4.06    Male    Yes   Sat  Dinner     2             10.24   \n",
      "143       27.05  5.00  Female     No  Thur   Lunch     6              4.51   \n",
      "98        21.01  3.00    Male    Yes   Fri  Dinner     2             10.50   \n",
      "4         24.59  3.61  Female     No   Sun  Dinner     4              6.15   \n",
      "34        17.78  3.27    Male     No   Sat  Dinner     2              8.89   \n",
      "18        16.97  3.50  Female     No   Sun  Dinner     3              5.66   \n",
      "138       16.00  2.00    Male    Yes  Thur   Lunch     2              8.00   \n",
      "127       14.52  2.00  Female     No  Thur   Lunch     2              7.26   \n",
      "2         21.01  3.50    Male     No   Sun  Dinner     3              7.00   \n",
      "182       45.35  3.50    Male    Yes   Sun  Dinner     3             15.12   \n",
      "219       30.14  3.09  Female    Yes   Sat  Dinner     4              7.54   \n",
      "201       12.74  2.01  Female    Yes  Thur   Lunch     2              6.37   \n",
      "39        31.27  5.00    Male     No   Sat  Dinner     3             10.42   \n",
      "123       15.95  2.00    Male     No  Thur   Lunch     2              7.98   \n",
      "58        11.24  1.76    Male    Yes   Sat  Dinner     2              5.62   \n",
      "62        11.02  1.98    Male    Yes   Sat  Dinner     2              5.51   \n",
      "161       12.66  2.50    Male     No   Sun  Dinner     2              6.33   \n",
      "177       14.48  2.00    Male    Yes   Sun  Dinner     2              7.24   \n",
      "190       15.69  1.50    Male    Yes   Sun  Dinner     2              7.84   \n",
      "225       16.27  2.50  Female    Yes   Fri   Lunch     2              8.14   \n",
      "111        7.25  1.00  Female     No   Sat  Dinner     1              7.25   \n",
      "\n",
      "            Payer Name     CC Number Payment ID last_four Expensive  \\\n",
      "32       Amanda Wilson  2.131860e+14    Sat1327      00.0        $$   \n",
      "215       Jessica Owen  4.726900e+12    Sat6983      00.0        $$   \n",
      "213     Robin Andersen  5.801410e+11    Sat1374      00.0        $$   \n",
      "106      Karl Mcdaniel  1.800240e+14    Sat7865      00.0        $$   \n",
      "143       Regina Jones  4.311050e+12   Thur6179      00.0        $$   \n",
      "98          Michael Li  4.831800e+15     Fri144      00.0        $$   \n",
      "4         Tonya Carter  4.832730e+15    Sun2251      00.0        $$   \n",
      "34      Jacob Castillo  3.551490e+15    Sat8124      00.0        $$   \n",
      "18      Laura Martinez  3.042230e+13    Sun2789      00.0        $$   \n",
      "138      Jason Burgess  3.561460e+15   Thur2710      00.0        $$   \n",
      "127    Jessica Simmons  2.131020e+14   Thur1512      00.0        $$   \n",
      "2       Travis Walters  6.011810e+15    Sun4458      00.0        $$   \n",
      "182       Jose Parsons  4.112210e+15    Sun2337      00.0       $$$   \n",
      "219       Shelby House  5.020970e+11    Sat8863      00.0       $$$   \n",
      "201      Abigail Parks  3.586650e+15   Thur2544      00.0        $$   \n",
      "39   Mr. Brandon Berry  6.011530e+15    Sat6373      00.0       $$$   \n",
      "123   Christopher Lang  4.820630e+15   Thur1992      00.0        $$   \n",
      "58       Troy Guerrero  3.560780e+15    Sat6683      00.0        $$   \n",
      "62         Joseph Hart  1.800460e+14    Sat2265      00.0        $$   \n",
      "161    Brandon Oconnor  4.406880e+15    Sun5879      00.0        $$   \n",
      "177        John Dudley  4.565180e+15    Sun6203      00.0        $$   \n",
      "190       Riley Barnes  1.800540e+14    Sun5104      00.0        $$   \n",
      "225     Whitney Arnold  3.579110e+15    Fri6665      00.0        $$   \n",
      "111        Terri Jones  3.559220e+15    Sat4801      00.0         $   \n",
      "\n",
      "    Tip Quality  \n",
      "32           Ok  \n",
      "215          Ok  \n",
      "213          Ok  \n",
      "106          Ok  \n",
      "143          Ok  \n",
      "98           Ok  \n",
      "4            Ok  \n",
      "34           Ok  \n",
      "18           Ok  \n",
      "138          Ok  \n",
      "127          Ok  \n",
      "2            Ok  \n",
      "182          Ok  \n",
      "219          Ok  \n",
      "201          Ok  \n",
      "39           Ok  \n",
      "123          Ok  \n",
      "58           Ok  \n",
      "62           Ok  \n",
      "161          Ok  \n",
      "177          Ok  \n",
      "190          Ok  \n",
      "225          Ok  \n",
      "111          Ok  \n"
     ]
    }
   ],
   "source": [
    "# Sample data, randomly selected\n",
    "print(df.sample(5))             # 5 rows\n",
    "print(df.sample(frac=0.1))      # 10% of rows"
   ]
  },
  {
   "cell_type": "code",
   "execution_count": 81,
   "id": "ce048a90-6b94-4d2e-b06e-9791bd23ec7b",
   "metadata": {},
   "outputs": [
    {
     "name": "stdout",
     "output_type": "stream",
     "text": [
      "     total_bill    tip  gender smoker   day    time  size  price_per_person  \\\n",
      "170       50.81  10.00    Male    Yes   Sat  Dinner     3             16.94   \n",
      "212       48.33   9.00    Male     No   Sat  Dinner     4             12.08   \n",
      "23        39.42   7.58    Male     No   Sat  Dinner     4              9.86   \n",
      "59        48.27   6.73    Male     No   Sat  Dinner     4             12.07   \n",
      "141       34.30   6.70    Male     No  Thur   Lunch     6              5.72   \n",
      "183       23.17   6.50    Male    Yes   Sun  Dinner     4              5.79   \n",
      "214       28.17   6.50  Female    Yes   Sat  Dinner     3              9.39   \n",
      "47        32.40   6.00    Male     No   Sun  Dinner     4              8.10   \n",
      "239       29.03   5.92    Male     No   Sat  Dinner     3              9.68   \n",
      "88        24.71   5.85    Male     No  Thur   Lunch     2             12.36   \n",
      "\n",
      "            Payer Name     CC Number Payment ID last_four Expensive  \\\n",
      "170      Gregory Clark  5.473850e+15    Sat1954      00.0       $$$   \n",
      "212    Alex Williamson  6.762190e+11    Sat4590      00.0       $$$   \n",
      "23      Lance Peterson  3.542580e+15     Sat239      00.0       $$$   \n",
      "59         Brian Ortiz  6.596450e+15    Sat8139      00.0       $$$   \n",
      "141     Steven Carlson  3.526520e+15   Thur1025      00.0       $$$   \n",
      "183  Dr. Michael James  4.718500e+12    Sun6059      00.0        $$   \n",
      "214    Marissa Jackson  4.922300e+15    Sat3374      00.0        $$   \n",
      "47        James Barnes  3.552000e+15    Sun9677      00.0       $$$   \n",
      "239      Michael Avila  5.296070e+15    Sat2657      00.0        $$   \n",
      "88        Roger Taylor  4.410250e+12   Thur9003      00.0        $$   \n",
      "\n",
      "    Tip Quality  \n",
      "170          Ok  \n",
      "212          Ok  \n",
      "23           Ok  \n",
      "59           Ok  \n",
      "141          Ok  \n",
      "183    Generous  \n",
      "214          Ok  \n",
      "47           Ok  \n",
      "239          Ok  \n",
      "88           Ok  \n",
      "     total_bill   tip  gender smoker   day    time  size  price_per_person  \\\n",
      "67         3.07  1.00  Female    Yes   Sat  Dinner     1              3.07   \n",
      "92         5.75  1.00  Female    Yes   Fri  Dinner     2              2.88   \n",
      "111        7.25  1.00  Female     No   Sat  Dinner     1              7.25   \n",
      "236       12.60  1.00    Male    Yes   Sat  Dinner     2              6.30   \n",
      "0         16.99  1.01  Female     No   Sun  Dinner     2              8.49   \n",
      "215       12.90  1.10  Female    Yes   Sat  Dinner     2              6.45   \n",
      "237       32.83  1.17    Male    Yes   Sat  Dinner     2             16.42   \n",
      "75        10.51  1.25    Male     No   Sat  Dinner     2              5.26   \n",
      "135        8.51  1.25  Female     No  Thur   Lunch     2              4.26   \n",
      "235       10.07  1.25    Male     No   Sat  Dinner     2              5.04   \n",
      "\n",
      "             Payer Name     CC Number Payment ID last_four Expensive  \\\n",
      "67        Tiffany Brock  4.359490e+15    Sat3455      00.0         $   \n",
      "92         Leah Ramirez  3.508910e+15    Fri3780      00.0         $   \n",
      "111         Terri Jones  3.559220e+15    Sat4801      00.0         $   \n",
      "236       Matthew Myers  3.543680e+15    Sat5032      00.0        $$   \n",
      "0    Christy Cunningham  3.560330e+15    Sun2959      00.0        $$   \n",
      "215        Jessica Owen  4.726900e+12    Sat6983      00.0        $$   \n",
      "237        Thomas Brown  4.284720e+15    Sat2929      00.0       $$$   \n",
      "75        Kenneth Hayes  2.131420e+14    Sat5056      00.0        $$   \n",
      "135      Rebecca Harris  4.320270e+15   Thur6600      00.0         $   \n",
      "235       Sean Gonzalez  3.534020e+15    Sat4615      00.0        $$   \n",
      "\n",
      "    Tip Quality  \n",
      "67     Generous  \n",
      "92           Ok  \n",
      "111          Ok  \n",
      "236          Ok  \n",
      "0            Ok  \n",
      "215          Ok  \n",
      "237          Ok  \n",
      "75           Ok  \n",
      "135          Ok  \n",
      "235          Ok  \n"
     ]
    }
   ],
   "source": [
    "# nlargest and nsmallest\n",
    "print(df.nlargest(10,'tip'))\n",
    "print(df.nsmallest(10,'tip'))"
   ]
  },
  {
   "cell_type": "code",
   "execution_count": null,
   "id": "ecbeadc7-b012-4dfc-a62e-92313db19e5e",
   "metadata": {},
   "outputs": [],
   "source": []
  },
  {
   "cell_type": "markdown",
   "id": "5af04bda-e951-414b-bea7-4ebd66ccf76a",
   "metadata": {},
   "source": [
    "## Groupby and Multi-index"
   ]
  },
  {
   "cell_type": "code",
   "execution_count": 82,
   "id": "4ccf41d6-32da-46fe-a1d4-d9cea14a6e56",
   "metadata": {},
   "outputs": [
    {
     "data": {
      "text/plain": [
       "'\\ngroupby functionality:\\n1. Splitting: The data is first split into groups based on the criteria provided\\n2. Applying: A function (or multiple functions) is applied to each group independently\\n3. Combining: The results of the function applications are then combined \\n   into a new DataFrame\\n'"
      ]
     },
     "execution_count": 82,
     "metadata": {},
     "output_type": "execute_result"
    }
   ],
   "source": [
    "'''\n",
    "groupby functionality:\n",
    "1. Splitting: The data is first split into groups based on the criteria provided\n",
    "2. Applying: A function (or multiple functions) is applied to each group independently\n",
    "3. Combining: The results of the function applications are then combined \n",
    "   into a new DataFrame\n",
    "'''"
   ]
  },
  {
   "cell_type": "code",
   "execution_count": 83,
   "id": "b4aa5d5c-2386-4879-8572-d2b4ce7a9621",
   "metadata": {},
   "outputs": [
    {
     "name": "stdout",
     "output_type": "stream",
     "text": [
      "     total_bill   tip  gender smoker   day    time  size  price_per_person  \\\n",
      "0         16.99  1.01  Female     No   Sun  Dinner     2              8.49   \n",
      "1         10.34  1.66    Male     No   Sun  Dinner     3              3.45   \n",
      "2         21.01  3.50    Male     No   Sun  Dinner     3              7.00   \n",
      "3         23.68  3.31    Male     No   Sun  Dinner     2             11.84   \n",
      "4         24.59  3.61  Female     No   Sun  Dinner     4              6.15   \n",
      "..          ...   ...     ...    ...   ...     ...   ...               ...   \n",
      "239       29.03  5.92    Male     No   Sat  Dinner     3              9.68   \n",
      "240       27.18  2.00  Female    Yes   Sat  Dinner     2             13.59   \n",
      "241       22.67  2.00    Male    Yes   Sat  Dinner     2             11.34   \n",
      "242       17.82  1.75    Male     No   Sat  Dinner     2              8.91   \n",
      "243       18.78  3.00  Female     No  Thur  Dinner     2              9.39   \n",
      "\n",
      "             Payer Name     CC Number Payment ID  \n",
      "0    Christy Cunningham  3.560330e+15    Sun2959  \n",
      "1        Douglas Tucker  4.478070e+15    Sun4608  \n",
      "2        Travis Walters  6.011810e+15    Sun4458  \n",
      "3      Nathaniel Harris  4.676140e+15    Sun5260  \n",
      "4          Tonya Carter  4.832730e+15    Sun2251  \n",
      "..                  ...           ...        ...  \n",
      "239       Michael Avila  5.296070e+15    Sat2657  \n",
      "240      Monica Sanders  3.506810e+15    Sat1766  \n",
      "241          Keith Wong  6.011890e+15    Sat3880  \n",
      "242        Dennis Dixon  4.375220e+12      Sat17  \n",
      "243     Michelle Hardin  3.511450e+15    Thur672  \n",
      "\n",
      "[244 rows x 11 columns]\n"
     ]
    }
   ],
   "source": [
    "df = pd.read_csv('tips.csv')\n",
    "print(df)"
   ]
  },
  {
   "cell_type": "code",
   "execution_count": 84,
   "id": "4faff2da-d628-406f-82bb-f71d097b1c63",
   "metadata": {},
   "outputs": [],
   "source": [
    "# 1. Splitting\n",
    "df_grouped = df.groupby('gender')"
   ]
  },
  {
   "cell_type": "code",
   "execution_count": 85,
   "id": "ea6fd1f6-37c2-4043-b8e5-bfefc4856028",
   "metadata": {},
   "outputs": [
    {
     "name": "stdout",
     "output_type": "stream",
     "text": [
      "<pandas.core.groupby.generic.DataFrameGroupBy object at 0x00000231DF880AA0>\n"
     ]
    }
   ],
   "source": [
    "# Note that the output will not have any visible impact, except for \n",
    "#   a mention of grouping\n",
    "print(df_grouped)"
   ]
  },
  {
   "cell_type": "code",
   "execution_count": 86,
   "id": "66f61b71-155c-4533-9659-d947553f2a25",
   "metadata": {},
   "outputs": [
    {
     "name": "stdout",
     "output_type": "stream",
     "text": [
      "gender\n",
      "Female    2.833448\n",
      "Male      3.089618\n",
      "Name: tip, dtype: float64\n"
     ]
    }
   ],
   "source": [
    "# 2. Applying\n",
    "# Calculate the mean tip for each gender\n",
    "mean_tip_by_gender = df_grouped['tip'].mean()\n",
    "print(mean_tip_by_gender)"
   ]
  },
  {
   "cell_type": "code",
   "execution_count": 87,
   "id": "e0f93a13-2094-47b3-a685-466c4e6798f1",
   "metadata": {},
   "outputs": [
    {
     "name": "stdout",
     "output_type": "stream",
     "text": [
      "gender\n",
      "Female    1.0\n",
      "Male      1.0\n",
      "Name: tip, dtype: float64\n",
      "gender\n",
      "Female     6.5\n",
      "Male      10.0\n",
      "Name: tip, dtype: float64\n",
      "gender\n",
      "Female    1.159495\n",
      "Male      1.489102\n",
      "Name: tip, dtype: float64\n",
      "gender\n",
      "Female    1.344428\n",
      "Male      2.217424\n",
      "Name: tip, dtype: float64\n",
      "gender\n",
      "Female     87\n",
      "Male      157\n",
      "Name: tip, dtype: int64\n",
      "gender\n",
      "Female    246.51\n",
      "Male      485.07\n",
      "Name: tip, dtype: float64\n"
     ]
    }
   ],
   "source": [
    "print(df_grouped['tip'].min())\n",
    "print(df_grouped['tip'].max())\n",
    "print(df_grouped['tip'].std())\n",
    "print(df_grouped['tip'].var())\n",
    "print(df_grouped['tip'].count())\n",
    "print(df_grouped['tip'].sum())"
   ]
  },
  {
   "cell_type": "code",
   "execution_count": 88,
   "id": "c02343ac-9a00-4c43-bcee-6096c4b9ebd8",
   "metadata": {},
   "outputs": [],
   "source": [
    "# Creating groups on multiple columns\n",
    "df_grouped = df.groupby(['gender', 'day'])"
   ]
  },
  {
   "cell_type": "code",
   "execution_count": 89,
   "id": "2b827e01-09bc-44cb-a41d-5ebb0b0e63e1",
   "metadata": {},
   "outputs": [
    {
     "name": "stdout",
     "output_type": "stream",
     "text": [
      "gender  day \n",
      "Female  Fri     2.781111\n",
      "        Sat     2.801786\n",
      "        Sun     3.367222\n",
      "        Thur    2.575625\n",
      "Male    Fri     2.693000\n",
      "        Sat     3.083898\n",
      "        Sun     3.220345\n",
      "        Thur    2.980333\n",
      "Name: tip, dtype: float64\n"
     ]
    }
   ],
   "source": [
    "# 3. Combining\n",
    "mean_tip_by_gender_day = df_grouped['tip'].mean()\n",
    "print(mean_tip_by_gender_day)"
   ]
  },
  {
   "cell_type": "code",
   "execution_count": 90,
   "id": "4d79882d-754a-41af-8af7-00c915e812b5",
   "metadata": {},
   "outputs": [],
   "source": [
    "# agg function\n",
    "# Apply multiple aggregation functions to different columns when grouping data\n",
    "# Calculate both the mean and sum of the 'tip' column for each combination of \n",
    "#     'gender' and 'day'\n",
    "\n",
    "# Group the DataFrame by both 'gender' and 'day' and calculate the mean and sum of 'tip' for each combination\n",
    "df_grouped = df.groupby(['gender', 'day']).agg({'tip': ['mean', 'sum']}).reset_index()"
   ]
  },
  {
   "cell_type": "code",
   "execution_count": 91,
   "id": "0f6a09ef-4c90-41c4-a9b4-e42f074704f8",
   "metadata": {},
   "outputs": [],
   "source": [
    "# When we perform group operations using groupby(), the resulting DataFrame \n",
    "#   has a hierarchical index, known as a MultiIndex, which reflects the groups \n",
    "#   created by the grouping columns\n",
    "# Resetting the index using reset_index() converts the hierarchical index \n",
    "#   into a simple integer index, making the DataFrame easier to work with \n",
    "#   and allowing us to access the grouped data more easily"
   ]
  },
  {
   "cell_type": "code",
   "execution_count": 92,
   "id": "9ba587d2-6b4c-4309-96be-9800bf4634f4",
   "metadata": {},
   "outputs": [
    {
     "name": "stdout",
     "output_type": "stream",
     "text": [
      "   gender   day  mean_tip  total_tip\n",
      "0  Female   Fri  2.781111      25.03\n",
      "1  Female   Sat  2.801786      78.45\n",
      "2  Female   Sun  3.367222      60.61\n",
      "3  Female  Thur  2.575625      82.42\n",
      "4    Male   Fri  2.693000      26.93\n",
      "5    Male   Sat  3.083898     181.95\n",
      "6    Male   Sun  3.220345     186.78\n",
      "7    Male  Thur  2.980333      89.41\n"
     ]
    }
   ],
   "source": [
    "# Rename the columns for clarity\n",
    "df_grouped.columns = ['gender', 'day', 'mean_tip', 'total_tip']\n",
    "\n",
    "print(df_grouped)"
   ]
  }
 ],
 "metadata": {
  "kernelspec": {
   "display_name": "Python 3 (ipykernel)",
   "language": "python",
   "name": "python3"
  },
  "language_info": {
   "codemirror_mode": {
    "name": "ipython",
    "version": 3
   },
   "file_extension": ".py",
   "mimetype": "text/x-python",
   "name": "python",
   "nbconvert_exporter": "python",
   "pygments_lexer": "ipython3",
   "version": "3.12.4"
  }
 },
 "nbformat": 4,
 "nbformat_minor": 5
}
