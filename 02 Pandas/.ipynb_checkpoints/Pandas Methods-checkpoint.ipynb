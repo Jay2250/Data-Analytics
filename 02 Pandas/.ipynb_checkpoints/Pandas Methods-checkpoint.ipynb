{
 "cells": [
  {
   "cell_type": "code",
   "execution_count": 1,
   "id": "8fb6c499-7b97-4674-a129-f00b22fc21b1",
   "metadata": {},
   "outputs": [],
   "source": [
    "import pandas as pd\n",
    "import numpy as np\n",
    "import matplotlib.pyplot as plt"
   ]
  },
  {
   "cell_type": "code",
   "execution_count": 2,
   "id": "90c91cab-fbfe-4b0a-bf8b-9f315d4928ef",
   "metadata": {},
   "outputs": [
    {
     "name": "stdout",
     "output_type": "stream",
     "text": [
      "   carat      cut color clarity  depth  table  price     x     y     z\n",
      "0   0.23    Ideal     E     SI2   61.5   55.0    326  3.95  3.98  2.43\n",
      "1   0.21  Premium     E     SI1   59.8   61.0    326  3.89  3.84  2.31\n",
      "2   0.23     Good     E     VS1   56.9   65.0    327  4.05  4.07  2.31\n",
      "3   0.29  Premium     I     VS2   62.4   58.0    334  4.20  4.23  2.63\n",
      "4   0.31     Good     J     SI2   63.3   58.0    335  4.34  4.35  2.75\n"
     ]
    }
   ],
   "source": [
    "# 1. Read CSV and display first 5 rows\n",
    "diamonds = pd.read_csv('Diamonds.csv')\n",
    "diamonds.drop('Unnamed: 0', axis=1, inplace=True)\n",
    "print(diamonds.head())"
   ]
  },
  {
   "cell_type": "code",
   "execution_count": 3,
   "id": "d5cfebcc-3283-4b6a-895c-a271a0a91b4c",
   "metadata": {},
   "outputs": [
    {
     "name": "stdout",
     "output_type": "stream",
     "text": [
      "   Carat        Cut Color Clarity  Depth  Table  Price  Length  Width  \\\n",
      "0   0.23      Ideal     E     SI2   61.5   55.0    326    3.95   3.98   \n",
      "1   0.21    Premium     E     SI1   59.8   61.0    326    3.89   3.84   \n",
      "2   0.23       Good     E     VS1   56.9   65.0    327    4.05   4.07   \n",
      "3   0.29    Premium     I     VS2   62.4   58.0    334    4.20   4.23   \n",
      "4   0.31       Good     J     SI2   63.3   58.0    335    4.34   4.35   \n",
      "5   0.24  Very Good     J    VVS2   62.8   57.0    336    3.94   3.96   \n",
      "\n",
      "   Depth_Total  \n",
      "0         2.43  \n",
      "1         2.31  \n",
      "2         2.31  \n",
      "3         2.63  \n",
      "4         2.75  \n",
      "5         2.48  \n"
     ]
    }
   ],
   "source": [
    "# 2. Modify default column names and print first 6 rows\n",
    "diamonds.columns = ['Carat', 'Cut', 'Color', 'Clarity', 'Depth', 'Table', 'Price', 'Length', 'Width', 'Depth_Total']\n",
    "print(diamonds.head(6))"
   ]
  },
  {
   "cell_type": "code",
   "execution_count": 4,
   "id": "7263ec69-b701-46e0-87d4-a55284d5a8aa",
   "metadata": {},
   "outputs": [
    {
     "name": "stdout",
     "output_type": "stream",
     "text": [
      "0            Ideal\n",
      "1          Premium\n",
      "2             Good\n",
      "3          Premium\n",
      "4             Good\n",
      "           ...    \n",
      "53935        Ideal\n",
      "53936         Good\n",
      "53937    Very Good\n",
      "53938      Premium\n",
      "53939        Ideal\n",
      "Name: Cut, Length: 53940, dtype: object\n"
     ]
    }
   ],
   "source": [
    "# 3. Select a series and print\n",
    "print(diamonds['Cut'])"
   ]
  },
  {
   "cell_type": "code",
   "execution_count": 5,
   "id": "cdbf2dcc-f6b7-42ad-99f1-6cc80de8f04d",
   "metadata": {},
   "outputs": [
    {
     "name": "stdout",
     "output_type": "stream",
     "text": [
      "   Carat      Cut Color Clarity  Depth  Table  Price  Length  Width  \\\n",
      "0   0.23    Ideal     E     SI2   61.5   55.0    326    3.95   3.98   \n",
      "1   0.21  Premium     E     SI1   59.8   61.0    326    3.89   3.84   \n",
      "2   0.23     Good     E     VS1   56.9   65.0    327    4.05   4.07   \n",
      "3   0.29  Premium     I     VS2   62.4   58.0    334    4.20   4.23   \n",
      "4   0.31     Good     J     SI2   63.3   58.0    335    4.34   4.35   \n",
      "\n",
      "   Depth_Total Quality-color  \n",
      "0         2.43       Ideal-E  \n",
      "1         2.31     Premium-E  \n",
      "2         2.31        Good-E  \n",
      "3         2.63     Premium-I  \n",
      "4         2.75        Good-J  \n"
     ]
    }
   ],
   "source": [
    "# 4. Create a new 'Quality-color' Series\n",
    "diamonds['Quality-color'] = diamonds['Cut'] + '-' + diamonds['Color']\n",
    "print(diamonds.head())"
   ]
  },
  {
   "cell_type": "code",
   "execution_count": 6,
   "id": "37dac705-6a83-4f37-8211-2afa17275be5",
   "metadata": {},
   "outputs": [
    {
     "name": "stdout",
     "output_type": "stream",
     "text": [
      "(53940, 11)\n",
      "Carat            float64\n",
      "Cut               object\n",
      "Color             object\n",
      "Clarity           object\n",
      "Depth            float64\n",
      "Table            float64\n",
      "Price              int64\n",
      "Length           float64\n",
      "Width            float64\n",
      "Depth_Total      float64\n",
      "Quality-color     object\n",
      "dtype: object\n"
     ]
    }
   ],
   "source": [
    "# 5. Find the number of rows and columns, and data types\n",
    "print(diamonds.shape)\n",
    "print(diamonds.dtypes)"
   ]
  },
  {
   "cell_type": "code",
   "execution_count": 7,
   "id": "90de45f9-4bed-4dc1-8705-b95c438b725b",
   "metadata": {},
   "outputs": [
    {
     "name": "stdout",
     "output_type": "stream",
     "text": [
      "          Cut  Color Clarity Quality-color\n",
      "count   53940  53940   53940         53940\n",
      "unique      5      7       8            35\n",
      "top     Ideal      G     SI1       Ideal-G\n",
      "freq    21551  11292   13065          4884\n"
     ]
    }
   ],
   "source": [
    "# 6. Summarize only 'object' columns\n",
    "print(diamonds.describe(include=['object']))"
   ]
  },
  {
   "cell_type": "code",
   "execution_count": 8,
   "id": "767d014d-6b34-4862-84ca-eaa89f2e91b6",
   "metadata": {},
   "outputs": [
    {
     "name": "stdout",
     "output_type": "stream",
     "text": [
      "   Weight      Cut Color Clarity  Depth  Table  Price  Length  Width  \\\n",
      "0    0.23    Ideal     E     SI2   61.5   55.0    326    3.95   3.98   \n",
      "1    0.21  Premium     E     SI1   59.8   61.0    326    3.89   3.84   \n",
      "2    0.23     Good     E     VS1   56.9   65.0    327    4.05   4.07   \n",
      "3    0.29  Premium     I     VS2   62.4   58.0    334    4.20   4.23   \n",
      "4    0.31     Good     J     SI2   63.3   58.0    335    4.34   4.35   \n",
      "\n",
      "   Depth_Total Quality_color  \n",
      "0         2.43       Ideal-E  \n",
      "1         2.31     Premium-E  \n",
      "2         2.31        Good-E  \n",
      "3         2.63     Premium-I  \n",
      "4         2.75        Good-J  \n"
     ]
    }
   ],
   "source": [
    "# 7. Rename two columns\n",
    "diamonds.rename(columns={'Carat': 'Weight', 'Quality-color': 'Quality_color'}, inplace=True)\n",
    "print(diamonds.head())"
   ]
  },
  {
   "cell_type": "code",
   "execution_count": 9,
   "id": "2401c833-1127-4a39-a3b1-c07d7f38e807",
   "metadata": {},
   "outputs": [
    {
     "name": "stdout",
     "output_type": "stream",
     "text": [
      "   Carat      Cut Color Clarity  Depth  Table  Price  Length  Width  \\\n",
      "0   0.23    Ideal     E     SI2   61.5   55.0    326    3.95   3.98   \n",
      "1   0.21  Premium     E     SI1   59.8   61.0    326    3.89   3.84   \n",
      "2   0.23     Good     E     VS1   56.9   65.0    327    4.05   4.07   \n",
      "3   0.29  Premium     I     VS2   62.4   58.0    334    4.20   4.23   \n",
      "4   0.31     Good     J     SI2   63.3   58.0    335    4.34   4.35   \n",
      "\n",
      "   Depth_Total Quality-color  \n",
      "0         2.43       Ideal-E  \n",
      "1         2.31     Premium-E  \n",
      "2         2.31        Good-E  \n",
      "3         2.63     Premium-I  \n",
      "4         2.75        Good-J  \n"
     ]
    }
   ],
   "source": [
    "# 8. Rename all columns\n",
    "diamonds.columns = ['Carat', 'Cut', 'Color', 'Clarity', 'Depth', 'Table', 'Price', 'Length', 'Width', 'Depth_Total', 'Quality-color']\n",
    "print(diamonds.head())"
   ]
  },
  {
   "cell_type": "code",
   "execution_count": 10,
   "id": "7020b70f-778c-4b43-9f9a-bc968d30d262",
   "metadata": {},
   "outputs": [
    {
     "name": "stdout",
     "output_type": "stream",
     "text": [
      "   Carat      Cut Color Clarity  Depth  Table  Price  Length  Width  \\\n",
      "0   0.23    Ideal     E     SI2   61.5   55.0    326    3.95   3.98   \n",
      "1   0.21  Premium     E     SI1   59.8   61.0    326    3.89   3.84   \n",
      "2   0.23     Good     E     VS1   56.9   65.0    327    4.05   4.07   \n",
      "3   0.29  Premium     I     VS2   62.4   58.0    334    4.20   4.23   \n",
      "4   0.31     Good     J     SI2   63.3   58.0    335    4.34   4.35   \n",
      "\n",
      "   Depth_Total  \n",
      "0         2.43  \n",
      "1         2.31  \n",
      "2         2.31  \n",
      "3         2.63  \n",
      "4         2.75  \n"
     ]
    }
   ],
   "source": [
    "# 9. Remove the second column\n",
    "diamonds = diamonds.drop(diamonds.columns[-1], axis=1)\n",
    "print(diamonds.head())"
   ]
  },
  {
   "cell_type": "code",
   "execution_count": 11,
   "id": "aa042019-020a-45ad-8841-a32fc67bb841",
   "metadata": {},
   "outputs": [
    {
     "name": "stdout",
     "output_type": "stream",
     "text": [
      "   Carat      Cut Color  Depth  Table  Price  Length  Width\n",
      "0   0.23    Ideal     E   61.5   55.0    326    3.95   3.98\n",
      "1   0.21  Premium     E   59.8   61.0    326    3.89   3.84\n",
      "2   0.23     Good     E   56.9   65.0    327    4.05   4.07\n",
      "3   0.29  Premium     I   62.4   58.0    334    4.20   4.23\n",
      "4   0.31     Good     J   63.3   58.0    335    4.34   4.35\n"
     ]
    }
   ],
   "source": [
    "# 10. Remove multiple columns at once\n",
    "diamonds = diamonds.drop(['Clarity', 'Depth_Total'], axis=1)\n",
    "print(diamonds.head())"
   ]
  },
  {
   "cell_type": "code",
   "execution_count": 12,
   "id": "acba9ac8-32b2-4155-b0fb-383a2558474f",
   "metadata": {},
   "outputs": [
    {
     "name": "stdout",
     "output_type": "stream",
     "text": [
      "   Carat        Cut Color  Depth  Table  Price  Length  Width\n",
      "2   0.23       Good     E   56.9   65.0    327    4.05   4.07\n",
      "3   0.29    Premium     I   62.4   58.0    334    4.20   4.23\n",
      "4   0.31       Good     J   63.3   58.0    335    4.34   4.35\n",
      "5   0.24  Very Good     J   62.8   57.0    336    3.94   3.96\n",
      "6   0.24  Very Good     I   62.3   57.0    336    3.95   3.98\n"
     ]
    }
   ],
   "source": [
    "# 11. Remove multiple rows at once\n",
    "diamonds = diamonds.drop([0, 1], axis=0)\n",
    "print(diamonds.head())"
   ]
  },
  {
   "cell_type": "code",
   "execution_count": 13,
   "id": "860e93a5-9615-4059-8d0c-e707e48bf04a",
   "metadata": {},
   "outputs": [
    {
     "name": "stdout",
     "output_type": "stream",
     "text": [
      "4124          Fair\n",
      "8202          Fair\n",
      "8200          Fair\n",
      "51026         Fair\n",
      "47802         Fair\n",
      "           ...    \n",
      "7403     Very Good\n",
      "43101    Very Good\n",
      "7402     Very Good\n",
      "16898    Very Good\n",
      "21164    Very Good\n",
      "Name: Cut, Length: 53938, dtype: object\n"
     ]
    }
   ],
   "source": [
    "# 12. Sort 'cut' Series in ascending order\n",
    "sorted_cut = diamonds['Cut'].sort_values()\n",
    "print(sorted_cut)"
   ]
  },
  {
   "cell_type": "code",
   "execution_count": 14,
   "id": "024c4b66-2549-44e8-887b-a0cae76a1829",
   "metadata": {},
   "outputs": [
    {
     "name": "stdout",
     "output_type": "stream",
     "text": [
      "27749    18823\n",
      "27748    18818\n",
      "27747    18806\n",
      "27746    18804\n",
      "27745    18803\n",
      "         ...  \n",
      "6          336\n",
      "5          336\n",
      "4          335\n",
      "3          334\n",
      "2          327\n",
      "Name: Price, Length: 53938, dtype: int64\n"
     ]
    }
   ],
   "source": [
    "# 13. Sort 'price' Series in descending order\n",
    "sorted_price = diamonds['Price'].sort_values(ascending=False)\n",
    "print(sorted_price)"
   ]
  },
  {
   "cell_type": "code",
   "execution_count": 15,
   "id": "725d6539-3da4-4962-b3db-808d514a28b4",
   "metadata": {},
   "outputs": [
    {
     "name": "stdout",
     "output_type": "stream",
     "text": [
      "       Carat      Cut Color  Depth  Table  Price  Length  Width\n",
      "31591    0.2  Premium     E   59.8   62.0    367    3.79   3.77\n",
      "31592    0.2  Premium     E   59.0   60.0    367    3.81   3.78\n",
      "31593    0.2  Premium     E   61.1   59.0    367    3.81   3.78\n",
      "31594    0.2  Premium     E   59.7   62.0    367    3.84   3.80\n",
      "31595    0.2    Ideal     E   59.7   55.0    367    3.86   3.84\n",
      "       Carat      Cut Color  Depth  Table  Price  Length  Width\n",
      "27415   5.01     Fair     J   65.5   59.0  18018   10.74  10.54\n",
      "27630   4.50     Fair     J   65.8   58.0  18531   10.23  10.16\n",
      "27130   4.13     Fair     H   64.8   61.0  17329   10.00   9.85\n",
      "25999   4.01  Premium     J   62.5   62.0  15223   10.02   9.94\n",
      "25998   4.01  Premium     I   61.0   61.0  15223   10.14  10.10\n"
     ]
    }
   ],
   "source": [
    "# 14. Sort entire DataFrame by 'carat'\n",
    "diamonds_sorted_asc = diamonds.sort_values(by='Carat')\n",
    "diamonds_sorted_desc = diamonds.sort_values(by='Carat', ascending=False)\n",
    "print(diamonds_sorted_asc.head())\n",
    "print(diamonds_sorted_desc.head())"
   ]
  },
  {
   "cell_type": "code",
   "execution_count": 16,
   "id": "ddcee699-e555-4a17-b7fc-6a7c34fde9db",
   "metadata": {},
   "outputs": [
    {
     "name": "stdout",
     "output_type": "stream",
     "text": [
      "       Carat        Cut Color  Depth  Table  Price  Length  Width\n",
      "4       0.31       Good     J   63.3   58.0    335    4.34   4.35\n",
      "10      0.30       Good     J   64.0   55.0    339    4.25   4.28\n",
      "13      0.31      Ideal     J   62.2   54.0    344    4.35   4.37\n",
      "15      0.32    Premium     E   60.9   58.0    345    4.38   4.42\n",
      "16      0.30      Ideal     I   62.0   54.0    348    4.31   4.34\n",
      "...      ...        ...   ...    ...    ...    ...     ...    ...\n",
      "53935   0.72      Ideal     D   60.8   57.0   2757    5.75   5.76\n",
      "53936   0.72       Good     D   63.1   55.0   2757    5.69   5.75\n",
      "53937   0.70  Very Good     D   62.8   60.0   2757    5.66   5.68\n",
      "53938   0.86    Premium     H   61.0   58.0   2757    6.15   6.12\n",
      "53939   0.75      Ideal     D   62.2   55.0   2757    5.83   5.87\n",
      "\n",
      "[52341 rows x 8 columns]\n"
     ]
    }
   ],
   "source": [
    "# 15. Filter rows by carat weight >= 0.3\n",
    "filtered_diamonds = diamonds[diamonds['Carat'] >= 0.3]\n",
    "print(filtered_diamonds)"
   ]
  },
  {
   "cell_type": "code",
   "execution_count": 17,
   "id": "e8cde7ea-170d-4edf-87b4-2f8e17605c20",
   "metadata": {},
   "outputs": [
    {
     "name": "stdout",
     "output_type": "stream",
     "text": [
      "0    1\n",
      "1    2\n",
      "2    3\n",
      "3    4\n",
      "4    5\n",
      "dtype: int64\n"
     ]
    }
   ],
   "source": [
    "# 16. Convert python list to pandas series\n",
    "python_list = [1, 2, 3, 4, 5]\n",
    "series_from_list = pd.Series(python_list)\n",
    "print(series_from_list)"
   ]
  },
  {
   "cell_type": "code",
   "execution_count": 18,
   "id": "2c89bd71-6b70-404d-932a-4726af664b27",
   "metadata": {},
   "outputs": [
    {
     "name": "stdout",
     "output_type": "stream",
     "text": [
      "       Carat        Cut Color  Depth  Table  Price  Length  Width\n",
      "90      0.70      Ideal     E   62.5   57.0   2757    5.70   5.72\n",
      "91      0.86       Fair     E   55.1   69.0   2757    6.45   6.33\n",
      "92      0.70      Ideal     G   61.6   56.0   2757    5.70   5.67\n",
      "93      0.71  Very Good     E   62.4   57.0   2759    5.68   5.73\n",
      "94      0.78  Very Good     G   63.8   56.0   2759    5.81   5.85\n",
      "...      ...        ...   ...    ...    ...    ...     ...    ...\n",
      "53935   0.72      Ideal     D   60.8   57.0   2757    5.75   5.76\n",
      "53936   0.72       Good     D   63.1   55.0   2757    5.69   5.75\n",
      "53937   0.70  Very Good     D   62.8   60.0   2757    5.66   5.68\n",
      "53938   0.86    Premium     H   61.0   58.0   2757    6.15   6.12\n",
      "53939   0.75      Ideal     D   62.2   55.0   2757    5.83   5.87\n",
      "\n",
      "[36196 rows x 8 columns]\n"
     ]
    }
   ],
   "source": [
    "# 17. Find details where length > 5, width > 5, depth > 5\n",
    "filtered_diamonds = diamonds[(diamonds['Length'] > 5) & (diamonds['Width'] > 5) & (diamonds['Depth'] > 5)]\n",
    "print(filtered_diamonds)"
   ]
  },
  {
   "cell_type": "code",
   "execution_count": 19,
   "id": "35fea661-f21d-4086-bbb9-db0ef2b392b8",
   "metadata": {},
   "outputs": [
    {
     "name": "stdout",
     "output_type": "stream",
     "text": [
      "       Carat      Cut Color  Depth  Table  Price  Length  Width\n",
      "3       0.29  Premium     I   62.4   58.0    334    4.20   4.23\n",
      "11      0.23    Ideal     J   62.8   56.0    340    3.93   3.90\n",
      "12      0.22  Premium     F   60.4   61.0    342    3.88   3.84\n",
      "13      0.31    Ideal     J   62.2   54.0    344    4.35   4.37\n",
      "14      0.20  Premium     E   60.2   62.0    345    3.79   3.75\n",
      "...      ...      ...   ...    ...    ...    ...     ...    ...\n",
      "53931   0.71  Premium     F   59.8   62.0   2756    5.74   5.73\n",
      "53934   0.72  Premium     D   62.7   59.0   2757    5.69   5.73\n",
      "53935   0.72    Ideal     D   60.8   57.0   2757    5.75   5.76\n",
      "53938   0.86  Premium     H   61.0   58.0   2757    6.15   6.12\n",
      "53939   0.75    Ideal     D   62.2   55.0   2757    5.83   5.87\n",
      "\n",
      "[35340 rows x 8 columns]\n"
     ]
    }
   ],
   "source": [
    "# 18. Find diamonds that are either Premium or Ideal\n",
    "premium_ideal_diamonds = diamonds[diamonds['Cut'].isin(['Premium', 'Ideal'])]\n",
    "print(premium_ideal_diamonds)"
   ]
  },
  {
   "cell_type": "code",
   "execution_count": 20,
   "id": "b2db6b86-c410-4389-b0d8-55d7b8faa7cd",
   "metadata": {},
   "outputs": [
    {
     "name": "stdout",
     "output_type": "stream",
     "text": [
      "       Carat      Cut Color  Depth  Table  Price  Length  Width\n",
      "2       0.23     Good     E   56.9   65.0    327    4.05   4.07\n",
      "3       0.29  Premium     I   62.4   58.0    334    4.20   4.23\n",
      "4       0.31     Good     J   63.3   58.0    335    4.34   4.35\n",
      "8       0.22     Fair     E   65.1   61.0    337    3.87   3.78\n",
      "10      0.30     Good     J   64.0   55.0    339    4.25   4.28\n",
      "...      ...      ...   ...    ...    ...    ...     ...    ...\n",
      "53930   0.71  Premium     E   60.5   55.0   2756    5.79   5.74\n",
      "53931   0.71  Premium     F   59.8   62.0   2756    5.74   5.73\n",
      "53934   0.72  Premium     D   62.7   59.0   2757    5.69   5.73\n",
      "53936   0.72     Good     D   63.1   55.0   2757    5.69   5.75\n",
      "53938   0.86  Premium     H   61.0   58.0   2757    6.15   6.12\n",
      "\n",
      "[20306 rows x 8 columns]\n"
     ]
    }
   ],
   "source": [
    "# 19. Find diamonds that are Fair, Good, or Premium\n",
    "fair_good_premium = diamonds[diamonds['Cut'].isin(['Fair', 'Good', 'Premium'])]\n",
    "print(fair_good_premium)"
   ]
  },
  {
   "cell_type": "code",
   "execution_count": 21,
   "id": "ff9027f6-4791-4065-8e40-8338330f3fb0",
   "metadata": {},
   "outputs": [
    {
     "name": "stdout",
     "output_type": "stream",
     "text": [
      "Index(['Carat', 'Cut', 'Color', 'Depth', 'Table', 'Price', 'Length', 'Width'], dtype='object')\n"
     ]
    }
   ],
   "source": [
    "# 20. Display all column labels\n",
    "print(diamonds.columns)"
   ]
  },
  {
   "cell_type": "code",
   "execution_count": 22,
   "id": "81d39a93-da97-476a-8020-5ba8a588de1d",
   "metadata": {},
   "outputs": [
    {
     "name": "stdout",
     "output_type": "stream",
     "text": [
      "   Carat      Cut Color  Depth  Table  Price  Length  Width\n",
      "2   0.23     Good     E   56.9   65.0    327    4.05   4.07\n",
      "3   0.29  Premium     I   62.4   58.0    334    4.20   4.23\n",
      "4   0.31     Good     J   63.3   58.0    335    4.34   4.35\n"
     ]
    }
   ],
   "source": [
    "# 21. Read a subset of 3 rows\n",
    "subset = diamonds.head(3)\n",
    "print(subset)"
   ]
  },
  {
   "cell_type": "code",
   "execution_count": 23,
   "id": "bf6d5084-22d7-4799-926c-ea73687e11a1",
   "metadata": {},
   "outputs": [],
   "source": [
    "# 22. Iterate through DataFrame\n",
    "# for index, row in diamonds.iterrows():\n",
    "#     print(row)"
   ]
  },
  {
   "cell_type": "code",
   "execution_count": 24,
   "id": "86076634-67f0-45bf-b5f4-1ae3d318db17",
   "metadata": {},
   "outputs": [
    {
     "name": "stdout",
     "output_type": "stream",
     "text": [
      "       Carat  Depth  Table  Price  Length  Width\n",
      "2       0.23   56.9   65.0    327    4.05   4.07\n",
      "3       0.29   62.4   58.0    334    4.20   4.23\n",
      "4       0.31   63.3   58.0    335    4.34   4.35\n",
      "5       0.24   62.8   57.0    336    3.94   3.96\n",
      "6       0.24   62.3   57.0    336    3.95   3.98\n",
      "...      ...    ...    ...    ...     ...    ...\n",
      "53935   0.72   60.8   57.0   2757    5.75   5.76\n",
      "53936   0.72   63.1   55.0   2757    5.69   5.75\n",
      "53937   0.70   62.8   60.0   2757    5.66   5.68\n",
      "53938   0.86   61.0   58.0   2757    6.15   6.12\n",
      "53939   0.75   62.2   55.0   2757    5.83   5.87\n",
      "\n",
      "[53938 rows x 6 columns]\n"
     ]
    }
   ],
   "source": [
    "# 23. Drop all non-numeric columns\n",
    "diamonds_numeric = diamonds.select_dtypes(exclude=['object'])\n",
    "print(diamonds_numeric)"
   ]
  },
  {
   "cell_type": "code",
   "execution_count": 25,
   "id": "4d262dca-ea06-4170-acae-08547c82bb29",
   "metadata": {},
   "outputs": [
    {
     "name": "stdout",
     "output_type": "stream",
     "text": [
      "       Carat  Depth  Table  Price  Length  Width\n",
      "2       0.23   56.9   65.0    327    4.05   4.07\n",
      "3       0.29   62.4   58.0    334    4.20   4.23\n",
      "4       0.31   63.3   58.0    335    4.34   4.35\n",
      "5       0.24   62.8   57.0    336    3.94   3.96\n",
      "6       0.24   62.3   57.0    336    3.95   3.98\n",
      "...      ...    ...    ...    ...     ...    ...\n",
      "53935   0.72   60.8   57.0   2757    5.75   5.76\n",
      "53936   0.72   63.1   55.0   2757    5.69   5.75\n",
      "53937   0.70   62.8   60.0   2757    5.66   5.68\n",
      "53938   0.86   61.0   58.0   2757    6.15   6.12\n",
      "53939   0.75   62.2   55.0   2757    5.83   5.87\n",
      "\n",
      "[53938 rows x 6 columns]\n"
     ]
    }
   ],
   "source": [
    "# 24. Include only numeric columns\n",
    "numeric_columns = diamonds.select_dtypes(include=['number'])\n",
    "print(numeric_columns)"
   ]
  },
  {
   "cell_type": "code",
   "execution_count": 26,
   "id": "946fffb3-6eb5-420e-822a-0d6cd2ed88b2",
   "metadata": {},
   "outputs": [
    {
     "name": "stdout",
     "output_type": "stream",
     "text": [
      "          Cut  Color\n",
      "count   53938  53938\n",
      "unique      5      7\n",
      "top     Ideal      G\n",
      "freq    21550  11292\n"
     ]
    }
   ],
   "source": [
    "# 25. Pass a list of data types to only describe certain types\n",
    "print(diamonds.describe(include=['object']))"
   ]
  },
  {
   "cell_type": "code",
   "execution_count": 27,
   "id": "b642dc71-7ef4-419e-9049-85d018c0285b",
   "metadata": {},
   "outputs": [
    {
     "name": "stdout",
     "output_type": "stream",
     "text": [
      "Carat        0.797961\n",
      "Depth       61.749446\n",
      "Table       57.457164\n",
      "Price     3932.933461\n",
      "Length       5.731224\n",
      "Width        5.734594\n",
      "dtype: float64\n"
     ]
    }
   ],
   "source": [
    "# 26. Calculate the mean of each numeric column\n",
    "numeric_columns = diamonds.select_dtypes(include=['number'])\n",
    "print(numeric_columns.mean())"
   ]
  },
  {
   "cell_type": "code",
   "execution_count": 28,
   "id": "7935f1e7-cd7e-4ecb-bb3b-b095c3ff0134",
   "metadata": {},
   "outputs": [
    {
     "name": "stdout",
     "output_type": "stream",
     "text": [
      "2         76.208333\n",
      "3         77.186667\n",
      "4         77.550000\n",
      "5         77.323333\n",
      "6         77.245000\n",
      "            ...    \n",
      "53935    481.171667\n",
      "53936    481.210000\n",
      "53937    481.973333\n",
      "53938    481.521667\n",
      "53939    481.108333\n",
      "Length: 53938, dtype: float64\n"
     ]
    }
   ],
   "source": [
    "# 27. Calculate the mean of each row\n",
    "# Select only numeric columns\n",
    "numeric_columns = diamonds.select_dtypes(include=['number'])\n",
    "\n",
    "# Calculate the mean of each row\n",
    "row_means = numeric_columns.mean(axis=1)\n",
    "print(row_means)"
   ]
  },
  {
   "cell_type": "code",
   "execution_count": 29,
   "id": "dee747dc-2f9a-468e-b9aa-f56beca04657",
   "metadata": {},
   "outputs": [
    {
     "name": "stdout",
     "output_type": "stream",
     "text": [
      "Cut\n",
      "Fair         4358.757764\n",
      "Good         3928.864452\n",
      "Ideal        3457.687285\n",
      "Premium      4584.566497\n",
      "Very Good    3981.759891\n",
      "Name: Price, dtype: float64\n"
     ]
    }
   ],
   "source": [
    "# 28. Calculate mean of price for each cut\n",
    "mean_price_by_cut = diamonds.groupby('Cut')['Price'].mean()\n",
    "print(mean_price_by_cut)"
   ]
  },
  {
   "cell_type": "code",
   "execution_count": 30,
   "id": "a02aca0a-9bbb-4ffa-be53-a354001b57fb",
   "metadata": {},
   "outputs": [
    {
     "name": "stdout",
     "output_type": "stream",
     "text": [
      "           count  min    max\n",
      "Cut                         \n",
      "Fair        1610  337  18574\n",
      "Good        4906  327  18788\n",
      "Ideal      21550  340  18806\n",
      "Premium    13790  334  18823\n",
      "Very Good  12082  336  18818\n"
     ]
    }
   ],
   "source": [
    "# 29. Calculate count, min, max price for each cut\n",
    "price_stats_by_cut = diamonds.groupby('Cut')['Price'].agg(['count', 'min', 'max'])\n",
    "print(price_stats_by_cut)"
   ]
  },
  {
   "cell_type": "code",
   "execution_count": 31,
   "id": "4407831c-4c78-47d6-a5c6-6184e6d85de7",
   "metadata": {},
   "outputs": [
    {
     "data": {
      "image/png": "[encoded data removed]",
      "text/plain": [
       "<Figure size 640x480 with 1 Axes>"
      ]
     },
     "metadata": {},
     "output_type": "display_data"
    }
   ],
   "source": [
    "# 30. Create side-by-side bar plot\n",
    "price_stats_by_cut.plot(kind='bar')\n",
    "plt.show()"
   ]
  },
  {
   "cell_type": "code",
   "execution_count": 32,
   "id": "0c80aa0d-c5ff-447d-ad6c-08fcabe73f95",
   "metadata": {},
   "outputs": [
    {
     "name": "stdout",
     "output_type": "stream",
     "text": [
      "Cut\n",
      "Ideal        21550\n",
      "Premium      13790\n",
      "Very Good    12082\n",
      "Good          4906\n",
      "Fair          1610\n",
      "Name: count, dtype: int64\n"
     ]
    }
   ],
   "source": [
    "# 31. Count occurrences in cut series\n",
    "cut_counts = diamonds['Cut'].value_counts()\n",
    "print(cut_counts)"
   ]
  },
  {
   "cell_type": "code",
   "execution_count": 33,
   "id": "632c93e7-9311-4c10-91e4-549e21c17daa",
   "metadata": {},
   "outputs": [
    {
     "name": "stdout",
     "output_type": "stream",
     "text": [
      "Cut\n",
      "Ideal        39.953280\n",
      "Premium      25.566391\n",
      "Very Good    22.399792\n",
      "Good          9.095628\n",
      "Fair          2.984909\n",
      "Name: proportion, dtype: float64\n"
     ]
    }
   ],
   "source": [
    "# 32. Display percentages of each value in cut series\n",
    "cut_percentages = diamonds['Cut'].value_counts(normalize=True) * 100\n",
    "print(cut_percentages)"
   ]
  },
  {
   "cell_type": "code",
   "execution_count": 34,
   "id": "70a61945-b513-4630-afef-8b0796824477",
   "metadata": {},
   "outputs": [
    {
     "name": "stdout",
     "output_type": "stream",
     "text": [
      "['Good' 'Premium' 'Very Good' 'Fair' 'Ideal']\n"
     ]
    }
   ],
   "source": [
    "# 33. Display unique values in cut series\n",
    "unique_cuts = diamonds['Cut'].unique()\n",
    "print(unique_cuts)"
   ]
  },
  {
   "cell_type": "code",
   "execution_count": 35,
   "id": "ea78d29d-ad97-4387-9e07-3f5d75239b7f",
   "metadata": {},
   "outputs": [
    {
     "name": "stdout",
     "output_type": "stream",
     "text": [
      "5\n"
     ]
    }
   ],
   "source": [
    "# 34. Count number of unique values in cut series\n",
    "unique_count = diamonds['Cut'].nunique()\n",
    "print(unique_count)"
   ]
  },
  {
   "cell_type": "code",
   "execution_count": 36,
   "id": "b134220f-2f31-4fb7-814f-0eef7170c706",
   "metadata": {},
   "outputs": [
    {
     "name": "stdout",
     "output_type": "stream",
     "text": [
      "Carat      0.20  0.21  0.22  0.23  0.24  0.25  0.26  0.27  0.28  0.29  ...  \\\n",
      "Cut                                                                    ...   \n",
      "Fair          0     0     1     1     0     3     0     1     0     2  ...   \n",
      "Good          0     0     0    31    14    15    18     5    12     7  ...   \n",
      "Ideal         3     0     0    43    69    66   106   113    81    52  ...   \n",
      "Premium       8     7     4    20    17    28    30    16    13     8  ...   \n",
      "Very Good     1     1     0   197   154   100    99    98    92    61  ...   \n",
      "\n",
      "Carat      3.40  3.50  3.51  3.65  3.67  4.00  4.01  4.13  4.50  5.01  \n",
      "Cut                                                                    \n",
      "Fair          1     0     0     1     0     0     0     1     1     1  \n",
      "Good          0     0     0     0     0     0     0     0     0     0  \n",
      "Ideal         0     1     0     0     0     0     0     0     0     0  \n",
      "Premium       0     0     1     0     1     0     2     0     0     0  \n",
      "Very Good     0     0     0     0     0     1     0     0     0     0  \n",
      "\n",
      "[5 rows x 273 columns]\n"
     ]
    }
   ],
   "source": [
    "# 35. Compute a cross-tabulation of two series\n",
    "crosstab = pd.crosstab(diamonds['Cut'], diamonds['Carat'])\n",
    "print(crosstab)"
   ]
  },
  {
   "cell_type": "code",
   "execution_count": 37,
   "id": "a7d4c21e-01e4-42e2-b588-6b605bd64881",
   "metadata": {},
   "outputs": [
    {
     "name": "stdout",
     "output_type": "stream",
     "text": [
      "count     53938\n",
      "unique        5\n",
      "top       Ideal\n",
      "freq      21550\n",
      "Name: Cut, dtype: object\n"
     ]
    }
   ],
   "source": [
    "# 36. Summary statistics of cut series\n",
    "cut_summary = diamonds['Cut'].describe()\n",
    "print(cut_summary)"
   ]
  },
  {
   "cell_type": "code",
   "execution_count": 38,
   "id": "2fafbd0e-71c0-450d-862f-7325bcc5d6d7",
   "metadata": {},
   "outputs": [
    {
     "data": {
      "image/png": "[encoded data removed]",
      "text/plain": [
       "<Figure size 640x480 with 1 Axes>"
      ]
     },
     "metadata": {},
     "output_type": "display_data"
    }
   ],
   "source": [
    "# 37. Create histogram of carat series\n",
    "diamonds['Carat'].plot(kind='hist', bins=30)\n",
    "plt.show()"
   ]
  },
  {
   "cell_type": "code",
   "execution_count": 39,
   "id": "4530081d-4d16-4b32-a4b8-7f3cc7619be4",
   "metadata": {},
   "outputs": [
    {
     "data": {
      "image/png": "[encoded data removed]",
      "text/plain": [
       "<Figure size 640x480 with 1 Axes>"
      ]
     },
     "metadata": {},
     "output_type": "display_data"
    }
   ],
   "source": [
    "# 38. Create bar plot of value_counts for cut series\n",
    "cut_counts.plot(kind='bar')\n",
    "plt.show()"
   ]
  },
  {
   "cell_type": "code",
   "execution_count": 40,
   "id": "32c989e3-9080-4366-9aff-f084c9ca7126",
   "metadata": {},
   "outputs": [
    {
     "name": "stdout",
     "output_type": "stream",
     "text": [
      "       Carat    Cut  Color  Depth  Table  Price  Length  Width\n",
      "2      False  False  False  False  False  False   False  False\n",
      "3      False  False  False  False  False  False   False  False\n",
      "4      False  False  False  False  False  False   False  False\n",
      "5      False  False  False  False  False  False   False  False\n",
      "6      False  False  False  False  False  False   False  False\n",
      "...      ...    ...    ...    ...    ...    ...     ...    ...\n",
      "53935  False  False  False  False  False  False   False  False\n",
      "53936  False  False  False  False  False  False   False  False\n",
      "53937  False  False  False  False  False  False   False  False\n",
      "53938  False  False  False  False  False  False   False  False\n",
      "53939  False  False  False  False  False  False   False  False\n",
      "\n",
      "[53938 rows x 8 columns]\n"
     ]
    }
   ],
   "source": [
    "# 39. Create DataFrame of booleans (True if missing)\n",
    "missing_values = diamonds.isnull()\n",
    "print(missing_values)"
   ]
  },
  {
   "cell_type": "code",
   "execution_count": 41,
   "id": "6ac9231f-8351-4f51-8804-3d29bf9a720d",
   "metadata": {},
   "outputs": [
    {
     "name": "stdout",
     "output_type": "stream",
     "text": [
      "Carat     0\n",
      "Cut       0\n",
      "Color     0\n",
      "Depth     0\n",
      "Table     0\n",
      "Price     0\n",
      "Length    0\n",
      "Width     0\n",
      "dtype: int64\n"
     ]
    }
   ],
   "source": [
    "# 40. Count missing values in each series\n",
    "missing_values_count = diamonds.isnull().sum()\n",
    "print(missing_values_count)"
   ]
  },
  {
   "cell_type": "code",
   "execution_count": 42,
   "id": "bd3a4175-c187-45b3-8d4f-dd5f07f767b0",
   "metadata": {},
   "outputs": [
    {
     "name": "stdout",
     "output_type": "stream",
     "text": [
      "       Carat        Cut Color  Depth  Table  Price  Length  Width\n",
      "2       0.23       Good     E   56.9   65.0    327    4.05   4.07\n",
      "3       0.29    Premium     I   62.4   58.0    334    4.20   4.23\n",
      "4       0.31       Good     J   63.3   58.0    335    4.34   4.35\n",
      "5       0.24  Very Good     J   62.8   57.0    336    3.94   3.96\n",
      "6       0.24  Very Good     I   62.3   57.0    336    3.95   3.98\n",
      "...      ...        ...   ...    ...    ...    ...     ...    ...\n",
      "53935   0.72      Ideal     D   60.8   57.0   2757    5.75   5.76\n",
      "53936   0.72       Good     D   63.1   55.0   2757    5.69   5.75\n",
      "53937   0.70  Very Good     D   62.8   60.0   2757    5.66   5.68\n",
      "53938   0.86    Premium     H   61.0   58.0   2757    6.15   6.12\n",
      "53939   0.75      Ideal     D   62.2   55.0   2757    5.83   5.87\n",
      "\n",
      "[53938 rows x 8 columns]\n"
     ]
    }
   ],
   "source": [
    "# 41. Drop rows with any missing values\n",
    "diamonds_clean = diamonds.dropna()\n",
    "print(diamonds_clean)"
   ]
  },
  {
   "cell_type": "code",
   "execution_count": 43,
   "id": "cdf34569-8af3-4aa0-9d6d-c9372ed37abf",
   "metadata": {},
   "outputs": [
    {
     "name": "stdout",
     "output_type": "stream",
     "text": [
      "       Carat        Cut Color  Depth  Table  Price  Length  Width\n",
      "2       0.23       Good     E   56.9   65.0    327    4.05   4.07\n",
      "3       0.29    Premium     I   62.4   58.0    334    4.20   4.23\n",
      "4       0.31       Good     J   63.3   58.0    335    4.34   4.35\n",
      "5       0.24  Very Good     J   62.8   57.0    336    3.94   3.96\n",
      "6       0.24  Very Good     I   62.3   57.0    336    3.95   3.98\n",
      "...      ...        ...   ...    ...    ...    ...     ...    ...\n",
      "53935   0.72      Ideal     D   60.8   57.0   2757    5.75   5.76\n",
      "53936   0.72       Good     D   63.1   55.0   2757    5.69   5.75\n",
      "53937   0.70  Very Good     D   62.8   60.0   2757    5.66   5.68\n",
      "53938   0.86    Premium     H   61.0   58.0   2757    6.15   6.12\n",
      "53939   0.75      Ideal     D   62.2   55.0   2757    5.83   5.87\n",
      "\n",
      "[53938 rows x 8 columns]\n"
     ]
    }
   ],
   "source": [
    "# 42. Drop a row if any values are missing in two specific columns\n",
    "diamonds_clean_specific = diamonds.dropna(subset=['Carat', 'Price'])\n",
    "print(diamonds_clean_specific)"
   ]
  },
  {
   "cell_type": "code",
   "execution_count": 44,
   "id": "122a49f1-67f7-4ec5-965d-04e3c0a8e39e",
   "metadata": {},
   "outputs": [
    {
     "name": "stdout",
     "output_type": "stream",
     "text": [
      "             Cut Color  Depth  Table  Price  Length  Width\n",
      "Carat                                                     \n",
      "0.23        Good     E   56.9   65.0    327    4.05   4.07\n",
      "0.29     Premium     I   62.4   58.0    334    4.20   4.23\n",
      "0.31        Good     J   63.3   58.0    335    4.34   4.35\n",
      "0.24   Very Good     J   62.8   57.0    336    3.94   3.96\n",
      "0.24   Very Good     I   62.3   57.0    336    3.95   3.98\n",
      "...          ...   ...    ...    ...    ...     ...    ...\n",
      "0.72       Ideal     D   60.8   57.0   2757    5.75   5.76\n",
      "0.72        Good     D   63.1   55.0   2757    5.69   5.75\n",
      "0.70   Very Good     D   62.8   60.0   2757    5.66   5.68\n",
      "0.86     Premium     H   61.0   58.0   2757    6.15   6.12\n",
      "0.75       Ideal     D   62.2   55.0   2757    5.83   5.87\n",
      "\n",
      "[53938 rows x 7 columns]\n"
     ]
    }
   ],
   "source": [
    "# 43. Set an existing column as index\n",
    "diamonds_indexed = diamonds.set_index('Carat')\n",
    "print(diamonds_indexed)"
   ]
  },
  {
   "cell_type": "code",
   "execution_count": 45,
   "id": "9411ef1f-49a7-409e-bbee-3d651f378200",
   "metadata": {},
   "outputs": [
    {
     "name": "stdout",
     "output_type": "stream",
     "text": [
      "       Carat        Cut Color  Depth  Table  Price  Length  Width\n",
      "0       0.23       Good     E   56.9   65.0    327    4.05   4.07\n",
      "1       0.29    Premium     I   62.4   58.0    334    4.20   4.23\n",
      "2       0.31       Good     J   63.3   58.0    335    4.34   4.35\n",
      "3       0.24  Very Good     J   62.8   57.0    336    3.94   3.96\n",
      "4       0.24  Very Good     I   62.3   57.0    336    3.95   3.98\n",
      "...      ...        ...   ...    ...    ...    ...     ...    ...\n",
      "53933   0.72      Ideal     D   60.8   57.0   2757    5.75   5.76\n",
      "53934   0.72       Good     D   63.1   55.0   2757    5.69   5.75\n",
      "53935   0.70  Very Good     D   62.8   60.0   2757    5.66   5.68\n",
      "53936   0.86    Premium     H   61.0   58.0   2757    6.15   6.12\n",
      "53937   0.75      Ideal     D   62.2   55.0   2757    5.83   5.87\n",
      "\n",
      "[53938 rows x 8 columns]\n"
     ]
    }
   ],
   "source": [
    "# 44. Restore the index and move it back to a column\n",
    "diamonds_reset = diamonds_indexed.reset_index()\n",
    "print(diamonds_reset)"
   ]
  },
  {
   "cell_type": "code",
   "execution_count": 46,
   "id": "4c78e56f-dd2c-412d-afcb-34b7189c3529",
   "metadata": {},
   "outputs": [
    {
     "name": "stdout",
     "output_type": "stream",
     "text": [
      "RangeIndex(start=2, stop=53940, step=1)\n",
      "['Good' 'Premium' 'Good' ... 'Very Good' 'Premium' 'Ideal']\n"
     ]
    }
   ],
   "source": [
    "# 45. Access a specified series index and values\n",
    "print(diamonds['Cut'].index)\n",
    "print(diamonds['Cut'].values)"
   ]
  },
  {
   "cell_type": "code",
   "execution_count": 47,
   "id": "85f91089-c290-4c6e-a5a9-e10e7452ed2a",
   "metadata": {},
   "outputs": [
    {
     "name": "stdout",
     "output_type": "stream",
     "text": [
      "4124          Fair\n",
      "8202          Fair\n",
      "8200          Fair\n",
      "51026         Fair\n",
      "47802         Fair\n",
      "           ...    \n",
      "7403     Very Good\n",
      "43101    Very Good\n",
      "7402     Very Good\n",
      "16898    Very Good\n",
      "21164    Very Good\n",
      "Name: Cut, Length: 53938, dtype: object\n",
      "2             Good\n",
      "3          Premium\n",
      "4             Good\n",
      "5        Very Good\n",
      "6        Very Good\n",
      "           ...    \n",
      "53935        Ideal\n",
      "53936         Good\n",
      "53937    Very Good\n",
      "53938      Premium\n",
      "53939        Ideal\n",
      "Name: Cut, Length: 53938, dtype: object\n"
     ]
    }
   ],
   "source": [
    "# 46. Sort a series by its values and index\n",
    "cut_sorted = diamonds['Cut'].sort_values()\n",
    "cut_sorted_by_index = diamonds['Cut'].sort_index()\n",
    "print(cut_sorted)\n",
    "print(cut_sorted_by_index)"
   ]
  },
  {
   "cell_type": "code",
   "execution_count": 48,
   "id": "aa204507-73c9-4373-a47b-02f94fc0994e",
   "metadata": {},
   "outputs": [
    {
     "name": "stdout",
     "output_type": "stream",
     "text": [
      "             Cut      Volume\n",
      "2           Good   937.91115\n",
      "3        Premium  1108.59840\n",
      "4           Good  1195.04070\n",
      "5      Very Good   979.83072\n",
      "6      Very Good   979.41830\n",
      "...          ...         ...\n",
      "53935      Ideal  2013.69600\n",
      "53936       Good  2064.47425\n",
      "53937  Very Good  2018.94464\n",
      "53938    Premium  2295.91800\n",
      "53939      Ideal  2128.61462\n",
      "\n",
      "[53938 rows x 2 columns]\n"
     ]
    }
   ],
   "source": [
    "# 47. Multiply length, width, and depth for each cut\n",
    "diamonds['Volume'] = diamonds['Length'] * diamonds['Width'] * diamonds['Depth']\n",
    "print(diamonds[['Cut', 'Volume']])"
   ]
  },
  {
   "cell_type": "code",
   "execution_count": 49,
   "id": "10bcfa16-456e-4b77-a5d3-ebd48a45811e",
   "metadata": {},
   "outputs": [
    {
     "name": "stdout",
     "output_type": "stream",
     "text": [
      "       Carat        Cut Color  Depth  Table  Price  Length  Width      Volume  \\\n",
      "2       0.23       Good     E   56.9   65.0    327    4.05   4.07   937.91115   \n",
      "3       0.29    Premium     I   62.4   58.0    334    4.20   4.23  1108.59840   \n",
      "4       0.31       Good     J   63.3   58.0    335    4.34   4.35  1195.04070   \n",
      "5       0.24  Very Good     J   62.8   57.0    336    3.94   3.96   979.83072   \n",
      "6       0.24  Very Good     I   62.3   57.0    336    3.95   3.98   979.41830   \n",
      "...      ...        ...   ...    ...    ...    ...     ...    ...         ...   \n",
      "53935   0.72      Ideal     D   60.8   57.0   2757    5.75   5.76  2013.69600   \n",
      "53936   0.72       Good     D   63.1   55.0   2757    5.69   5.75  2064.47425   \n",
      "53937   0.70  Very Good     D   62.8   60.0   2757    5.66   5.68  2018.94464   \n",
      "53938   0.86    Premium     H   61.0   58.0   2757    6.15   6.12  2295.91800   \n",
      "53939   0.75      Ideal     D   62.2   55.0   2757    5.83   5.87  2128.61462   \n",
      "\n",
      "      Color  \n",
      "2         E  \n",
      "3         I  \n",
      "4         J  \n",
      "5         J  \n",
      "6         I  \n",
      "...     ...  \n",
      "53935     D  \n",
      "53936     D  \n",
      "53937     D  \n",
      "53938     H  \n",
      "53939     D  \n",
      "\n",
      "[53938 rows x 10 columns]\n"
     ]
    }
   ],
   "source": [
    "# 48. Concatenate diamonds DataFrame with 'Color' series\n",
    "diamonds_concat = pd.concat([diamonds, diamonds['Color']], axis=1)\n",
    "print(diamonds_concat)"
   ]
  },
  {
   "cell_type": "code",
   "execution_count": 50,
   "id": "2d662042-0efa-4243-899c-979d20e923ca",
   "metadata": {},
   "outputs": [
    {
     "name": "stdout",
     "output_type": "stream",
     "text": [
      "   Carat        Cut Color  Depth  Table  Price  Length  Width      Volume\n",
      "2   0.23       Good     E   56.9   65.0    327    4.05   4.07   937.91115\n",
      "7   0.26  Very Good     H   61.9   55.0    337    4.07   4.11  1035.44463\n",
      "9   0.23  Very Good     H   59.4   61.0    338    4.00   4.05   962.28000\n"
     ]
    }
   ],
   "source": [
    "# 49. Read specified rows and all columns\n",
    "print(diamonds.iloc[[0, 5, 7]])"
   ]
  },
  {
   "cell_type": "code",
   "execution_count": 51,
   "id": "b7debbee-f3d6-4920-ba0c-cf82043a3927",
   "metadata": {},
   "outputs": [
    {
     "name": "stdout",
     "output_type": "stream",
     "text": [
      "   Carat        Cut Color  Depth  Table  Price  Length  Width      Volume\n",
      "2   0.23       Good     E   56.9   65.0    327    4.05   4.07   937.91115\n",
      "7   0.26  Very Good     H   61.9   55.0    337    4.07   4.11  1035.44463\n",
      "9   0.23  Very Good     H   59.4   61.0    338    4.00   4.05   962.28000\n"
     ]
    }
   ],
   "source": [
    "# 50. Read rows 0, 5, 7 and all columns\n",
    "print(diamonds.iloc[[0, 5, 7]])"
   ]
  },
  {
   "cell_type": "code",
   "execution_count": 52,
   "id": "d8e9dea5-7a92-4151-857e-e70e3bdebc55",
   "metadata": {},
   "outputs": [
    {
     "name": "stdout",
     "output_type": "stream",
     "text": [
      "   Carat        Cut Color  Depth  Table  Price  Length  Width      Volume\n",
      "4   0.31       Good     J   63.3   58.0    335    4.34   4.35  1195.04070\n",
      "5   0.24  Very Good     J   62.8   57.0    336    3.94   3.96   979.83072\n",
      "6   0.24  Very Good     I   62.3   57.0    336    3.95   3.98   979.41830\n",
      "7   0.26  Very Good     H   61.9   55.0    337    4.07   4.11  1035.44463\n"
     ]
    }
   ],
   "source": [
    "# 51. Read rows 2 through 5 and all columns\n",
    "print(diamonds.iloc[2:6])"
   ]
  },
  {
   "cell_type": "code",
   "execution_count": 53,
   "id": "7b0d9b3c-4432-491d-9038-397f6d4edff0",
   "metadata": {},
   "outputs": [
    {
     "name": "stdout",
     "output_type": "stream",
     "text": [
      "  Color  Price\n",
      "2     E    327\n"
     ]
    }
   ],
   "source": [
    "# 52. Read rows 0 through 2, columns 'Color' and 'Price'\n",
    "print(diamonds.loc[0:2, ['Color', 'Price']])"
   ]
  },
  {
   "cell_type": "code",
   "execution_count": 54,
   "id": "5bdcf8c5-80ed-452c-9134-765d8adfba6c",
   "metadata": {},
   "outputs": [
    {
     "name": "stdout",
     "output_type": "stream",
     "text": [
      "  Color  Depth  Table  Price\n",
      "2     E   56.9   65.0    327\n"
     ]
    }
   ],
   "source": [
    "# 53. Read rows 0 through 2, columns 'Color' through 'Price'\n",
    "print(diamonds.loc[0:2, 'Color':'Price'])"
   ]
  },
  {
   "cell_type": "code",
   "execution_count": 55,
   "id": "296cd6b3-7448-420c-a268-80ffe03343f3",
   "metadata": {},
   "outputs": [
    {
     "name": "stdout",
     "output_type": "stream",
     "text": [
      "3        I\n",
      "12       F\n",
      "14       E\n",
      "15       E\n",
      "26       I\n",
      "        ..\n",
      "53928    E\n",
      "53930    E\n",
      "53931    F\n",
      "53934    D\n",
      "53938    H\n",
      "Name: Color, Length: 13790, dtype: object\n"
     ]
    }
   ],
   "source": [
    "# 54. Read rows where cut is 'Premium', column 'Color'\n",
    "premium_color = diamonds.loc[diamonds['Cut'] == 'Premium', 'Color']\n",
    "print(premium_color)"
   ]
  },
  {
   "cell_type": "code",
   "execution_count": 56,
   "id": "cd36da24-e29c-4323-956c-2526e14afdc9",
   "metadata": {},
   "outputs": [
    {
     "name": "stdout",
     "output_type": "stream",
     "text": [
      "   Carat  Depth\n",
      "2   0.23   56.9\n",
      "3   0.29   62.4\n"
     ]
    }
   ],
   "source": [
    "# 55. Read rows in positions 0 and 1, columns 0 and 3\n",
    "print(diamonds.iloc[[0, 1], [0, 3]])"
   ]
  },
  {
   "cell_type": "code",
   "execution_count": 57,
   "id": "8eacf004-0ae1-4ce2-8c82-c80c5169f015",
   "metadata": {},
   "outputs": [
    {
     "name": "stdout",
     "output_type": "stream",
     "text": [
      "         Cut Color  Depth  Table\n",
      "2       Good     E   56.9   65.0\n",
      "3    Premium     I   62.4   58.0\n",
      "4       Good     J   63.3   58.0\n",
      "5  Very Good     J   62.8   57.0\n",
      "6  Very Good     I   62.3   57.0\n"
     ]
    }
   ],
   "source": [
    "# 56. Read rows 0 through 4, columns 1 through 4\n",
    "print(diamonds.iloc[0:5, 1:5])"
   ]
  },
  {
   "cell_type": "code",
   "execution_count": 58,
   "id": "30245143-9305-4167-9a33-9193d616e4fd",
   "metadata": {},
   "outputs": [
    {
     "name": "stdout",
     "output_type": "stream",
     "text": [
      "   Carat        Cut Color  Depth  Table  Price  Length  Width      Volume\n",
      "2   0.23       Good     E   56.9   65.0    327    4.05   4.07   937.91115\n",
      "3   0.29    Premium     I   62.4   58.0    334    4.20   4.23  1108.59840\n",
      "4   0.31       Good     J   63.3   58.0    335    4.34   4.35  1195.04070\n",
      "5   0.24  Very Good     J   62.8   57.0    336    3.94   3.96   979.83072\n"
     ]
    }
   ],
   "source": [
    "# 57. Read rows 0 through 4 (exclusive) and all columns\n",
    "print(diamonds.iloc[0:4])"
   ]
  },
  {
   "cell_type": "code",
   "execution_count": 59,
   "id": "320df8fd-d9ff-4225-a2b7-fee7f8d7269a",
   "metadata": {},
   "outputs": [
    {
     "name": "stdout",
     "output_type": "stream",
     "text": [
      "   Carat        Cut\n",
      "4   0.31       Good\n",
      "5   0.24  Very Good\n",
      "6   0.24  Very Good\n",
      "7   0.26  Very Good\n"
     ]
    }
   ],
   "source": [
    "# 58. Read rows 2 through 5, columns 0 through 2 (exclusive)\n",
    "print(diamonds.iloc[2:6, 0:2])"
   ]
  },
  {
   "cell_type": "code",
   "execution_count": 60,
   "id": "6dba922a-94e9-4738-a6ea-3f4e4ed7540c",
   "metadata": {},
   "outputs": [
    {
     "name": "stdout",
     "output_type": "stream",
     "text": [
      "<class 'pandas.core.frame.DataFrame'>\n",
      "RangeIndex: 53938 entries, 2 to 53939\n",
      "Data columns (total 9 columns):\n",
      " #   Column  Non-Null Count  Dtype  \n",
      "---  ------  --------------  -----  \n",
      " 0   Carat   53938 non-null  float64\n",
      " 1   Cut     53938 non-null  object \n",
      " 2   Color   53938 non-null  object \n",
      " 3   Depth   53938 non-null  float64\n",
      " 4   Table   53938 non-null  float64\n",
      " 5   Price   53938 non-null  int64  \n",
      " 6   Length  53938 non-null  float64\n",
      " 7   Width   53938 non-null  float64\n",
      " 8   Volume  53938 non-null  float64\n",
      "dtypes: float64(6), int64(1), object(2)\n",
      "memory usage: 3.7+ MB\n",
      "None\n"
     ]
    }
   ],
   "source": [
    "# 59. Print concise summary of DataFrame\n",
    "print(diamonds.info())"
   ]
  },
  {
   "cell_type": "code",
   "execution_count": 61,
   "id": "a28acc94-194e-4441-ac3a-7e7f1b8601f4",
   "metadata": {},
   "outputs": [
    {
     "name": "stdout",
     "output_type": "stream",
     "text": [
      "Index         132\n",
      "Carat      431504\n",
      "Cut       2982044\n",
      "Color     2696900\n",
      "Depth      431504\n",
      "Table      431504\n",
      "Price      431504\n",
      "Length     431504\n",
      "Width      431504\n",
      "Volume     431504\n",
      "dtype: int64\n"
     ]
    }
   ],
   "source": [
    "# 60. Get true memory usage\n",
    "print(diamonds.memory_usage(deep=True))"
   ]
  },
  {
   "cell_type": "code",
   "execution_count": 62,
   "id": "89450c18-819e-46f1-bba0-3b2cab610f44",
   "metadata": {},
   "outputs": [
    {
     "name": "stdout",
     "output_type": "stream",
     "text": [
      "Index         132\n",
      "Carat      431504\n",
      "Cut       2982044\n",
      "Color     2696900\n",
      "Depth      431504\n",
      "Table      431504\n",
      "Price      431504\n",
      "Length     431504\n",
      "Width      431504\n",
      "Volume     431504\n",
      "dtype: int64\n"
     ]
    }
   ],
   "source": [
    "# 61. Calculate memory usage for each series\n",
    "print(diamonds.memory_usage(deep=True))"
   ]
  },
  {
   "cell_type": "code",
   "execution_count": 63,
   "id": "be551cf8-2f12-46d2-8e1d-5392a662cabb",
   "metadata": {},
   "outputs": [
    {
     "name": "stdout",
     "output_type": "stream",
     "text": [
      "       Carat      Cut Color  Depth  Table  Price  Length  Width      Volume\n",
      "28438   0.30    Ideal     D   61.3   57.0    670    4.34   4.37  1162.60354\n",
      "767     0.73    Ideal     D   61.5   56.0   2858    5.84   5.80  2083.12800\n",
      "30156   0.30    Ideal     E   61.4   56.0    720    4.36   4.33  1159.15832\n",
      "38106   0.36  Premium     E   62.3   58.0   1013    4.55   4.51  1278.42715\n",
      "882     0.90     Good     J   64.0   61.0   2873    6.00   5.96  2288.64000\n"
     ]
    }
   ],
   "source": [
    "# 62. Get random sample rows\n",
    "print(diamonds.sample(5))"
   ]
  },
  {
   "cell_type": "code",
   "execution_count": 64,
   "id": "2b6ef149-bf94-4305-9650-e4d35549e90f",
   "metadata": {},
   "outputs": [
    {
     "name": "stdout",
     "output_type": "stream",
     "text": [
      "(40454, 9)\n",
      "(13484, 9)\n"
     ]
    }
   ],
   "source": [
    "# 63. Sample 75% of rows without replacement and store remaining 25%\n",
    "diamonds_75 = diamonds.sample(frac=0.75, random_state=42)\n",
    "diamonds_25 = diamonds.drop(diamonds_75.index)\n",
    "print(diamonds_75.shape)\n",
    "print(diamonds_25.shape)"
   ]
  },
  {
   "cell_type": "code",
   "execution_count": 65,
   "id": "c01f69f0-50db-4e25-95c8-ea4f4b732f5c",
   "metadata": {},
   "outputs": [
    {
     "name": "stdout",
     "output_type": "stream",
     "text": [
      "2        False\n",
      "3        False\n",
      "4        False\n",
      "5         True\n",
      "6         True\n",
      "         ...  \n",
      "53935     True\n",
      "53936     True\n",
      "53937     True\n",
      "53938     True\n",
      "53939     True\n",
      "Name: Color, Length: 53938, dtype: bool\n"
     ]
    }
   ],
   "source": [
    "# 64. Detect duplicate colors\n",
    "print(diamonds['Color'].duplicated())"
   ]
  },
  {
   "cell_type": "code",
   "execution_count": 66,
   "id": "0c9bc64e-251e-416e-b742-ad8140d3d428",
   "metadata": {},
   "outputs": [
    {
     "name": "stdout",
     "output_type": "stream",
     "text": [
      "150\n"
     ]
    }
   ],
   "source": [
    "# 65. Count duplicate rows\n",
    "print(diamonds.duplicated().sum())"
   ]
  }
 ],
 "metadata": {
  "kernelspec": {
   "display_name": "Python 3 (ipykernel)",
   "language": "python",
   "name": "python3"
  },
  "language_info": {
   "codemirror_mode": {
    "name": "ipython",
    "version": 3
   },
   "file_extension": ".py",
   "mimetype": "text/x-python",
   "name": "python",
   "nbconvert_exporter": "python",
   "pygments_lexer": "ipython3",
   "version": "3.12.4"
  }
 },
 "nbformat": 4,
 "nbformat_minor": 5
}
