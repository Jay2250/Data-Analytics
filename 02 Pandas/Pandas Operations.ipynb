{
 "cells": [
  {
   "cell_type": "code",
   "execution_count": 1,
   "id": "b04faf5f-600e-4009-8d31-1fce380e7b90",
   "metadata": {},
   "outputs": [],
   "source": [
    "import pandas as pd\n",
    "import numpy as np"
   ]
  },
  {
   "cell_type": "code",
   "execution_count": 2,
   "id": "d2936cad-1855-41da-adac-650e4bfd2898",
   "metadata": {},
   "outputs": [
    {
     "name": "stdout",
     "output_type": "stream",
     "text": [
      "0    1\n",
      "1    2\n",
      "2    3\n",
      "3    4\n",
      "4    5\n",
      "dtype: int64\n"
     ]
    }
   ],
   "source": [
    "# 1. Create a one-dimensional array-like object containing an array of data.\n",
    "s1 = pd.Series([1, 2, 3, 4, 5])\n",
    "print(s1)"
   ]
  },
  {
   "cell_type": "code",
   "execution_count": 3,
   "id": "781cc452-a42b-4ef3-800d-f89290f10771",
   "metadata": {},
   "outputs": [
    {
     "name": "stdout",
     "output_type": "stream",
     "text": [
      "[1, 2, 3, 4, 5] <class 'list'>\n"
     ]
    }
   ],
   "source": [
    "# 2. Convert a Pandas Series to Python list and its type.\n",
    "print(s1.tolist(), type(s1.tolist()))"
   ]
  },
  {
   "cell_type": "code",
   "execution_count": 4,
   "id": "828c3e68-be14-4e67-94d0-210abefe59cf",
   "metadata": {},
   "outputs": [
    {
     "name": "stdout",
     "output_type": "stream",
     "text": [
      "0     3\n",
      "1     7\n",
      "2    11\n",
      "3    15\n",
      "4    19\n",
      "dtype: int64 0    1\n",
      "1    1\n",
      "2    1\n",
      "3    1\n",
      "4    1\n",
      "dtype: int64 0     2\n",
      "1    12\n",
      "2    30\n",
      "3    56\n",
      "4    90\n",
      "dtype: int64 0    2.000000\n",
      "1    1.333333\n",
      "2    1.200000\n",
      "3    1.142857\n",
      "4    1.111111\n",
      "dtype: float64\n"
     ]
    }
   ],
   "source": [
    "# 3. Add, subtract, multiply, and divide two Pandas Series.\n",
    "s2 = pd.Series([2, 4, 6, 8, 10])\n",
    "s3 = pd.Series([1, 3, 5, 7, 9])\n",
    "print(s2 + s3, s2 - s3, s2 * s3, s2 / s3)"
   ]
  },
  {
   "cell_type": "code",
   "execution_count": 5,
   "id": "3c920790-6a07-4673-a8a2-c58385c927c3",
   "metadata": {},
   "outputs": [
    {
     "name": "stdout",
     "output_type": "stream",
     "text": [
      "0    False\n",
      "1    False\n",
      "2    False\n",
      "3    False\n",
      "4     True\n",
      "dtype: bool 0     True\n",
      "1     True\n",
      "2     True\n",
      "3     True\n",
      "4    False\n",
      "dtype: bool 0    False\n",
      "1    False\n",
      "2    False\n",
      "3    False\n",
      "4    False\n",
      "dtype: bool\n"
     ]
    }
   ],
   "source": [
    "# 4. Compare the elements of two Pandas Series.\n",
    "s4 = pd.Series([2, 4, 6, 8, 10])\n",
    "s5 = pd.Series([1, 3, 5, 7, 10])\n",
    "print(s4 == s5, s4 > s5, s4 < s5)"
   ]
  },
  {
   "cell_type": "code",
   "execution_count": 6,
   "id": "a88fa629-5d1a-45ab-a5fc-8f1ea86c2e1f",
   "metadata": {},
   "outputs": [
    {
     "name": "stdout",
     "output_type": "stream",
     "text": [
      "a    100\n",
      "b    200\n",
      "c    300\n",
      "d    400\n",
      "e    800\n",
      "dtype: int64\n"
     ]
    }
   ],
   "source": [
    "# 5. Convert a dictionary to a Pandas series.\n",
    "d = {'a': 100, 'b': 200, 'c': 300, 'd': 400, 'e': 800}\n",
    "s6 = pd.Series(d)\n",
    "print(s6)"
   ]
  },
  {
   "cell_type": "code",
   "execution_count": 7,
   "id": "6561b07e-3314-475a-8fc4-bf1b25d2c782",
   "metadata": {},
   "outputs": [
    {
     "name": "stdout",
     "output_type": "stream",
     "text": [
      "0    10\n",
      "1    20\n",
      "2    30\n",
      "3    40\n",
      "4    50\n",
      "dtype: int64\n"
     ]
    }
   ],
   "source": [
    "# 6. Convert a NumPy array to a Pandas series.\n",
    "arr = np.array([10, 20, 30, 40, 50])\n",
    "s7 = pd.Series(arr)\n",
    "print(s7)"
   ]
  },
  {
   "cell_type": "code",
   "execution_count": 8,
   "id": "970a6d27-3b1f-48c2-8f96-a6c7be3ed644",
   "metadata": {},
   "outputs": [
    {
     "name": "stdout",
     "output_type": "stream",
     "text": [
      "0    100.00\n",
      "1    200.00\n",
      "2       NaN\n",
      "3    300.12\n",
      "4    400.00\n",
      "dtype: float64\n"
     ]
    }
   ],
   "source": [
    "# 7. Change the data type of a given Series.\n",
    "s8 = pd.Series([100, 200, 'python', 300.12, 400])\n",
    "s8_numeric = pd.to_numeric(s8, errors='coerce')\n",
    "print(s8_numeric)"
   ]
  },
  {
   "cell_type": "code",
   "execution_count": 9,
   "id": "658b3dcb-1cae-4ea1-872a-1433f73fb7da",
   "metadata": {},
   "outputs": [
    {
     "name": "stdout",
     "output_type": "stream",
     "text": [
      "0     1\n",
      "1     2\n",
      "2     3\n",
      "3     4\n",
      "4     7\n",
      "5    11\n",
      "Name: col1, dtype: int64 <class 'pandas.core.series.Series'>\n"
     ]
    }
   ],
   "source": [
    "# 8. Convert the first column of a DataFrame as a Series.\n",
    "df = pd.DataFrame({\n",
    "    'col1': [1, 2, 3, 4, 7, 11],\n",
    "    'col2': [4, 5, 6, 9, 5, 0],\n",
    "    'col3': [7, 5, 8, 12, 1, 11]\n",
    "})\n",
    "s9 = df['col1']\n",
    "print(s9, type(s9))"
   ]
  },
  {
   "cell_type": "code",
   "execution_count": 10,
   "id": "31ec869f-1074-4f0f-af39-e870f883b637",
   "metadata": {},
   "outputs": [
    {
     "name": "stdout",
     "output_type": "stream",
     "text": [
      "[100 200 'python' 300.12 400] <class 'numpy.ndarray'>\n"
     ]
    }
   ],
   "source": [
    "# 9. Convert a given Series to an array.\n",
    "s10 = pd.Series([100, 200, 'python', 300.12, 400])\n",
    "arr2 = s10.to_numpy()\n",
    "print(arr2, type(arr2))"
   ]
  },
  {
   "cell_type": "code",
   "execution_count": 11,
   "id": "01f4d089-a9e1-42ba-a0bd-14f159087db6",
   "metadata": {},
   "outputs": [
    {
     "name": "stdout",
     "output_type": "stream",
     "text": [
      "0       Red\n",
      "1     Green\n",
      "2     White\n",
      "3       Red\n",
      "4     Black\n",
      "5    Yellow\n",
      "dtype: object\n"
     ]
    }
   ],
   "source": [
    "# 10. Convert Series of lists to one Series.\n",
    "s11 = pd.Series([['Red', 'Green', 'White'], ['Red', 'Black'], ['Yellow']])\n",
    "s11_flat = pd.Series([i for item in s11 for i in item])\n",
    "print(s11_flat)"
   ]
  },
  {
   "cell_type": "code",
   "execution_count": 12,
   "id": "a26d0932-a837-4251-b2b2-4d56c9d164a5",
   "metadata": {},
   "outputs": [
    {
     "name": "stdout",
     "output_type": "stream",
     "text": [
      "0       100\n",
      "1       200\n",
      "3    300.12\n",
      "4       400\n",
      "dtype: object\n",
      "0       100\n",
      "1       200\n",
      "3    300.12\n",
      "4       400\n",
      "2    python\n",
      "dtype: object\n"
     ]
    }
   ],
   "source": [
    "# 11. Sort a given Series.\n",
    "s12 = pd.Series([100, 200, 'python', 300.12, 400])\n",
    "\n",
    "# Filter out non-numeric values for sorting\n",
    "s12_numeric = s12[pd.to_numeric(s12, errors='coerce').notna()]\n",
    "sorted_s12 = s12_numeric.sort_values()\n",
    "print(sorted_s12)\n",
    "\n",
    "s12 = pd.Series([100, 200, 'python', 300.12, 400])\n",
    "\n",
    "# Convert everything to string before sorting\n",
    "sorted_s12_as_string = s12.astype(str).sort_values()\n",
    "print(sorted_s12_as_string)\n"
   ]
  },
  {
   "cell_type": "code",
   "execution_count": 13,
   "id": "c2dbc50a-0c51-4ba2-b410-601004fe98ce",
   "metadata": {},
   "outputs": [
    {
     "name": "stdout",
     "output_type": "stream",
     "text": [
      "0       100\n",
      "1       200\n",
      "2    python\n",
      "3    300.12\n",
      "4       400\n",
      "0       500\n",
      "1       php\n",
      "dtype: object\n"
     ]
    }
   ],
   "source": [
    "# 12. Add some data to an existing Series.\n",
    "# Create the original Series\n",
    "s13 = pd.Series([100, 200, 'python', 300.12, 400])\n",
    "\n",
    "# Use pd.concat() to add new elements\n",
    "s13_extended = pd.concat([s13, pd.Series([500, 'php'])])\n",
    "\n",
    "print(s13_extended)"
   ]
  },
  {
   "cell_type": "code",
   "execution_count": 14,
   "id": "ee43558f-7290-4838-8350-36324b64fa78",
   "metadata": {},
   "outputs": [
    {
     "name": "stdout",
     "output_type": "stream",
     "text": [
      "0    0\n",
      "1    1\n",
      "2    2\n",
      "3    3\n",
      "4    4\n",
      "5    5\n",
      "dtype: int64\n"
     ]
    }
   ],
   "source": [
    "# 13. Create a subset of a Series based on value and condition.\n",
    "s14 = pd.Series(range(11))\n",
    "subset = s14[s14 <= 5]\n",
    "print(subset)"
   ]
  },
  {
   "cell_type": "code",
   "execution_count": 15,
   "id": "b03f16dd-61eb-4bf9-b5c9-73dd3585eec2",
   "metadata": {},
   "outputs": [
    {
     "name": "stdout",
     "output_type": "stream",
     "text": [
      "B    2\n",
      "A    1\n",
      "C    3\n",
      "D    4\n",
      "E    5\n",
      "dtype: int64\n"
     ]
    }
   ],
   "source": [
    "# 14. Change the order of index of a given series.\n",
    "s15 = pd.Series([1, 2, 3, 4, 5], index=['A', 'B', 'C', 'D', 'E'])\n",
    "s15_reordered = s15.reindex(['B', 'A', 'C', 'D', 'E'])\n",
    "print(s15_reordered)"
   ]
  },
  {
   "cell_type": "code",
   "execution_count": 16,
   "id": "7670fa7d-34cc-46d2-ac52-e5c2f80dcd5f",
   "metadata": {},
   "outputs": [
    {
     "name": "stdout",
     "output_type": "stream",
     "text": [
      "4.428571428571429 3.0472470011002204\n"
     ]
    }
   ],
   "source": [
    "# 15. Create the mean and standard deviation of the data of a given Series.\n",
    "s16 = pd.Series([1, 2, 3, 8, 9, 5, 3])\n",
    "print(s16.mean(), s16.std())"
   ]
  },
  {
   "cell_type": "code",
   "execution_count": 17,
   "id": "3d3ba3cb-5a4d-456d-9fec-c24dd853d08e",
   "metadata": {},
   "outputs": [
    {
     "name": "stdout",
     "output_type": "stream",
     "text": [
      "0    1\n",
      "2    3\n",
      "4    5\n",
      "dtype: int64\n"
     ]
    }
   ],
   "source": [
    "# 16. Get items of a given series not present in another series.\n",
    "s17 = pd.Series([1, 2, 3, 4, 5])\n",
    "s18 = pd.Series([2, 4, 6, 8, 10])\n",
    "print(s17[~s17.isin(s18)])"
   ]
  },
  {
   "cell_type": "code",
   "execution_count": 18,
   "id": "f85daa77-391b-45c7-949d-46e4ec3e984c",
   "metadata": {},
   "outputs": [
    {
     "name": "stdout",
     "output_type": "stream",
     "text": [
      "0     1\n",
      "2     3\n",
      "4     5\n",
      "2     6\n",
      "3     8\n",
      "4    10\n",
      "dtype: int64\n"
     ]
    }
   ],
   "source": [
    "# 17. Get items which are not common between two series.\n",
    "print(pd.concat([s17[~s17.isin(s18)], s18[~s18.isin(s17)]]))"
   ]
  },
  {
   "cell_type": "code",
   "execution_count": 19,
   "id": "d0cdb00d-e6a1-4009-a5a1-085e8d0b9a69",
   "metadata": {},
   "outputs": [
    {
     "name": "stdout",
     "output_type": "stream",
     "text": [
      "[ 1.21543893  5.08675975  7.46217926  9.63135478 13.46019456]\n"
     ]
    }
   ],
   "source": [
    "# 18. Compute the minimum, 25th percentile, median, 75th percentile, and maximum of a given series.\n",
    "s19 = pd.Series(np.random.uniform(1, 15, 20))\n",
    "print(np.percentile(s19, [0, 25, 50, 75, 100]))"
   ]
  },
  {
   "cell_type": "code",
   "execution_count": 20,
   "id": "d08807c0-efe1-4700-b71b-3908357a28a8",
   "metadata": {},
   "outputs": [
    {
     "name": "stdout",
     "output_type": "stream",
     "text": [
      "1    2\n",
      "0    2\n",
      "7    1\n",
      "6    1\n",
      "4    1\n",
      "8    1\n",
      "Name: count, dtype: int64\n"
     ]
    }
   ],
   "source": [
    "# 19. Frequency counts of each unique value of a given series.\n",
    "s20 = pd.Series([1, 7, 1, 6, 0, 4, 8, 0])\n",
    "print(s20.value_counts())"
   ]
  },
  {
   "cell_type": "code",
   "execution_count": 21,
   "id": "6b955e95-2661-40f6-9272-71ee04c7d923",
   "metadata": {},
   "outputs": [
    {
     "name": "stdout",
     "output_type": "stream",
     "text": [
      "0        3\n",
      "1    Other\n",
      "2    Other\n",
      "3        3\n",
      "4    Other\n",
      "5        3\n",
      "6    Other\n",
      "7        3\n",
      "dtype: object\n"
     ]
    }
   ],
   "source": [
    "# 20. Display most frequent value and replace everything else as 'Other'.\n",
    "s21 = pd.Series([3, 1, 1, 3, 2, 3, 2, 3])\n",
    "top_freq = s21.value_counts().index[0]\n",
    "s21_replaced = s21.apply(lambda x: x if x == top_freq else 'Other')\n",
    "print(s21_replaced)"
   ]
  },
  {
   "cell_type": "code",
   "execution_count": 22,
   "id": "9d608c74-663a-46c6-9ca2-d024b8c21729",
   "metadata": {},
   "outputs": [
    {
     "name": "stdout",
     "output_type": "stream",
     "text": [
      "[]\n"
     ]
    }
   ],
   "source": [
    "# 21. Find the positions of numbers that are multiples of 5.\n",
    "s22 = pd.Series([1, 9, 8, 6, 9, 7, 1, 1, 1])\n",
    "print(s22[s22 % 5 == 0].index.tolist())"
   ]
  },
  {
   "cell_type": "code",
   "execution_count": 23,
   "id": "5202b517-2bae-40eb-abfc-1757ec2510ba",
   "metadata": {},
   "outputs": [
    {
     "name": "stdout",
     "output_type": "stream",
     "text": [
      "0    2\n",
      "2    9\n",
      "6    9\n",
      "dtype: int64\n"
     ]
    }
   ],
   "source": [
    "# 22. Extract items at given positions of a given series.\n",
    "s23 = pd.Series([2, 3, 9, 0, 2, 3, 9, 0, 2, 3])\n",
    "positions = [0, 2, 6]\n",
    "print(s23.iloc[positions])"
   ]
  },
  {
   "cell_type": "code",
   "execution_count": 24,
   "id": "db66f59b-fd3d-4641-9a45-b9718af1fae1",
   "metadata": {},
   "outputs": [
    {
     "name": "stdout",
     "output_type": "stream",
     "text": [
      "[np.int64(0), np.int64(2), np.int64(4), np.int64(6), np.int64(9)]\n"
     ]
    }
   ],
   "source": [
    "# 23. Get the positions of items of a given series in another given series.\n",
    "s24 = pd.Series([1, 2, 3, 4, 5, 6, 7, 8, 9, 10])\n",
    "s25 = pd.Series([1, 3, 5, 7, 10])\n",
    "print([s24[s24 == i].index[0] for i in s25])"
   ]
  },
  {
   "cell_type": "code",
   "execution_count": 25,
   "id": "9fb07793-1ea3-4026-9f00-575819feff02",
   "metadata": {},
   "outputs": [
    {
     "name": "stdout",
     "output_type": "stream",
     "text": [
      "0       PhP\n",
      "1    PythoN\n",
      "2      JavA\n",
      "3        C#\n",
      "dtype: object\n"
     ]
    }
   ],
   "source": [
    "# 24. Convert the first and last character of each word to upper case.\n",
    "s26 = pd.Series(['php', 'python', 'java', 'c#'])\n",
    "s26_modified = s26.apply(lambda x: x[0].upper() + x[1:-1] + x[-1].upper())\n",
    "print(s26_modified)"
   ]
  },
  {
   "cell_type": "code",
   "execution_count": 26,
   "id": "558a020f-e546-47d7-ab74-26fce791c1d6",
   "metadata": {},
   "outputs": [
    {
     "name": "stdout",
     "output_type": "stream",
     "text": [
      "0    3\n",
      "1    6\n",
      "2    4\n",
      "3    2\n",
      "dtype: int64\n"
     ]
    }
   ],
   "source": [
    "# 25. Calculate the number of characters in each word in a given series.\n",
    "s27 = pd.Series(['Php', 'Python', 'Java', 'C#'])\n",
    "print(s27.apply(len))"
   ]
  },
  {
   "cell_type": "code",
   "execution_count": 27,
   "id": "84c22bf4-f8a1-48f9-8d9a-261eef2b3211",
   "metadata": {},
   "outputs": [
    {
     "name": "stdout",
     "output_type": "stream",
     "text": [
      "[nan, 2.0, 2.0, 3.0, 2.0, 1.0, 4.0] [nan, nan, 0.0, 1.0, -1.0, -1.0, 3.0]\n"
     ]
    }
   ],
   "source": [
    "# 26. Compute the difference of differences between consecutive numbers of a given series.\n",
    "s28 = pd.Series([1, 3, 5, 8, 10, 11, 15])\n",
    "diff_1 = s28.diff().tolist()\n",
    "diff_2 = s28.diff().diff().tolist()\n",
    "print(diff_1, diff_2)"
   ]
  },
  {
   "cell_type": "code",
   "execution_count": 28,
   "id": "88bb6f9f-a9d2-48ef-81c5-01f37b7c5a8a",
   "metadata": {},
   "outputs": [
    {
     "name": "stdout",
     "output_type": "stream",
     "text": [
      "Parsed Dates:\n",
      "0   2015-01-01 00:00:00\n",
      "1   2016-02-10 00:00:00\n",
      "2   2018-03-07 00:00:00\n",
      "3   2014-05-06 00:00:00\n",
      "4                   NaT\n",
      "5   2019-04-06 11:20:00\n",
      "dtype: datetime64[ns]\n",
      "\n",
      "Day of month: 0     1.0\n",
      "1    10.0\n",
      "2     7.0\n",
      "3     6.0\n",
      "4     NaN\n",
      "5     6.0\n",
      "dtype: float64\n",
      "Day of year: 0      1.0\n",
      "1     41.0\n",
      "2     66.0\n",
      "3    126.0\n",
      "4      NaN\n",
      "5     96.0\n",
      "dtype: float64\n",
      "Week number: 0       1\n",
      "1       6\n",
      "2      10\n",
      "3      19\n",
      "4    <NA>\n",
      "5      14\n",
      "Name: week, dtype: UInt32\n",
      "Day of week: 0     Thursday\n",
      "1    Wednesday\n",
      "2    Wednesday\n",
      "3      Tuesday\n",
      "4          NaN\n",
      "5     Saturday\n",
      "dtype: object\n"
     ]
    }
   ],
   "source": [
    "# 27. Convert a series of date strings to a timeseries.\n",
    "# Create the series of date strings\n",
    "s29 = pd.Series(['01 Jan 2015', '10-02-2016', '20180307', '2014/05/06', '2016-04-12', '2019-04-06T11:20'])\n",
    "\n",
    "# Initialize an empty list to hold the parsed dates\n",
    "parsed_dates = []\n",
    "\n",
    "# Loop through the series and try to parse each date string\n",
    "for date_str in s29:\n",
    "    try:\n",
    "        # Try different formats sequentially\n",
    "        date = pd.to_datetime(date_str, format='%d %b %Y', errors='raise')  # 01 Jan 2015\n",
    "    except ValueError:\n",
    "        try:\n",
    "            date = pd.to_datetime(date_str, format='%d-%m-%Y', errors='raise')  # 10-02-2016\n",
    "        except ValueError:\n",
    "            try:\n",
    "                date = pd.to_datetime(date_str, format='%Y%m%d', errors='raise')  # 20180307\n",
    "            except ValueError:\n",
    "                try:\n",
    "                    date = pd.to_datetime(date_str, format='%Y/%m/%d', errors='raise')  # 2014/05/06\n",
    "                except ValueError:\n",
    "                    try:\n",
    "                        date = pd.to_datetime(date_str, format='%Y-%m-%dT%H:%M', errors='raise')  # 2019-04-06T11:20\n",
    "                    except ValueError:\n",
    "                        date = pd.NaT  # If all formats fail, assign NaT\n",
    "\n",
    "    parsed_dates.append(date)\n",
    "\n",
    "# Convert the list of parsed dates to a Series\n",
    "s30 = pd.Series(parsed_dates)\n",
    "\n",
    "# Output the results\n",
    "print(\"Parsed Dates:\")\n",
    "print(s30)\n",
    "\n",
    "# Extract the required date components\n",
    "print(\"\\nDay of month:\", s30.dt.day)\n",
    "print(\"Day of year:\", s30.dt.dayofyear)\n",
    "print(\"Week number:\", s30.dt.isocalendar().week)\n",
    "print(\"Day of week:\", s30.dt.day_name())"
   ]
  },
  {
   "cell_type": "code",
   "execution_count": 29,
   "id": "68268f9f-03a8-4720-8447-775f0c2e3abb",
   "metadata": {},
   "outputs": [
    {
     "name": "stdout",
     "output_type": "stream",
     "text": [
      "Day of month: 0     1.0\n",
      "1    10.0\n",
      "2     7.0\n",
      "3     6.0\n",
      "4     NaN\n",
      "5     6.0\n",
      "dtype: float64\n",
      "Day of year: 0      1.0\n",
      "1     41.0\n",
      "2     66.0\n",
      "3    126.0\n",
      "4      NaN\n",
      "5     96.0\n",
      "dtype: float64\n",
      "Week number: 0       1\n",
      "1       6\n",
      "2      10\n",
      "3      19\n",
      "4    <NA>\n",
      "5      14\n",
      "Name: week, dtype: UInt32\n",
      "Day of week: 0     Thursday\n",
      "1    Wednesday\n",
      "2    Wednesday\n",
      "3      Tuesday\n",
      "4          NaN\n",
      "5     Saturday\n",
      "dtype: object\n"
     ]
    }
   ],
   "source": [
    "# 28. Get day of month, day of year, week number and day of week from a given series of date strings.\n",
    "\n",
    "\n",
    "# Original series of date strings\n",
    "s30 = pd.Series(['01 Jan 2015', '10-02-2016', '20180307', '2014/05/06', '2016-04-12', '2019-04-06T11:20'])\n",
    "\n",
    "# Manually parse the series by trying different date formats\n",
    "s30_parsed = pd.to_datetime(s30, errors='coerce', format='%d %b %Y')  # First format\n",
    "s30_parsed.fillna(pd.to_datetime(s30, errors='coerce', format='%d-%m-%Y'), inplace=True)  # Second format\n",
    "s30_parsed.fillna(pd.to_datetime(s30, errors='coerce', format='%Y%m%d'), inplace=True)  # Third format\n",
    "s30_parsed.fillna(pd.to_datetime(s30, errors='coerce', format='%Y/%m/%d'), inplace=True)  # Fourth format\n",
    "s30_parsed.fillna(pd.to_datetime(s30, errors='coerce', format='%Y-%m-%dT%H:%M'), inplace=True)  # Fifth format\n",
    "\n",
    "# Extract the required date components\n",
    "print(\"Day of month:\", s30_parsed.dt.day)\n",
    "print(\"Day of year:\", s30_parsed.dt.dayofyear)\n",
    "print(\"Week number:\", s30_parsed.dt.isocalendar().week)\n",
    "print(\"Day of week:\", s30_parsed.dt.day_name())"
   ]
  },
  {
   "cell_type": "code",
   "execution_count": 30,
   "id": "3a4d9895-5257-403d-8d88-c3bcc92dcb24",
   "metadata": {},
   "outputs": [
    {
     "name": "stdout",
     "output_type": "stream",
     "text": [
      "0   2015-01-12\n",
      "1   2016-02-12\n",
      "2   2017-03-12\n",
      "3   2018-04-12\n",
      "4   2019-05-12\n",
      "dtype: datetime64[ns]\n"
     ]
    },
    {
     "name": "stderr",
     "output_type": "stream",
     "text": [
      "C:\\Users\\jayes\\AppData\\Local\\Temp\\ipykernel_13244\\3556757491.py:3: UserWarning: Could not infer format, so each element will be parsed individually, falling back to `dateutil`. To ensure parsing is consistent and as-expected, please specify a format.\n",
      "  print(pd.to_datetime(s31) + pd.offsets.Day(11))\n"
     ]
    }
   ],
   "source": [
    "# 29. Convert year-month string to dates adding a specified day of the month.\n",
    "s31 = pd.Series(['Jan 2015', 'Feb 2016', 'Mar 2017', 'Apr 2018', 'May 2019'])\n",
    "print(pd.to_datetime(s31) + pd.offsets.Day(11))"
   ]
  },
  {
   "cell_type": "code",
   "execution_count": 31,
   "id": "97079b70-1bbf-48ef-a2fc-97b1bd3a0b88",
   "metadata": {},
   "outputs": [
    {
     "name": "stdout",
     "output_type": "stream",
     "text": [
      "1     Green\n",
      "2    Orange\n",
      "4    Yellow\n",
      "5     White\n",
      "dtype: object\n"
     ]
    }
   ],
   "source": [
    "# 30. Filter words from a given series that contain at least two vowels.\n",
    "s32 = pd.Series(['Red', 'Green', 'Orange', 'Pink', 'Yellow', 'White'])\n",
    "vowel_count = s32.apply(lambda x: sum([1 for ch in x.lower() if ch in 'aeiou']))\n",
    "print(s32[vowel_count >= 2])"
   ]
  },
  {
   "cell_type": "code",
   "execution_count": 32,
   "id": "70767e6c-00b1-406d-bd04-1bfeaccc137b",
   "metadata": {},
   "outputs": [
    {
     "name": "stdout",
     "output_type": "stream",
     "text": [
      "16.492422502470642\n"
     ]
    }
   ],
   "source": [
    "# 31. Compute the Euclidean distance between two given series.\n",
    "s33 = pd.Series(range(1, 11))\n",
    "s34 = pd.Series([11, 8, 7, 5, 6, 5, 3, 4, 7, 1])\n",
    "print(np.sqrt(np.sum((s33 - s34) ** 2)))"
   ]
  },
  {
   "cell_type": "code",
   "execution_count": 33,
   "id": "c4619171-4c9b-429f-baaf-4a6d749bf9b5",
   "metadata": {},
   "outputs": [
    {
     "name": "stdout",
     "output_type": "stream",
     "text": [
      "[1 4 6 8]\n"
     ]
    }
   ],
   "source": [
    "# 32. Find positions of values neighboured by smaller values on both sides in a given series.\n",
    "s35 = pd.Series([1, 8, 7, 5, 6, 5, 10, 5, 7, 1])\n",
    "print(np.where((s35 > s35.shift(1)) & (s35 > s35.shift(-1)))[0])"
   ]
  },
  {
   "cell_type": "code",
   "execution_count": 34,
   "id": "013ce2ba-a840-498c-af7e-b3783c3e461f",
   "metadata": {},
   "outputs": [
    {
     "name": "stdout",
     "output_type": "stream",
     "text": [
      "dbccdebcab\n"
     ]
    }
   ],
   "source": [
    "# 33. Replace missing white spaces in a given string with the least frequent character.\n",
    "s36 = pd.Series(list('dbc deb ab'))\n",
    "char_freq = s36.value_counts()\n",
    "least_freq_char = char_freq.idxmin()\n",
    "s36_replaced = s36.replace(' ', least_freq_char)\n",
    "print(''.join(s36_replaced))"
   ]
  },
  {
   "cell_type": "code",
   "execution_count": 35,
   "id": "408ac155-d823-431c-8560-6f1e0af22b1f",
   "metadata": {},
   "outputs": [
    {
     "name": "stdout",
     "output_type": "stream",
     "text": [
      "[np.float64(0.016560738776985582), np.float64(0.08858219635796921), np.float64(-0.18147522179999118)]\n"
     ]
    }
   ],
   "source": [
    "# 34. Compute the autocorrelations of a given series.\n",
    "s37 = pd.Series([10, 25, 8, 60, 45, 31, 40])\n",
    "print([s37.autocorr(lag=i) for i in range(1, 4)])"
   ]
  },
  {
   "cell_type": "code",
   "execution_count": 36,
   "id": "0bb2d194-fedf-483f-949f-547b0bcec219",
   "metadata": {},
   "outputs": [
    {
     "name": "stdout",
     "output_type": "stream",
     "text": [
      "0    2\n",
      "1    2\n",
      "2    3\n",
      "3    3\n",
      "4    3\n",
      "5    1\n",
      "6    4\n",
      "7    4\n",
      "8    4\n",
      "9    4\n",
      "dtype: int64\n"
     ]
    }
   ],
   "source": [
    "# 35. Count the number of consecutive occurrences of a given value in a series.\n",
    "s38 = pd.Series([2, 2, 3, 3, 3, 2, 4, 4, 4, 4])\n",
    "consecutive_counts = (s38 != s38.shift()).cumsum()  # Groups of consecutive values\n",
    "count_consecutive = s38.groupby(consecutive_counts).transform('size')\n",
    "print(count_consecutive)"
   ]
  },
  {
   "cell_type": "code",
   "execution_count": 37,
   "id": "62c2f8ea-1cd3-43f7-8f35-01acefa646ee",
   "metadata": {},
   "outputs": [
    {
     "name": "stdout",
     "output_type": "stream",
     "text": [
      "0 9\n"
     ]
    }
   ],
   "source": [
    "# 36. Find the positions of the first occurrence of the smallest and largest value of a series.\n",
    "s39 = pd.Series([1, 2, 3, 4, 5, 6, 7, 8, 9, 10])\n",
    "min_pos = s39.idxmin()\n",
    "max_pos = s39.idxmax()\n",
    "print(min_pos, max_pos)"
   ]
  },
  {
   "cell_type": "code",
   "execution_count": 38,
   "id": "fc1997e1-1caa-4bfe-a564-a07e12900798",
   "metadata": {},
   "outputs": [
    {
     "name": "stdout",
     "output_type": "stream",
     "text": [
      "0    1.0\n",
      "1    2.0\n",
      "2    2.0\n",
      "3    4.0\n",
      "4    4.0\n",
      "5    6.0\n",
      "6    7.0\n",
      "dtype: float64\n"
     ]
    },
    {
     "name": "stderr",
     "output_type": "stream",
     "text": [
      "C:\\Users\\jayes\\AppData\\Local\\Temp\\ipykernel_13244\\4242485852.py:3: FutureWarning: Series.fillna with 'method' is deprecated and will raise in a future version. Use obj.ffill() or obj.bfill() instead.\n",
      "  filled_s40 = s40.fillna(method='ffill')\n"
     ]
    }
   ],
   "source": [
    "# 37. Replace missing values in a given series using a specified method.\n",
    "s40 = pd.Series([1, 2, np.nan, 4, np.nan, 6, 7])\n",
    "filled_s40 = s40.fillna(method='ffill')\n",
    "print(filled_s40)"
   ]
  },
  {
   "cell_type": "code",
   "execution_count": 39,
   "id": "d7bbb7e4-3dca-4b7f-849b-2dcccaabf7c1",
   "metadata": {},
   "outputs": [
    {
     "name": "stdout",
     "output_type": "stream",
     "text": [
      "3\n"
     ]
    }
   ],
   "source": [
    "# 38. Find the index of the first occurrence of the smallest value greater than a given number.\n",
    "s41 = pd.Series([10, 20, 30, 40, 50, 60, 70, 80, 90])\n",
    "threshold = 35\n",
    "first_idx = s41[s41 > threshold].idxmin()\n",
    "print(first_idx)"
   ]
  },
  {
   "cell_type": "code",
   "execution_count": 40,
   "id": "88036000-ac11-4851-a9f0-1c120c7b1fbc",
   "metadata": {},
   "outputs": [
    {
     "name": "stdout",
     "output_type": "stream",
     "text": [
      "0    1\n",
      "1    2\n",
      "2    3\n",
      "3    4\n",
      "4    5\n",
      "5    6\n",
      "6    7\n",
      "7    8\n",
      "dtype: int64    0  1\n",
      "0  1  5\n",
      "1  2  6\n",
      "2  3  7\n",
      "3  4  8\n"
     ]
    }
   ],
   "source": [
    "# 39. Stack two given series vertically and horizontally.\n",
    "s42 = pd.Series([1, 2, 3, 4])\n",
    "s43 = pd.Series([5, 6, 7, 8])\n",
    "stacked_vertically = pd.concat([s42, s43], axis=0).reset_index(drop=True)\n",
    "stacked_horizontally = pd.concat([s42, s43], axis=1).reset_index(drop=True)\n",
    "print(stacked_vertically, stacked_horizontally)"
   ]
  },
  {
   "cell_type": "code",
   "execution_count": 41,
   "id": "2896368d-a326-4cca-80e0-944a5c23862f",
   "metadata": {},
   "outputs": [
    {
     "name": "stdout",
     "output_type": "stream",
     "text": [
      "[0, 1, 4, 6]\n"
     ]
    }
   ],
   "source": [
    "# 40. Get the positions of values of a series that are multiples of 10.\n",
    "s44 = pd.Series([10, 20, 33, 46, 50, 55, 60])\n",
    "positions_multiples_10 = s44[s44 % 10 == 0].index.tolist()\n",
    "print(positions_multiples_10)"
   ]
  },
  {
   "cell_type": "code",
   "execution_count": 42,
   "id": "c13a5235-c376-4350-8ea8-5516da1b03a7",
   "metadata": {},
   "outputs": [
    {
     "name": "stdout",
     "output_type": "stream",
     "text": [
      "   col3  col1  col2\n",
      "0     9     1     5\n",
      "1    10     2     6\n",
      "2    11     3     7\n",
      "3    12     4     8\n"
     ]
    }
   ],
   "source": [
    "# 41. Change the order of the columns of a DataFrame.\n",
    "df2 = pd.DataFrame({\n",
    "    'col1': [1, 2, 3, 4],\n",
    "    'col2': [5, 6, 7, 8],\n",
    "    'col3': [9, 10, 11, 12]\n",
    "})\n",
    "df2_reordered = df2[['col3', 'col1', 'col2']]  # Reordering columns\n",
    "print(df2_reordered)"
   ]
  }
 ],
 "metadata": {
  "kernelspec": {
   "display_name": "Python 3 (ipykernel)",
   "language": "python",
   "name": "python3"
  },
  "language_info": {
   "codemirror_mode": {
    "name": "ipython",
    "version": 3
   },
   "file_extension": ".py",
   "mimetype": "text/x-python",
   "name": "python",
   "nbconvert_exporter": "python",
   "pygments_lexer": "ipython3",
   "version": "3.12.4"
  }
 },
 "nbformat": 4,
 "nbformat_minor": 5
}
