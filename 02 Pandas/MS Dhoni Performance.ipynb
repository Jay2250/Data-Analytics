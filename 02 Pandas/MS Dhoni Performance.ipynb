{
 "cells": [
  {
   "cell_type": "code",
   "execution_count": 1,
   "id": "7330d18a-14ce-41f9-a0cf-2d30a7f6011b",
   "metadata": {},
   "outputs": [],
   "source": [
    "import pandas as pd \n",
    "import numpy as np \n",
    "import datetime \n",
    "import matplotlib.pyplot as plt \n",
    "import seaborn as sns"
   ]
  },
  {
   "cell_type": "code",
   "execution_count": 2,
   "id": "dcd62f3a-1f9b-4d88-b87d-01ee35d158f6",
   "metadata": {},
   "outputs": [],
   "source": [
    "df = pd.read_csv('MS_Dhoni_ODI_record.csv')"
   ]
  },
  {
   "cell_type": "code",
   "execution_count": 3,
   "id": "5086bcb8-80fd-4d88-a5c4-586cd81bef37",
   "metadata": {},
   "outputs": [
    {
     "name": "stdout",
     "output_type": "stream",
     "text": [
      "  score runs_scored balls_faced strike_rate fours sixes    opposition  \\\n",
      "0     0           0           1           0     0     0  v Bangladesh   \n",
      "1    12          12          11      109.09     2     0  v Bangladesh   \n",
      "2    7*           7           2         350     0     1  v Bangladesh   \n",
      "3     3           3           7       42.85     0     0    v Pakistan   \n",
      "4   148         148         123      120.32    15     4    v Pakistan   \n",
      "\n",
      "          ground        date  odi_number  \n",
      "0     Chattogram  23/12/2004  ODI # 2199  \n",
      "1          Dhaka  26/12/2004  ODI # 2201  \n",
      "2          Dhaka  27/12/2004  ODI # 2202  \n",
      "3          Kochi  02/04/2005  ODI # 2235  \n",
      "4  Visakhapatnam  05/04/2005  ODI # 2236  \n",
      "    score runs_scored balls_faced strike_rate fours sixes     opposition  \\\n",
      "345   56*          56          61        91.8     3     2  v West Indies   \n",
      "346   42*          42          31      135.48     4     1      v England   \n",
      "347    35          35          33      106.06     4     0   v Bangladesh   \n",
      "348   DNB           -           -           -     -     -    v Sri Lanka   \n",
      "349    50          50          72       69.44     1     1  v New Zealand   \n",
      "\n",
      "         ground        date  odi_number  \n",
      "345  Manchester  27/06/2019  ODI # 4175  \n",
      "346  Birmingham  30/06/2019  ODI # 4179  \n",
      "347  Birmingham  02/07/2019  ODI # 4182  \n",
      "348       Leeds  06/07/2019  ODI # 4187  \n",
      "349  Manchester  09/07/2019  ODI # 4190  \n"
     ]
    }
   ],
   "source": [
    "# Basic checks\n",
    "print(df.head())\n",
    "print(df.tail())"
   ]
  },
  {
   "cell_type": "code",
   "execution_count": 4,
   "id": "bad30466-1080-4292-a4d6-9c08f64e9023",
   "metadata": {},
   "outputs": [],
   "source": [
    "# Data cleaning - Opposition name says 'v Aus' etc, we can remove 'v '\n",
    "# df['opposition'] = df['opposition'].apply(lambda x: x[2:])\n",
    "df['opposition'] = df['opposition'].str.replace('v ', '', regex=False)\n",
    "# regex=False means that the first string ('v ') is not a regex, but a literal string"
   ]
  },
  {
   "cell_type": "code",
   "execution_count": 5,
   "id": "2bd46b5b-be3f-40b3-ad37-b5fad03816b7",
   "metadata": {},
   "outputs": [],
   "source": [
    "# Add a 'feature' - 'year' column using the match date column\n",
    "# First convert date column into datetime format\n",
    "df['date'] = pd.to_datetime(df['date'], dayfirst=True) \n",
    "df['year'] = df['date'].dt.year.astype(int)\n",
    "#print(df.head())"
   ]
  },
  {
   "cell_type": "code",
   "execution_count": 6,
   "id": "8a52c96a-fe09-414f-8709-8561c63bcc56",
   "metadata": {},
   "outputs": [],
   "source": [
    "# Create a column to distinguish between out and not out\n",
    "\n",
    "# The apply method in Pandas allows you to apply a function to each element in a DataFrame or Series. In this case, the function being applied is str, which is the built-in Python function for converting values into strings. By applying str to each element in the 'score' column, we are converting the numerical or other data types in that column into string data types.\n",
    "df['score'] = df['score'].apply(str) \n",
    "df['not_out'] = np.where(df['score'].str.endswith('*'), 1, 0)"
   ]
  },
  {
   "cell_type": "code",
   "execution_count": 7,
   "id": "3751178f-afe7-4862-b742-fcc6bd9ebf23",
   "metadata": {},
   "outputs": [],
   "source": [
    "# dropping the odi_number feature because it adds no value to the analysis\n",
    "df.drop(columns='odi_number', inplace=True)"
   ]
  },
  {
   "cell_type": "code",
   "execution_count": 8,
   "id": "50299f6f-74ec-4aeb-83be-1ae0e3259695",
   "metadata": {},
   "outputs": [],
   "source": [
    "# dropping those innings where Dhoni did not bat and storing in a new DataFrame \n",
    "# Take all the columns, starting with runs_scored\n",
    "df_new = df.loc[((df['score'] != 'DNB') & (df['score'] != 'TDNB')), 'runs_scored':]\n",
    "#print(df_new.head())"
   ]
  },
  {
   "cell_type": "code",
   "execution_count": 9,
   "id": "fe164003-fb62-4caf-ba5b-67496f86e9fd",
   "metadata": {},
   "outputs": [],
   "source": [
    "# fixing the data types of numerical columns \n",
    "df_new['runs_scored'] = df_new['runs_scored'].astype(int)\n",
    "df_new['balls_faced'] = df_new['balls_faced'].astype(int) \n",
    "df_new['strike_rate'] = df_new['strike_rate'].astype(float) \n",
    "df_new['fours'] = df_new['fours'].astype(int) \n",
    "df_new['sixes'] = df_new['sixes'].astype(int)"
   ]
  },
  {
   "cell_type": "code",
   "execution_count": 10,
   "id": "20d66bc0-58fd-4587-9345-7c603dc549ee",
   "metadata": {},
   "outputs": [
    {
     "name": "stdout",
     "output_type": "stream",
     "text": [
      "First match: December 23, 2004\n"
     ]
    }
   ],
   "source": [
    "# Career stats\n",
    "first_match_date = df['date'].dt.date.min().strftime('%B %d, %Y') # first match\n",
    "print('First match:', first_match_date)"
   ]
  },
  {
   "cell_type": "code",
   "execution_count": 11,
   "id": "2e543aef-e883-4680-865e-63edc3fa443f",
   "metadata": {},
   "outputs": [
    {
     "name": "stdout",
     "output_type": "stream",
     "text": [
      "Last match: July 09, 2019\n"
     ]
    }
   ],
   "source": [
    "last_match_date = df['date'].dt.date.max().strftime('%B %d, %Y') # last match\n",
    "print('Last match:', last_match_date)"
   ]
  },
  {
   "cell_type": "code",
   "execution_count": 12,
   "id": "a61247d4-be6e-4291-a867-9c7d47aca5da",
   "metadata": {},
   "outputs": [
    {
     "name": "stdout",
     "output_type": "stream",
     "text": [
      "Number of matches played: 350\n"
     ]
    }
   ],
   "source": [
    "number_of_matches = df.shape[0] # number of mathces played in career\n",
    "print('Number of matches played:', number_of_matches)"
   ]
  },
  {
   "cell_type": "code",
   "execution_count": 13,
   "id": "5ebdd803-647a-47ca-8549-14e33e087adc",
   "metadata": {},
   "outputs": [
    {
     "name": "stdout",
     "output_type": "stream",
     "text": [
      "Number of innings played: 297\n"
     ]
    }
   ],
   "source": [
    "number_of_inns = df_new.shape[0] # number of innings\n",
    "print('Number of innings played:', number_of_inns)"
   ]
  },
  {
   "cell_type": "code",
   "execution_count": 14,
   "id": "da0c5402-e21b-4caf-bf51-826dfc6a4d57",
   "metadata": {},
   "outputs": [
    {
     "name": "stdout",
     "output_type": "stream",
     "text": [
      "Not outs: 84\n"
     ]
    }
   ],
   "source": [
    "not_outs = df_new['not_out'].sum() # number of not outs in career\n",
    "print('Not outs:', not_outs)"
   ]
  },
  {
   "cell_type": "code",
   "execution_count": 15,
   "id": "a2adf887-8077-4396-a422-eaf9b64d510e",
   "metadata": {},
   "outputs": [
    {
     "name": "stdout",
     "output_type": "stream",
     "text": [
      "Runs scored in career: 10773\n"
     ]
    }
   ],
   "source": [
    "runs_scored = df_new['runs_scored'].sum() # runs scored in career\n",
    "print('Runs scored in career:', runs_scored)"
   ]
  },
  {
   "cell_type": "code",
   "execution_count": 16,
   "id": "1a1bc980-8cb3-4a87-aefc-252567c953b4",
   "metadata": {},
   "outputs": [
    {
     "name": "stdout",
     "output_type": "stream",
     "text": [
      "Balls faced in career: 12303\n"
     ]
    }
   ],
   "source": [
    "balls_faced = df_new['balls_faced'].sum() # balls faced in career\n",
    "print('Balls faced in career:', balls_faced)"
   ]
  },
  {
   "cell_type": "code",
   "execution_count": 17,
   "id": "2ef7bf42-f430-457d-a24f-8f899f6a5613",
   "metadata": {},
   "outputs": [
    {
     "name": "stdout",
     "output_type": "stream",
     "text": [
      "Career strike rate: 87.56\n"
     ]
    }
   ],
   "source": [
    "career_sr = (runs_scored / balls_faced)*100 # career strike rate\n",
    "print('Career strike rate: {:.2f}'.format(career_sr))"
   ]
  },
  {
   "cell_type": "code",
   "execution_count": 18,
   "id": "984c03b3-6186-4f0b-b10a-9a77d3ccf169",
   "metadata": {},
   "outputs": [
    {
     "name": "stdout",
     "output_type": "stream",
     "text": [
      "Career average: 50.58\n"
     ]
    }
   ],
   "source": [
    "career_avg = (runs_scored / (number_of_inns - not_outs)) # career average\n",
    "print('Career average: {:.2f}'.format(career_avg))"
   ]
  },
  {
   "cell_type": "code",
   "execution_count": 19,
   "id": "e1521051-e656-4f4d-b458-c78f8f4aba39",
   "metadata": {},
   "outputs": [],
   "source": [
    "#highest_score_date = df_new.loc[df_new.runs_scored == df_new.runs_scored.max(), 'date'].values[0]\n",
    "#highest_score = df.loc[df.date == highest_score_date, 'score'].values[0] # highest score\n",
    "highest_score = df_new['runs_scored'].max()"
   ]
  },
  {
   "cell_type": "code",
   "execution_count": 20,
   "id": "6231d89d-5a9d-4436-8f7f-8be36d431121",
   "metadata": {},
   "outputs": [
    {
     "name": "stdout",
     "output_type": "stream",
     "text": [
      "Highest score in career: 183 *\n"
     ]
    }
   ],
   "source": [
    "not_out_for_highest = (\n",
    "    df_new[df_new['runs_scored'] == highest_score]['not_out']\n",
    "    .replace([1, 0], [\"*\", \"\"])  # Replace 1 with *, 0 with null\n",
    "    .iloc[0]\n",
    ")\n",
    "print('Highest score in career:', highest_score, not_out_for_highest)"
   ]
  },
  {
   "cell_type": "code",
   "execution_count": 21,
   "id": "309f36a1-06dc-4f8e-83d8-320dafe4e075",
   "metadata": {},
   "outputs": [
    {
     "name": "stdout",
     "output_type": "stream",
     "text": [
      "Number of 100s: 10\n"
     ]
    }
   ],
   "source": [
    "hundreds = (df_new['runs_scored'] >= 100).sum()\n",
    "# hundreds = df_new.loc[df_new['runs_scored'] >= 100].shape[0] # number of 100s\n",
    "print('Number of 100s:', hundreds)"
   ]
  },
  {
   "cell_type": "code",
   "execution_count": 22,
   "id": "2f7aba19-ffa7-4878-acac-c7f6b266a42d",
   "metadata": {},
   "outputs": [
    {
     "name": "stdout",
     "output_type": "stream",
     "text": [
      "Number of 50s: 73\n"
     ]
    }
   ],
   "source": [
    "fifties = ((df_new['runs_scored'] >= 50) & (df_new['runs_scored'] < 100)).sum()\n",
    "# fifties = df_new.loc[(df_new['runs_scored']>=50)&(df_new['runs_scored']<100)].shape[0] #number of 50s\n",
    "print('Number of 50s:', fifties)"
   ]
  },
  {
   "cell_type": "code",
   "execution_count": 23,
   "id": "f48d0c18-70a0-4fc1-86cb-e782c2f8bab0",
   "metadata": {},
   "outputs": [
    {
     "name": "stdout",
     "output_type": "stream",
     "text": [
      "Number of 4s: 826\n"
     ]
    }
   ],
   "source": [
    "fours = df_new['fours'].sum() # number of fours in career\n",
    "print('Number of 4s:', fours)"
   ]
  },
  {
   "cell_type": "code",
   "execution_count": 24,
   "id": "5a1787b4-87c1-4021-a582-40068066c0e1",
   "metadata": {},
   "outputs": [
    {
     "name": "stdout",
     "output_type": "stream",
     "text": [
      "Number of 6s: 229\n"
     ]
    }
   ],
   "source": [
    "sixes = df_new['sixes'].sum() # number of sixes in career\n",
    "print('Number of 6s:', sixes)"
   ]
  },
  {
   "cell_type": "code",
   "execution_count": 25,
   "id": "4ac823da-22a3-48c8-b639-b1d0d1aadfef",
   "metadata": {},
   "outputs": [
    {
     "name": "stdout",
     "output_type": "stream",
     "text": [
      "opposition\n",
      "Sri Lanka       67\n",
      "Australia       55\n",
      "England         48\n",
      "West Indies     39\n",
      "South Africa    37\n",
      "Pakistan        36\n",
      "New Zealand     28\n",
      "Bangladesh      21\n",
      "Zimbabwe         6\n",
      "Africa XI        3\n",
      "Hong Kong        2\n",
      "Afghanistan      2\n",
      "Ireland          2\n",
      "Scotland         1\n",
      "Bermuda          1\n",
      "Netherlands      1\n",
      "U.A.E.           1\n",
      "Name: count, dtype: int64\n"
     ]
    },
    {
     "data": {
      "image/png": "[encoded data removed]",
      "text/plain": [
       "<Figure size 800x500 with 1 Axes>"
      ]
     },
     "metadata": {},
     "output_type": "display_data"
    }
   ],
   "source": [
    "# number of matches played against different oppositions\n",
    "# Count the occurrences of each unique value in the 'opposition' column\n",
    "# opposition_counts will be a series with a labelled index as opposition\n",
    "opposition_counts = df['opposition'].value_counts()\n",
    "print(opposition_counts)\n",
    "# Plot the counts as a bar plot\n",
    "opposition_counts.plot(kind='bar', title='Number of matches against different oppositions', figsize=(8, 5))\n",
    "plt.show()"
   ]
  },
  {
   "cell_type": "code",
   "execution_count": 26,
   "id": "0c793349-e3c2-4ca4-8ee5-80461f21b0ff",
   "metadata": {},
   "outputs": [
    {
     "name": "stdout",
     "output_type": "stream",
     "text": [
      "opposition\n",
      "Afghanistan       36\n",
      "Africa XI        174\n",
      "Australia       1660\n",
      "Bangladesh       569\n",
      "Bermuda           29\n",
      "England         1546\n",
      "Hong Kong        109\n",
      "Ireland           34\n",
      "Netherlands       19\n",
      "New Zealand      940\n",
      "Pakistan        1231\n",
      "South Africa     830\n",
      "Sri Lanka       2383\n",
      "West Indies     1005\n",
      "Zimbabwe         208\n",
      "Name: runs_scored, dtype: int64\n"
     ]
    },
    {
     "data": {
      "image/png": "[encoded data removed]",
      "text/plain": [
       "<Figure size 800x500 with 1 Axes>"
      ]
     },
     "metadata": {},
     "output_type": "display_data"
    }
   ],
   "source": [
    "# Runs scored against each team\n",
    "# Group the DataFrame by 'opposition' column\n",
    "grouped_by_opposition = df_new.groupby('opposition')\n",
    "# Sum the 'runs_scored' column for each group\n",
    "sum_of_runs_scored = grouped_by_opposition['runs_scored'].sum()\n",
    "print(sum_of_runs_scored)\n",
    "# sum_of_runs_scored is a series with a labelled index, which is opposition\n",
    "# Convert it into a DataFrame and remove the index\n",
    "runs_scored_by_opposition = pd.DataFrame(sum_of_runs_scored).reset_index()\n",
    "runs_scored_by_opposition.plot(x='opposition', kind='bar', title='Runs scored against different oppositions', figsize=(8, 5))\n",
    "plt.xlabel(None);\n",
    "plt.show()"
   ]
  }
 ],
 "metadata": {
  "kernelspec": {
   "display_name": "Python 3 (ipykernel)",
   "language": "python",
   "name": "python3"
  },
  "language_info": {
   "codemirror_mode": {
    "name": "ipython",
    "version": 3
   },
   "file_extension": ".py",
   "mimetype": "text/x-python",
   "name": "python",
   "nbconvert_exporter": "python",
   "pygments_lexer": "ipython3",
   "version": "3.12.4"
  }
 },
 "nbformat": 4,
 "nbformat_minor": 5
}
