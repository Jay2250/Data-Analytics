{
 "cells": [
  {
   "cell_type": "code",
   "execution_count": 1,
   "id": "7aff5433-9e90-412b-9b5e-3b268d87ad07",
   "metadata": {},
   "outputs": [],
   "source": [
    "import numpy as np"
   ]
  },
  {
   "cell_type": "code",
   "execution_count": 2,
   "id": "03537362-a271-4061-94b6-c0cdd0d8d196",
   "metadata": {},
   "outputs": [
    {
     "name": "stdout",
     "output_type": "stream",
     "text": [
      "NumPy Version: 2.1.1\n",
      "Build Dependencies:\n",
      "  blas:\n",
      "    detection method: pkgconfig\n",
      "    found: true\n",
      "    include directory: C:/Users/runneradmin/AppData/Local/Temp/cibw-run-jy1pqop7/cp312-win_amd64/build/venv/Lib/site-packages/scipy_openblas64/include\n",
      "    lib directory: C:/Users/runneradmin/AppData/Local/Temp/cibw-run-jy1pqop7/cp312-win_amd64/build/venv/Lib/site-packages/scipy_openblas64/lib\n",
      "    name: scipy-openblas\n",
      "    openblas configuration: OpenBLAS 0.3.27  USE64BITINT DYNAMIC_ARCH NO_AFFINITY\n",
      "      Haswell MAX_THREADS=24\n",
      "    pc file directory: D:/a/numpy/numpy/.openblas\n",
      "    version: 0.3.27\n",
      "  lapack:\n",
      "    detection method: pkgconfig\n",
      "    found: true\n",
      "    include directory: C:/Users/runneradmin/AppData/Local/Temp/cibw-run-jy1pqop7/cp312-win_amd64/build/venv/Lib/site-packages/scipy_openblas64/include\n",
      "    lib directory: C:/Users/runneradmin/AppData/Local/Temp/cibw-run-jy1pqop7/cp312-win_amd64/build/venv/Lib/site-packages/scipy_openblas64/lib\n",
      "    name: scipy-openblas\n",
      "    openblas configuration: OpenBLAS 0.3.27  USE64BITINT DYNAMIC_ARCH NO_AFFINITY\n",
      "      Haswell MAX_THREADS=24\n",
      "    pc file directory: D:/a/numpy/numpy/.openblas\n",
      "    version: 0.3.27\n",
      "Compilers:\n",
      "  c:\n",
      "    commands: cl\n",
      "    linker: link\n",
      "    name: msvc\n",
      "    version: 19.29.30154\n",
      "  c++:\n",
      "    commands: cl\n",
      "    linker: link\n",
      "    name: msvc\n",
      "    version: 19.29.30154\n",
      "  cython:\n",
      "    commands: cython\n",
      "    linker: cython\n",
      "    name: cython\n",
      "    version: 3.0.11\n",
      "Machine Information:\n",
      "  build:\n",
      "    cpu: x86_64\n",
      "    endian: little\n",
      "    family: x86_64\n",
      "    system: windows\n",
      "  host:\n",
      "    cpu: x86_64\n",
      "    endian: little\n",
      "    family: x86_64\n",
      "    system: windows\n",
      "Python Information:\n",
      "  path: C:\\Users\\runneradmin\\AppData\\Local\\Temp\\build-env-n85o8vnt\\Scripts\\python.exe\n",
      "  version: '3.12'\n",
      "SIMD Extensions:\n",
      "  baseline:\n",
      "  - SSE\n",
      "  - SSE2\n",
      "  - SSE3\n",
      "  found:\n",
      "  - SSSE3\n",
      "  - SSE41\n",
      "  - POPCNT\n",
      "  - SSE42\n",
      "  - AVX\n",
      "  - F16C\n",
      "  - FMA3\n",
      "  - AVX2\n",
      "  not found:\n",
      "  - AVX512F\n",
      "  - AVX512CD\n",
      "  - AVX512_SKX\n",
      "  - AVX512_CLX\n",
      "  - AVX512_CNL\n",
      "  - AVX512_ICL\n",
      "\n"
     ]
    }
   ],
   "source": [
    "# 1. Get the numpy version and show numpy build configuration.\n",
    "print(\"NumPy Version:\", np.__version__)\n",
    "np.show_config()"
   ]
  },
  {
   "cell_type": "code",
   "execution_count": 3,
   "id": "ce4c4db4-360e-4c0b-8d9f-af25494e4795",
   "metadata": {},
   "outputs": [
    {
     "name": "stdout",
     "output_type": "stream",
     "text": [
      "add(x1, x2, /, out=None, *, where=True, casting='same_kind', order='K', dtype=None, subok=True[, signature])\n",
      "\n",
      "Add arguments element-wise.\n",
      "\n",
      "Parameters\n",
      "----------\n",
      "x1, x2 : array_like\n",
      "    The arrays to be added.\n",
      "    If ``x1.shape != x2.shape``, they must be broadcastable to a common\n",
      "    shape (which becomes the shape of the output).\n",
      "out : ndarray, None, or tuple of ndarray and None, optional\n",
      "    A location into which the result is stored. If provided, it must have\n",
      "    a shape that the inputs broadcast to. If not provided or None,\n",
      "    a freshly-allocated array is returned. A tuple (possible only as a\n",
      "    keyword argument) must have length equal to the number of outputs.\n",
      "where : array_like, optional\n",
      "    This condition is broadcast over the input. At locations where the\n",
      "    condition is True, the `out` array will be set to the ufunc result.\n",
      "    Elsewhere, the `out` array will retain its original value.\n",
      "    Note that if an uninitialized `out` array is created via the default\n",
      "    ``out=None``, locations within it where the condition is False will\n",
      "    remain uninitialized.\n",
      "**kwargs\n",
      "    For other keyword-only arguments, see the\n",
      "    :ref:`ufunc docs <ufuncs.kwargs>`.\n",
      "\n",
      "Returns\n",
      "-------\n",
      "add : ndarray or scalar\n",
      "    The sum of `x1` and `x2`, element-wise.\n",
      "    This is a scalar if both `x1` and `x2` are scalars.\n",
      "\n",
      "Notes\n",
      "-----\n",
      "Equivalent to `x1` + `x2` in terms of array broadcasting.\n",
      "\n",
      "Examples\n",
      "--------\n",
      ">>> import numpy as np\n",
      ">>> np.add(1.0, 4.0)\n",
      "5.0\n",
      ">>> x1 = np.arange(9.0).reshape((3, 3))\n",
      ">>> x2 = np.arange(3.0)\n",
      ">>> np.add(x1, x2)\n",
      "array([[  0.,   2.,   4.],\n",
      "       [  3.,   5.,   7.],\n",
      "       [  6.,   8.,  10.]])\n",
      "\n",
      "The ``+`` operator can be used as a shorthand for ``np.add`` on ndarrays.\n",
      "\n",
      ">>> x1 = np.arange(9.0).reshape((3, 3))\n",
      ">>> x2 = np.arange(3.0)\n",
      ">>> x1 + x2\n",
      "array([[ 0.,  2.,  4.],\n",
      "       [ 3.,  5.,  7.],\n",
      "       [ 6.,  8., 10.]])\n",
      "None\n"
     ]
    }
   ],
   "source": [
    "# 2. Get help on the add function.\n",
    "print(np.info(np.add))"
   ]
  },
  {
   "cell_type": "code",
   "execution_count": 4,
   "id": "70160675-418a-4c19-ab06-e9bbf17922d9",
   "metadata": {},
   "outputs": [
    {
     "name": "stdout",
     "output_type": "stream",
     "text": [
      "None of the elements is zero: True\n"
     ]
    }
   ],
   "source": [
    "# 3. Test whether none of the elements of a given array is zero.\n",
    "arr = np.array([1, 2, 3, 4])\n",
    "print(\"None of the elements is zero:\", np.all(arr))"
   ]
  },
  {
   "cell_type": "code",
   "execution_count": 5,
   "id": "4e4a27e6-1438-4848-93c9-694c97eaf2e6",
   "metadata": {},
   "outputs": [
    {
     "name": "stdout",
     "output_type": "stream",
     "text": [
      "Any element is non-zero: True\n"
     ]
    }
   ],
   "source": [
    "# 4. Test whether any of the elements of a given array is non-zero.\n",
    "arr = np.array([0, 0, 1, 0])\n",
    "print(\"Any element is non-zero:\", np.any(arr))"
   ]
  },
  {
   "cell_type": "code",
   "execution_count": 6,
   "id": "7effed53-e9ab-405e-b52b-8f0a11185f51",
   "metadata": {},
   "outputs": [
    {
     "name": "stdout",
     "output_type": "stream",
     "text": [
      "Element-wise finiteness check: [ True False False  True]\n"
     ]
    }
   ],
   "source": [
    "# 5. Test element-wise for finiteness (not infinity or NaN).\n",
    "arr = np.array([1, np.inf, np.nan, 3])\n",
    "print(\"Element-wise finiteness check:\", np.isfinite(arr))"
   ]
  },
  {
   "cell_type": "code",
   "execution_count": 7,
   "id": "397e7886-92d6-4744-8197-590b3bc8604f",
   "metadata": {},
   "outputs": [
    {
     "name": "stdout",
     "output_type": "stream",
     "text": [
      "Element-wise infinity check: [False  True False False]\n"
     ]
    }
   ],
   "source": [
    "# 6. Test element-wise for positive or negative infinity.\n",
    "print(\"Element-wise infinity check:\", np.isinf(arr))"
   ]
  },
  {
   "cell_type": "code",
   "execution_count": 8,
   "id": "af44f88b-1382-4392-9b42-20e68f332959",
   "metadata": {},
   "outputs": [
    {
     "name": "stdout",
     "output_type": "stream",
     "text": [
      "Element-wise NaN check: [False False  True False]\n"
     ]
    }
   ],
   "source": [
    "# 7. Test element-wise for NaN.\n",
    "print(\"Element-wise NaN check:\", np.isnan(arr))"
   ]
  },
  {
   "cell_type": "code",
   "execution_count": 9,
   "id": "721dea32-6912-4ef4-8206-9883335f712a",
   "metadata": {},
   "outputs": [
    {
     "name": "stdout",
     "output_type": "stream",
     "text": [
      "Is complex: [False  True False False]\n",
      "Is real: [ True False  True  True]\n",
      "Is scalar (1): True\n",
      "Is scalar (arr): False\n"
     ]
    }
   ],
   "source": [
    "# 8. Test for complex number, real number and scalar type.\n",
    "arr = np.array([1, 2+3j, 4, 5+0j])\n",
    "print(\"Is complex:\", np.iscomplex(arr))\n",
    "print(\"Is real:\", np.isreal(arr))\n",
    "print(\"Is scalar (1):\", np.isscalar(1))\n",
    "print(\"Is scalar (arr):\", np.isscalar(arr))"
   ]
  },
  {
   "cell_type": "code",
   "execution_count": 10,
   "id": "e6c8fca1-1f04-4c5c-983a-47b809a97a94",
   "metadata": {},
   "outputs": [
    {
     "name": "stdout",
     "output_type": "stream",
     "text": [
      "Greater: [False False False]\n",
      "Greater or Equal: [False  True False]\n",
      "Less: [ True False  True]\n",
      "Less or Equal: [ True  True  True]\n"
     ]
    }
   ],
   "source": [
    "# 9. Element-wise comparison (greater, greater_equal, less, less_equal) of two arrays.\n",
    "arr1 = np.array([1, 2, 3])\n",
    "arr2 = np.array([2, 2, 4])\n",
    "print(\"Greater:\", np.greater(arr1, arr2))\n",
    "print(\"Greater or Equal:\", np.greater_equal(arr1, arr2))\n",
    "print(\"Less:\", np.less(arr1, arr2))\n",
    "print(\"Less or Equal:\", np.less_equal(arr1, arr2))"
   ]
  },
  {
   "cell_type": "code",
   "execution_count": 11,
   "id": "31acd687-6c14-4a67-bd0d-b20754140d6b",
   "metadata": {},
   "outputs": [
    {
     "name": "stdout",
     "output_type": "stream",
     "text": [
      "Memory size: 32\n"
     ]
    }
   ],
   "source": [
    "# 10. Create an array with values 1, 7, 13, 105 and determine memory size.\n",
    "arr = np.array([1, 7, 13, 105])\n",
    "print(\"Memory size:\", arr.nbytes)"
   ]
  },
  {
   "cell_type": "code",
   "execution_count": 12,
   "id": "218c18da-9cee-4332-a608-2234d081f7c1",
   "metadata": {},
   "outputs": [
    {
     "name": "stdout",
     "output_type": "stream",
     "text": [
      "[0. 0. 0. 0. 0. 0. 0. 0. 0. 0.] [1. 1. 1. 1. 1. 1. 1. 1. 1. 1.] [5 5 5 5 5 5 5 5 5 5]\n"
     ]
    }
   ],
   "source": [
    "# 11. Create an array of 10 zeros, 10 ones, 10 fives.\n",
    "arr_zeros = np.zeros(10)\n",
    "arr_ones = np.ones(10)\n",
    "arr_fives = np.full(10, 5)\n",
    "print(arr_zeros, arr_ones, arr_fives)"
   ]
  },
  {
   "cell_type": "code",
   "execution_count": 13,
   "id": "2ea0c0ee-c908-46a8-9463-95824ceceb4b",
   "metadata": {},
   "outputs": [
    {
     "name": "stdout",
     "output_type": "stream",
     "text": [
      "[30 31 32 33 34 35 36 37 38 39 40 41 42 43 44 45 46 47 48 49 50 51 52 53\n",
      " 54 55 56 57 58 59 60 61 62 63 64 65 66 67 68 69 70]\n"
     ]
    }
   ],
   "source": [
    "# 12. Create an array of the integers from 30 to 70.\n",
    "arr = np.arange(30, 71)\n",
    "print(arr)"
   ]
  },
  {
   "cell_type": "code",
   "execution_count": 14,
   "id": "f2cac9d0-7dd8-41d3-a9eb-f75c556b0d0a",
   "metadata": {},
   "outputs": [
    {
     "name": "stdout",
     "output_type": "stream",
     "text": [
      "[30 32 34 36 38 40 42 44 46 48 50 52 54 56 58 60 62 64 66 68 70]\n"
     ]
    }
   ],
   "source": [
    "# 13. Create an array of all even integers from 30 to 70.\n",
    "arr = np.arange(30, 71, 2)\n",
    "print(arr)"
   ]
  },
  {
   "cell_type": "code",
   "execution_count": 15,
   "id": "17922bf8-900f-4a89-9cf6-7f526a185f7b",
   "metadata": {},
   "outputs": [
    {
     "name": "stdout",
     "output_type": "stream",
     "text": [
      "[[1. 0. 0.]\n",
      " [0. 1. 0.]\n",
      " [0. 0. 1.]]\n"
     ]
    }
   ],
   "source": [
    "# 14. Create a 3x3 identity matrix.\n",
    "print(np.eye(3))"
   ]
  },
  {
   "cell_type": "code",
   "execution_count": 16,
   "id": "a5acb4e3-c521-4a7a-8ece-8a0bf843191a",
   "metadata": {},
   "outputs": [
    {
     "name": "stdout",
     "output_type": "stream",
     "text": [
      "0.714451867516147\n"
     ]
    }
   ],
   "source": [
    "# 15. Generate a random number between 0 and 1.\n",
    "print(np.random.rand())"
   ]
  },
  {
   "cell_type": "code",
   "execution_count": 17,
   "id": "88035d32-7780-41c3-a5ba-ce35597298cd",
   "metadata": {},
   "outputs": [
    {
     "name": "stdout",
     "output_type": "stream",
     "text": [
      "[-0.90836285 -0.22553914  0.99884235 -0.28636694 -0.73812384  1.09652917\n",
      " -1.12215661  0.28677391  0.44080465 -0.57021027 -1.0053679   0.71690829\n",
      "  0.40622     0.21352767 -0.25289213]\n"
     ]
    }
   ],
   "source": [
    "# 16. Generate an array of 15 random numbers from a standard normal distribution.\n",
    "print(np.random.randn(15))"
   ]
  },
  {
   "cell_type": "code",
   "execution_count": 18,
   "id": "618f9544-b791-48f3-9f68-c3c426f3d8e3",
   "metadata": {},
   "outputs": [
    {
     "name": "stdout",
     "output_type": "stream",
     "text": [
      "[16 17 18 19 20 21 22 23 24 25 26 27 28 29 30 31 32 33 34 35 36 37 38 39\n",
      " 40 41 42 43 44 45 46 47 48 49 50 51 52 53 54]\n"
     ]
    }
   ],
   "source": [
    "# 17. Create a vector with values ranging from 15 to 55, excluding the first and last.\n",
    "arr = np.arange(15, 56)\n",
    "print(arr[1:-1])"
   ]
  },
  {
   "cell_type": "code",
   "execution_count": 19,
   "id": "87516287-93aa-45fe-b020-b6d85c58e79f",
   "metadata": {},
   "outputs": [
    {
     "name": "stdout",
     "output_type": "stream",
     "text": [
      "[[0. 0. 0. 0.]\n",
      " [0. 0. 0. 0.]\n",
      " [0. 0. 0. 0.]]\n"
     ]
    }
   ],
   "source": [
    "# 18. Create a 3x4 array.\n",
    "print(np.zeros((3, 4)))"
   ]
  },
  {
   "cell_type": "code",
   "execution_count": 20,
   "id": "f0cfb79f-8bb8-4c3e-bd8d-5cbec5d39733",
   "metadata": {},
   "outputs": [
    {
     "name": "stdout",
     "output_type": "stream",
     "text": [
      "[ 5. 10. 15. 20. 25. 30. 35. 40. 45. 50.]\n"
     ]
    }
   ],
   "source": [
    "# 19. Create a vector of length 10 with values evenly distributed between 5 and 50.\n",
    "print(np.linspace(5, 50, 10))"
   ]
  },
  {
   "cell_type": "code",
   "execution_count": 21,
   "id": "d0d792f4-b8d3-448e-a017-5afb350ff511",
   "metadata": {},
   "outputs": [
    {
     "name": "stdout",
     "output_type": "stream",
     "text": [
      "[  0   1   2   3   4   5   6   7   8  -9 -10 -11 -12 -13 -14 -15  16  17\n",
      "  18  19  20]\n"
     ]
    }
   ],
   "source": [
    "# 20. Create a vector with values from 0 to 20 and change the sign of numbers from 9 to 15.\n",
    "arr = np.arange(21)\n",
    "arr[9:16] = -arr[9:16]\n",
    "print(arr)"
   ]
  },
  {
   "cell_type": "code",
   "execution_count": 22,
   "id": "2f40120e-5c30-4e7b-b2a8-9aac500263cc",
   "metadata": {},
   "outputs": [
    {
     "name": "stdout",
     "output_type": "stream",
     "text": [
      "[7 7 1 9 6]\n"
     ]
    }
   ],
   "source": [
    "# 21. Create a vector of length 5 filled with arbitrary integers from 0 to 10.\n",
    "print(np.random.randint(0, 11, 5))"
   ]
  },
  {
   "cell_type": "code",
   "execution_count": 23,
   "id": "de6aabea-3395-403d-a7bd-1b91cc1d9d16",
   "metadata": {},
   "outputs": [
    {
     "name": "stdout",
     "output_type": "stream",
     "text": [
      "[ 4 10 18]\n"
     ]
    }
   ],
   "source": [
    "# 22. Multiply the values of two given vectors.\n",
    "v1 = np.array([1, 2, 3])\n",
    "v2 = np.array([4, 5, 6])\n",
    "print(np.multiply(v1, v2))"
   ]
  },
  {
   "cell_type": "code",
   "execution_count": 24,
   "id": "935bfc17-0135-43c3-b028-90f5aafbd83d",
   "metadata": {},
   "outputs": [
    {
     "name": "stdout",
     "output_type": "stream",
     "text": [
      "[[10 11 12 13]\n",
      " [14 15 16 17]\n",
      " [18 19 20 21]]\n"
     ]
    }
   ],
   "source": [
    "# 23. Create a 3x4 matrix filled with values from 10 to 21.\n",
    "print(np.arange(10, 22).reshape(3, 4))"
   ]
  },
  {
   "cell_type": "code",
   "execution_count": 25,
   "id": "d5468e7d-2b32-4a42-ab7a-cbfa1723e0b5",
   "metadata": {},
   "outputs": [
    {
     "name": "stdout",
     "output_type": "stream",
     "text": [
      "Rows and columns: (3, 2)\n"
     ]
    }
   ],
   "source": [
    "# 24. Find the number of rows and columns of a given matrix.\n",
    "matrix = np.array([[1, 2], [3, 4], [5, 6]])\n",
    "print(\"Rows and columns:\", matrix.shape)"
   ]
  },
  {
   "cell_type": "code",
   "execution_count": 26,
   "id": "2650bbea-316b-4710-8805-db12fc42d5e4",
   "metadata": {},
   "outputs": [
    {
     "name": "stdout",
     "output_type": "stream",
     "text": [
      "[[1. 0. 0.]\n",
      " [0. 1. 0.]\n",
      " [0. 0. 1.]]\n"
     ]
    }
   ],
   "source": [
    "# 25. Create a 3x3 identity matrix.\n",
    "print(np.eye(3))"
   ]
  },
  {
   "cell_type": "code",
   "execution_count": 27,
   "id": "279dd6a0-8765-41f6-871b-643b131a1c15",
   "metadata": {},
   "outputs": [
    {
     "name": "stdout",
     "output_type": "stream",
     "text": [
      "[[1. 1. 1. 1. 1. 1. 1. 1. 1. 1.]\n",
      " [1. 0. 0. 0. 0. 0. 0. 0. 0. 1.]\n",
      " [1. 0. 0. 0. 0. 0. 0. 0. 0. 1.]\n",
      " [1. 0. 0. 0. 0. 0. 0. 0. 0. 1.]\n",
      " [1. 0. 0. 0. 0. 0. 0. 0. 0. 1.]\n",
      " [1. 0. 0. 0. 0. 0. 0. 0. 0. 1.]\n",
      " [1. 0. 0. 0. 0. 0. 0. 0. 0. 1.]\n",
      " [1. 0. 0. 0. 0. 0. 0. 0. 0. 1.]\n",
      " [1. 0. 0. 0. 0. 0. 0. 0. 0. 1.]\n",
      " [1. 1. 1. 1. 1. 1. 1. 1. 1. 1.]]\n"
     ]
    }
   ],
   "source": [
    "# 26. Create a 10x10 matrix, with elements on the borders equal to 1 and inside 0.\n",
    "matrix = np.ones((10, 10))\n",
    "matrix[1:-1, 1:-1] = 0\n",
    "print(matrix)"
   ]
  },
  {
   "cell_type": "code",
   "execution_count": 28,
   "id": "69999481-3fad-4e61-aef9-fcbe9d5ba4bb",
   "metadata": {},
   "outputs": [
    {
     "name": "stdout",
     "output_type": "stream",
     "text": [
      "[[1. 0. 0. 0. 0.]\n",
      " [0. 2. 0. 0. 0.]\n",
      " [0. 0. 3. 0. 0.]\n",
      " [0. 0. 0. 4. 0.]\n",
      " [0. 0. 0. 0. 5.]]\n"
     ]
    }
   ],
   "source": [
    "# 27. Create a 5x5 zero matrix with elements on the main diagonal equal to 1, 2, 3, 4, 5.\n",
    "matrix = np.zeros((5, 5))\n",
    "np.fill_diagonal(matrix, np.arange(1, 6))\n",
    "print(matrix)"
   ]
  },
  {
   "cell_type": "code",
   "execution_count": 29,
   "id": "34a5b2cc-6954-4ad2-a3a0-fb5713ad171a",
   "metadata": {},
   "outputs": [
    {
     "name": "stdout",
     "output_type": "stream",
     "text": [
      "[[[9 2 6]\n",
      "  [5 8 8]\n",
      "  [2 0 1]]\n",
      "\n",
      " [[9 0 2]\n",
      "  [4 9 6]\n",
      "  [2 2 1]]\n",
      "\n",
      " [[7 7 6]\n",
      "  [3 0 7]\n",
      "  [9 7 3]]]\n"
     ]
    }
   ],
   "source": [
    "# 28. Create a 3x3x3 array filled with arbitrary values.\n",
    "print(np.random.randint(0, 10, (3, 3, 3)))"
   ]
  },
  {
   "cell_type": "code",
   "execution_count": 30,
   "id": "5aae9198-bb8a-4c51-843b-de40d3d16cf6",
   "metadata": {},
   "outputs": [
    {
     "name": "stdout",
     "output_type": "stream",
     "text": [
      "32\n"
     ]
    }
   ],
   "source": [
    "# 29. Compute the inner product of two given vectors.\n",
    "v1 = np.array([1, 2, 3])\n",
    "v2 = np.array([4, 5, 6])\n",
    "print(np.inner(v1, v2))"
   ]
  },
  {
   "cell_type": "code",
   "execution_count": 31,
   "id": "8fe30290-4d7b-4fef-8e42-0b6d972d2fbf",
   "metadata": {},
   "outputs": [
    {
     "name": "stdout",
     "output_type": "stream",
     "text": [
      "Original array:\n",
      " [[38 74 18  9]\n",
      " [80 10 68 10]\n",
      " [ 5 54 23 14]\n",
      " [25 38 24 74]]\n",
      "Sorted by rows:\n",
      " [[ 9 18 38 74]\n",
      " [10 10 68 80]\n",
      " [ 5 14 23 54]\n",
      " [24 25 38 74]]\n",
      "Sorted by columns:\n",
      " [[ 5 10 18  9]\n",
      " [25 38 23 10]\n",
      " [38 54 24 14]\n",
      " [80 74 68 74]]\n"
     ]
    }
   ],
   "source": [
    "# 30. Sort a given array by row and column in ascending order.\n",
    "arr = np.random.randint(0, 100, (4, 4))\n",
    "print(\"Original array:\\n\", arr)\n",
    "print(\"Sorted by rows:\\n\", np.sort(arr, axis=1))\n",
    "print(\"Sorted by columns:\\n\", np.sort(arr, axis=0))"
   ]
  },
  {
   "cell_type": "code",
   "execution_count": 32,
   "id": "554603bd-0f20-4301-8dfb-8dea1d7b2483",
   "metadata": {},
   "outputs": [
    {
     "name": "stdout",
     "output_type": "stream",
     "text": [
      "Less than 20: [10 15]\n",
      "Greater than 20: [25 30]\n"
     ]
    }
   ],
   "source": [
    "# 31. Extract numbers less and greater than a specified number.\n",
    "arr = np.array([10, 15, 20, 25, 30])\n",
    "less_than = arr[arr < 20]\n",
    "greater_than = arr[arr > 20]\n",
    "print(\"Less than 20:\", less_than)\n",
    "print(\"Greater than 20:\", greater_than)"
   ]
  },
  {
   "cell_type": "code",
   "execution_count": 33,
   "id": "4dc6c791-de86-4929-b84a-d0f197c065e7",
   "metadata": {},
   "outputs": [
    {
     "name": "stdout",
     "output_type": "stream",
     "text": [
      "[100 100 100 100 100]\n"
     ]
    }
   ],
   "source": [
    "# 32. Replace numbers equal, less, or greater to a given number.\n",
    "arr = np.array([10, 15, 20, 25, 30])\n",
    "arr[arr == 20] = 200\n",
    "arr[arr < 20] = 50\n",
    "arr[arr > 20] = 100\n",
    "print(arr)"
   ]
  },
  {
   "cell_type": "code",
   "execution_count": 34,
   "id": "36a6949e-a195-4d82-8351-729ddeed9381",
   "metadata": {},
   "outputs": [
    {
     "name": "stdout",
     "output_type": "stream",
     "text": [
      "[0 0 1 0]\n"
     ]
    }
   ],
   "source": [
    "# 33. Create an array of equal shape and data type of a given array.\n",
    "arr = np.array([1, 2, 3, 4])\n",
    "arr_equal_shape = np.empty_like(arr)\n",
    "print(arr_equal_shape)"
   ]
  },
  {
   "cell_type": "code",
   "execution_count": 35,
   "id": "764ea8a4-f695-4896-b449-cf81d80624f5",
   "metadata": {},
   "outputs": [
    {
     "name": "stdout",
     "output_type": "stream",
     "text": [
      "[[[0.73725294 0.49821182 0.81366879 0.25650272]\n",
      "  [0.41388906 0.59645755 0.61733401 0.203745  ]\n",
      "  [0.67591075 0.9798322  0.75449735 0.60292711]\n",
      "  [0.6102156  0.2597767  0.17753203 0.45188092]\n",
      "  [0.4466218  0.25810947 0.30613701 0.50135793]]\n",
      "\n",
      " [[0.78945306 0.84612144 0.44802158 0.23030849]\n",
      "  [0.68246214 0.09649873 0.46048397 0.58265911]\n",
      "  [0.29746961 0.53198255 0.59090659 0.89378656]\n",
      "  [0.52199849 0.20335665 0.11958151 0.31038436]\n",
      "  [0.54967835 0.98547987 0.44128392 0.12271516]]\n",
      "\n",
      " [[0.75696837 0.37043909 0.61133481 0.87000949]\n",
      "  [0.15532258 0.11788998 0.15205182 0.49352963]\n",
      "  [0.88724418 0.20298454 0.21135739 0.24864751]\n",
      "  [0.1017627  0.73168326 0.2472996  0.88849399]\n",
      "  [0.80649559 0.50834685 0.70969143 0.56444061]]]\n"
     ]
    }
   ],
   "source": [
    "# 34. Create a three-dimension array with shape (3, 5, 4) and set to a variable.\n",
    "three_dim_arr = np.random.rand(3, 5, 4)\n",
    "print(three_dim_arr)"
   ]
  },
  {
   "cell_type": "code",
   "execution_count": 36,
   "id": "8e68227f-5fcb-4e3e-93b7-a15ee86dfddd",
   "metadata": {},
   "outputs": [
    {
     "name": "stdout",
     "output_type": "stream",
     "text": [
      "[ 4 10 18]\n"
     ]
    }
   ],
   "source": [
    "# 35. Multiply two arrays of same size element-by-element.\n",
    "arr1 = np.array([1, 2, 3])\n",
    "arr2 = np.array([4, 5, 6])\n",
    "print(np.multiply(arr1, arr2))"
   ]
  },
  {
   "cell_type": "code",
   "execution_count": null,
   "id": "71390b5c-5447-464c-b6f9-e9af577224c6",
   "metadata": {},
   "outputs": [],
   "source": []
  }
 ],
 "metadata": {
  "kernelspec": {
   "display_name": "Python 3 (ipykernel)",
   "language": "python",
   "name": "python3"
  },
  "language_info": {
   "codemirror_mode": {
    "name": "ipython",
    "version": 3
   },
   "file_extension": ".py",
   "mimetype": "text/x-python",
   "name": "python",
   "nbconvert_exporter": "python",
   "pygments_lexer": "ipython3",
   "version": "3.12.4"
  }
 },
 "nbformat": 4,
 "nbformat_minor": 5
}
