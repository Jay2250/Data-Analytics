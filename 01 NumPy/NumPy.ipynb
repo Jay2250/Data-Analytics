{
 "cells": [
  {
   "cell_type": "markdown",
   "id": "9066d6e7-a636-4c8f-a20d-738706d2215c",
   "metadata": {},
   "source": [
    "## NumPy Array Creation"
   ]
  },
  {
   "cell_type": "code",
   "execution_count": 1,
   "id": "ef24cffe-f7ae-4500-98dd-5b425f07536b",
   "metadata": {},
   "outputs": [],
   "source": [
    "import numpy as np"
   ]
  },
  {
   "cell_type": "code",
   "execution_count": 2,
   "id": "293b1bd1-5283-41da-991e-ee7c41cf5d91",
   "metadata": {},
   "outputs": [
    {
     "name": "stdout",
     "output_type": "stream",
     "text": [
      "<class 'list'>\n"
     ]
    }
   ],
   "source": [
    "my_list = [1,2,3]\n",
    "my_array = np.array([1,2,3])\n",
    "\n",
    "print(type(my_list))"
   ]
  },
  {
   "cell_type": "code",
   "execution_count": 3,
   "id": "45941b96-09e4-4b60-b7e6-3261f5b29f9f",
   "metadata": {},
   "outputs": [
    {
     "name": "stdout",
     "output_type": "stream",
     "text": [
      "[1 2 3]\n"
     ]
    }
   ],
   "source": [
    "# Create a numpy array from a list\n",
    "print(np.array(my_list))"
   ]
  },
  {
   "cell_type": "code",
   "execution_count": 4,
   "id": "77fbb273-507f-4957-a799-d0bf761a93f8",
   "metadata": {},
   "outputs": [
    {
     "name": "stdout",
     "output_type": "stream",
     "text": [
      "[[1 2 3]\n",
      " [4 5 6]\n",
      " [7 8 9]]\n"
     ]
    }
   ],
   "source": [
    "# Or from a list of list\n",
    "my_matrix = [[1,2,3],[4,5,6],[7,8,9]]\n",
    "print(np.array(my_matrix))"
   ]
  },
  {
   "cell_type": "code",
   "execution_count": 5,
   "id": "5ba1ce34-cdcb-4d9d-b422-4c65348ef510",
   "metadata": {},
   "outputs": [
    {
     "name": "stdout",
     "output_type": "stream",
     "text": [
      "[0 1 2 3 4 5 6 7 8 9]\n",
      "[ 0  2  4  6  8 10]\n"
     ]
    }
   ],
   "source": [
    "# Creating arrays using built-in functions\n",
    "# Return evenly spaced values within a given interval\n",
    "# start, stop, step\n",
    "print(np.arange(0,10))\n",
    "print(np.arange(0,11,2))"
   ]
  },
  {
   "cell_type": "code",
   "execution_count": 6,
   "id": "99fa6bff-72fd-4206-a483-ceb8cbda977f",
   "metadata": {},
   "outputs": [
    {
     "name": "stdout",
     "output_type": "stream",
     "text": [
      "[0. 0. 0.]\n",
      "[[0. 0. 0. 0. 0.]\n",
      " [0. 0. 0. 0. 0.]\n",
      " [0. 0. 0. 0. 0.]\n",
      " [0. 0. 0. 0. 0.]\n",
      " [0. 0. 0. 0. 0.]]\n",
      "[1. 1. 1.]\n",
      "[[1. 1. 1.]\n",
      " [1. 1. 1.]\n",
      " [1. 1. 1.]]\n"
     ]
    }
   ],
   "source": [
    "# Generate arrays of zeros or ones\n",
    "\n",
    "print(np.zeros(3))\n",
    "print(np.zeros((5,5)))\n",
    "print(np.ones(3))\n",
    "print(np.ones((3,3)))"
   ]
  },
  {
   "cell_type": "code",
   "execution_count": 7,
   "id": "fe19a7cb-e4c8-4262-a5f7-ea794283f01f",
   "metadata": {},
   "outputs": [
    {
     "name": "stdout",
     "output_type": "stream",
     "text": [
      "[ 0.  5. 10.]\n",
      "[0.         0.26315789 0.52631579 0.78947368 1.05263158 1.31578947\n",
      " 1.57894737 1.84210526 2.10526316 2.36842105 2.63157895 2.89473684\n",
      " 3.15789474 3.42105263 3.68421053 3.94736842 4.21052632 4.47368421\n",
      " 4.73684211 5.        ]\n",
      "[0.   0.25 0.5  0.75 1.   1.25 1.5  1.75 2.   2.25 2.5  2.75 3.   3.25\n",
      " 3.5  3.75 4.   4.25 4.5  4.75 5.  ]\n"
     ]
    }
   ],
   "source": [
    "# Return evenly spaced numbers over a specified interval\n",
    "# start, stop, number of elements (and not step)\n",
    "# Unlike numpy.arange(), the stop value is included in the result\n",
    "# The spacing between values is automatically determined based on the \n",
    "#  specified number of values (num)\n",
    "print(np.linspace(0,10,3))\n",
    "print(np.linspace(0,5,20))\n",
    "print(np.linspace(0,5,21))"
   ]
  },
  {
   "cell_type": "code",
   "execution_count": 8,
   "id": "74e4742c-417d-4e67-b440-2ba18cad4921",
   "metadata": {},
   "outputs": [
    {
     "name": "stdout",
     "output_type": "stream",
     "text": [
      "[0.54768131 0.52657855]\n",
      "[[0.51196511 0.40814842 0.6710061  0.66878109 0.56476497]\n",
      " [0.91056147 0.02783444 0.49902091 0.65511688 0.91789856]\n",
      " [0.06760164 0.38829644 0.92415963 0.18574847 0.30293767]\n",
      " [0.41956821 0.19000548 0.8517976  0.79542925 0.48785564]\n",
      " [0.08714179 0.67838445 0.39198546 0.89638997 0.56787916]]\n"
     ]
    }
   ],
   "source": [
    "# Random number arrays\n",
    "print(np.random.rand(2))\n",
    "print(np.random.rand(5,5))"
   ]
  },
  {
   "cell_type": "code",
   "execution_count": 9,
   "id": "448aa9c8-7976-41d5-be6a-556e0f46d2e1",
   "metadata": {},
   "outputs": [
    {
     "name": "stdout",
     "output_type": "stream",
     "text": [
      "[-0.2135074   1.18188311]\n",
      "[[ 0.07649947 -0.18650173 -0.51391264 -0.11321108 -0.69503129]\n",
      " [-0.28371751  1.81637122 -0.78933157 -0.42963439 -0.09801804]\n",
      " [ 0.98971565  0.73899273 -2.02428323  1.18230377 -0.26168603]\n",
      " [ 0.45984991 -0.52518018  0.37286378 -0.63728512 -0.90427785]\n",
      " [ 0.63225046 -1.33047058  0.18682137 -0.24171336 -0.13601154]]\n"
     ]
    }
   ],
   "source": [
    "# From normal distribution\n",
    "print(np.random.randn(2))\n",
    "print(np.random.randn(5,5))"
   ]
  },
  {
   "cell_type": "code",
   "execution_count": 10,
   "id": "ee33b757-7b7d-4061-aebc-c1ebcb413172",
   "metadata": {},
   "outputs": [
    {
     "name": "stdout",
     "output_type": "stream",
     "text": [
      "65\n",
      "[58 80  1 21 16 93  3 87 92 59]\n"
     ]
    }
   ],
   "source": [
    "# Random integers from low (inclusive) to high (exclusive)\n",
    "print(np.random.randint(1,100)) # Single random integers between 1 and 100\n",
    "print(np.random.randint(1,100,10)) # 10 random integers between 1 and 100"
   ]
  },
  {
   "cell_type": "code",
   "execution_count": 11,
   "id": "9c424f67-181f-4a95-89f6-66c351e65f64",
   "metadata": {},
   "outputs": [
    {
     "name": "stdout",
     "output_type": "stream",
     "text": [
      "[0.91910903 0.6421956  0.75371223 0.13931457]\n",
      "[0.91910903 0.6421956  0.75371223 0.13931457]\n"
     ]
    }
   ],
   "source": [
    "# Seeding for reproducable results\n",
    "np.random.seed(77)\n",
    "print(np.random.rand(4)) # 4 random numbers \n",
    "\n",
    "np.random.seed(77)\n",
    "print(np.random.rand(4))"
   ]
  },
  {
   "cell_type": "code",
   "execution_count": 12,
   "id": "d5e2b5ae-50cc-4bce-83d9-0bdb6b0de815",
   "metadata": {},
   "outputs": [
    {
     "name": "stdout",
     "output_type": "stream",
     "text": [
      "[ 0  1  2  3  4  5  6  7  8  9 10 11 12 13 14 15 16 17 18 19 20 21 22 23\n",
      " 24]\n",
      "[32 39 44 19 32 36 36 47 14 15]\n"
     ]
    }
   ],
   "source": [
    "# Storing\n",
    "arr = np.arange(25) # numbers from 0 to 24\n",
    "ranarr = np.random.randint(0,50,10) # 10 random numbers between 0 and 50\n",
    "\n",
    "print(arr)\n",
    "print(ranarr)"
   ]
  },
  {
   "cell_type": "code",
   "execution_count": 13,
   "id": "975a9e7f-29da-4ef3-be1c-0a0d309c21e7",
   "metadata": {},
   "outputs": [
    {
     "name": "stdout",
     "output_type": "stream",
     "text": [
      "[[ 0  1  2  3  4]\n",
      " [ 5  6  7  8  9]\n",
      " [10 11 12 13 14]\n",
      " [15 16 17 18 19]\n",
      " [20 21 22 23 24]]\n"
     ]
    }
   ],
   "source": [
    "# reshape: Returns an array containing the same data with a new shape\n",
    "print(arr.reshape(5,5))"
   ]
  },
  {
   "cell_type": "code",
   "execution_count": 14,
   "id": "b7a64cd0-9be6-45e5-81e5-c0859ab92353",
   "metadata": {},
   "outputs": [
    {
     "name": "stdout",
     "output_type": "stream",
     "text": [
      "47\n",
      "7\n",
      "14\n"
     ]
    }
   ],
   "source": [
    "# Max, Min and their index positions\n",
    "print(ranarr.max())\n",
    "print(ranarr.argmax())\n",
    "print(ranarr.min())"
   ]
  },
  {
   "cell_type": "code",
   "execution_count": null,
   "id": "f837b634-f0f0-4979-92ce-7ae37ae12d15",
   "metadata": {},
   "outputs": [],
   "source": []
  },
  {
   "cell_type": "markdown",
   "id": "2d70e34d-c3dd-43c0-bb3e-9ab8fa2835cd",
   "metadata": {},
   "source": [
    "## NumPy Indexing and Selection"
   ]
  },
  {
   "cell_type": "code",
   "execution_count": 15,
   "id": "1225676c-fc54-47b2-b4ef-5ad87b43c62a",
   "metadata": {},
   "outputs": [
    {
     "name": "stdout",
     "output_type": "stream",
     "text": [
      "[ 0  1  2  3  4  5  6  7  8  9 10]\n"
     ]
    }
   ],
   "source": [
    "#Creating sample array\n",
    "arr = np.arange(0,11)\n",
    "print(arr)"
   ]
  },
  {
   "cell_type": "code",
   "execution_count": 16,
   "id": "f98cbc11-8b32-45e0-9f19-3976cdf426e8",
   "metadata": {},
   "outputs": [
    {
     "name": "stdout",
     "output_type": "stream",
     "text": [
      "8\n"
     ]
    }
   ],
   "source": [
    "# Bracket indexing and selection - similar to Python lists\n",
    "#Get a value at an index\n",
    "print(arr[8])"
   ]
  },
  {
   "cell_type": "code",
   "execution_count": 17,
   "id": "34e531ad-88c1-47a8-9660-fd05394d8ec0",
   "metadata": {},
   "outputs": [
    {
     "name": "stdout",
     "output_type": "stream",
     "text": [
      "[1 2 3 4]\n"
     ]
    }
   ],
   "source": [
    "#Get values in a range\n",
    "print(arr[1:5])"
   ]
  },
  {
   "cell_type": "code",
   "execution_count": 18,
   "id": "3dbba365-c180-46ba-8a27-4cf738b90deb",
   "metadata": {},
   "outputs": [
    {
     "name": "stdout",
     "output_type": "stream",
     "text": [
      "[0 1 2 3 4]\n"
     ]
    }
   ],
   "source": [
    "#Get values in a range\n",
    "print(arr[0:5])"
   ]
  },
  {
   "cell_type": "code",
   "execution_count": 19,
   "id": "3e44ebc0-31be-433e-98e0-ab055906c673",
   "metadata": {},
   "outputs": [
    {
     "name": "stdout",
     "output_type": "stream",
     "text": [
      "[100 100 100 100 100   5   6   7   8   9  10]\n"
     ]
    }
   ],
   "source": [
    "# Broadcasting\n",
    "#Setting a value with index range (Broadcasting)\n",
    "arr[0:5]=100\n",
    "print(arr)"
   ]
  },
  {
   "cell_type": "code",
   "execution_count": 20,
   "id": "cf1d1b84-0aa0-4842-98d2-dce5649a4f31",
   "metadata": {},
   "outputs": [
    {
     "name": "stdout",
     "output_type": "stream",
     "text": [
      "[ 0  1  2  3  4  5  6  7  8  9 10]\n"
     ]
    }
   ],
   "source": [
    "# Reset array, why? will be clear soon\n",
    "arr = np.arange(0,11)\n",
    "print(arr)"
   ]
  },
  {
   "cell_type": "code",
   "execution_count": 21,
   "id": "a474d1ce-3322-459a-9888-0f6c379430ba",
   "metadata": {},
   "outputs": [
    {
     "name": "stdout",
     "output_type": "stream",
     "text": [
      "[0 1 2 3 4 5]\n"
     ]
    }
   ],
   "source": [
    "#Important notes on Slices\n",
    "slice_of_arr = arr[0:6]\n",
    "print(slice_of_arr)"
   ]
  },
  {
   "cell_type": "code",
   "execution_count": 22,
   "id": "ff2014c5-f5bb-434c-a9ff-063e3a6af8e1",
   "metadata": {},
   "outputs": [
    {
     "name": "stdout",
     "output_type": "stream",
     "text": [
      "[99 99 99 99 99 99]\n",
      "[99 99 99 99 99 99  6  7  8  9 10]\n"
     ]
    }
   ],
   "source": [
    "#Change Slice\n",
    "slice_of_arr[:]=99\n",
    "print(slice_of_arr)\n",
    "print(arr)\n",
    "# Changes made are also there in our original array!\n",
    "# Data is not copied, it is a view of the original array! \n",
    "# This avoids memory problems"
   ]
  },
  {
   "cell_type": "code",
   "execution_count": 23,
   "id": "2acf40f5-3d9e-4f9b-9f55-172fe178f319",
   "metadata": {},
   "outputs": [
    {
     "name": "stdout",
     "output_type": "stream",
     "text": [
      "[99 99 99 99 99 99  6  7  8  9 10]\n"
     ]
    }
   ],
   "source": [
    "#To get a copy, we need to be explicit\n",
    "arr_copy = arr.copy()\n",
    "print(arr_copy)"
   ]
  },
  {
   "cell_type": "code",
   "execution_count": 24,
   "id": "4423bec7-f63e-4106-b445-012e2615c78c",
   "metadata": {},
   "outputs": [
    {
     "name": "stdout",
     "output_type": "stream",
     "text": [
      "[[ 5 10 15]\n",
      " [20 25 30]\n",
      " [35 40 45]]\n"
     ]
    }
   ],
   "source": [
    "# 2D arrays\n",
    "arr_2d = np.array(([5,10,15],[20,25,30],[35,40,45]))\n",
    "print(arr_2d)"
   ]
  },
  {
   "cell_type": "code",
   "execution_count": 25,
   "id": "fdd5aa7c-10ab-4e14-b365-c8503c852050",
   "metadata": {},
   "outputs": [
    {
     "name": "stdout",
     "output_type": "stream",
     "text": [
      "[20 25 30]\n"
     ]
    }
   ],
   "source": [
    "#Indexing row\n",
    "print(arr_2d[1])"
   ]
  },
  {
   "cell_type": "code",
   "execution_count": 26,
   "id": "ddc21373-4779-4005-9df0-6d295b908f38",
   "metadata": {},
   "outputs": [
    {
     "name": "stdout",
     "output_type": "stream",
     "text": [
      "20\n",
      "20\n"
     ]
    }
   ],
   "source": [
    "# Getting individual element value\n",
    "# Syntax is arr_2d[row][col] or arr_2d[row,col]\n",
    "print(arr_2d[1][0])\n",
    "print(arr_2d[1,0])"
   ]
  },
  {
   "cell_type": "code",
   "execution_count": 27,
   "id": "3e24e103-99a0-4d4a-8f11-4ad57b8e8a17",
   "metadata": {},
   "outputs": [
    {
     "name": "stdout",
     "output_type": "stream",
     "text": [
      "[[10 15]\n",
      " [25 30]]\n"
     ]
    }
   ],
   "source": [
    "# 2D array slicing\n",
    "# Shape (2,2) from top right corner\n",
    "print(arr_2d[:2,1:])"
   ]
  },
  {
   "cell_type": "code",
   "execution_count": 28,
   "id": "b6cab2bd-7f02-4a8a-a8eb-413d3834a376",
   "metadata": {},
   "outputs": [
    {
     "name": "stdout",
     "output_type": "stream",
     "text": [
      "[35 40 45]\n"
     ]
    }
   ],
   "source": [
    "# Shape bottom row\n",
    "print(arr_2d[2])"
   ]
  },
  {
   "cell_type": "code",
   "execution_count": 29,
   "id": "4a656d4c-b427-4c9b-b524-a8880e80dc4a",
   "metadata": {},
   "outputs": [
    {
     "name": "stdout",
     "output_type": "stream",
     "text": [
      "[35 40 45]\n"
     ]
    }
   ],
   "source": [
    "# Same thing: Shape bottom row\n",
    "print(arr_2d[2,:])"
   ]
  },
  {
   "cell_type": "code",
   "execution_count": 30,
   "id": "e698fee4-ff14-4330-acbe-67f32e60976b",
   "metadata": {},
   "outputs": [
    {
     "name": "stdout",
     "output_type": "stream",
     "text": [
      "[ 1  2  3  4  5  6  7  8  9 10]\n"
     ]
    }
   ],
   "source": [
    "# Conditional selection\n",
    "arr = np.arange(1,11)\n",
    "print(arr)"
   ]
  },
  {
   "cell_type": "code",
   "execution_count": 31,
   "id": "c070440b-087f-4b2f-81e0-4150ebfceb20",
   "metadata": {},
   "outputs": [
    {
     "name": "stdout",
     "output_type": "stream",
     "text": [
      "[False False False False  True  True  True  True  True  True]\n"
     ]
    }
   ],
   "source": [
    "# Check each element of the array  against the condition arr > 4, \n",
    "#  which returns a boolean array where \n",
    "#  each element is True if the corresponding element in arr is greater than 4, \n",
    "#  and False otherwise\n",
    "print(arr > 4)"
   ]
  },
  {
   "cell_type": "code",
   "execution_count": 32,
   "id": "e56a1b4f-ba7c-4ffc-858a-f6641e90bf81",
   "metadata": {},
   "outputs": [
    {
     "name": "stdout",
     "output_type": "stream",
     "text": [
      "[False False False False  True  True  True  True  True  True]\n"
     ]
    }
   ],
   "source": [
    "# Store boolean results in another array\n",
    "bool_arr = arr > 4\n",
    "print(bool_arr)"
   ]
  },
  {
   "cell_type": "code",
   "execution_count": 33,
   "id": "97654b1a-23cb-49f1-8184-a344a4341b33",
   "metadata": {},
   "outputs": [
    {
     "name": "stdout",
     "output_type": "stream",
     "text": [
      "[ 5  6  7  8  9 10]\n"
     ]
    }
   ],
   "source": [
    "# Select only those elements from the arr array where \n",
    "# the corresponding element in bool_arr is True\n",
    "# It effectively filters out the elements of arr where the condition arr > 4 is True\n",
    "print(arr[bool_arr])"
   ]
  },
  {
   "cell_type": "code",
   "execution_count": 36,
   "id": "d1386939-0269-482f-a33a-1e9271aebd89",
   "metadata": {},
   "outputs": [
    {
     "data": {
      "text/plain": [
       "'\\narr > 2 creates a boolean array where each element is True if \\nthe corresponding element in arr is greater than 2, and False otherwise\\n\\narr[arr > 2] uses this boolean array as a mask to select only the elements \\nof arr where the corresponding element in the boolean array is True\\n\\nThe array arr is [1, 2, 3, 4, 5, 6, 7, 8, 9, 10]\\nThe boolean array arr > 2 is [False False True True True True True True True True].\\nSo, arr[arr > 2] selects only those elements of arr where the corresponding \\nelement in the boolean array is True, \\nwhich are [3, 4, 5, 6, 7, 8, 9, 10]\\n'"
      ]
     },
     "execution_count": 36,
     "metadata": {},
     "output_type": "execute_result"
    }
   ],
   "source": [
    "'''\n",
    "arr > 2 creates a boolean array where each element is True if \n",
    "the corresponding element in arr is greater than 2, and False otherwise\n",
    "\n",
    "arr[arr > 2] uses this boolean array as a mask to select only the elements \n",
    "of arr where the corresponding element in the boolean array is True\n",
    "\n",
    "The array arr is [1, 2, 3, 4, 5, 6, 7, 8, 9, 10]\n",
    "The boolean array arr > 2 is [False False True True True True True True True True].\n",
    "So, arr[arr > 2] selects only those elements of arr where the corresponding \n",
    "element in the boolean array is True, \n",
    "which are [3, 4, 5, 6, 7, 8, 9, 10]\n",
    "'''"
   ]
  },
  {
   "cell_type": "code",
   "execution_count": 37,
   "id": "42f8a4db-a171-4a6d-8bdd-1d2edc7ebdaa",
   "metadata": {},
   "outputs": [
    {
     "name": "stdout",
     "output_type": "stream",
     "text": [
      "[ 3  4  5  6  7  8  9 10]\n"
     ]
    }
   ],
   "source": [
    "print(arr[arr > 2])"
   ]
  },
  {
   "cell_type": "code",
   "execution_count": 38,
   "id": "1ca5fff8-d391-4de6-b0ca-cc3348793646",
   "metadata": {},
   "outputs": [
    {
     "name": "stdout",
     "output_type": "stream",
     "text": [
      "[ 3  4  5  6  7  8  9 10]\n"
     ]
    }
   ],
   "source": [
    "# Same as before\n",
    "x = 2\n",
    "print(arr[arr > x])"
   ]
  },
  {
   "cell_type": "code",
   "execution_count": null,
   "id": "c658dbfe-0978-49e3-a332-8ad7d0c46b76",
   "metadata": {},
   "outputs": [],
   "source": []
  },
  {
   "cell_type": "markdown",
   "id": "873e058e-16f9-4ba0-aeff-3497bba422ff",
   "metadata": {},
   "source": [
    "## NumPy Operations"
   ]
  },
  {
   "cell_type": "code",
   "execution_count": 39,
   "id": "e9e9f60f-91c3-4493-9a24-934ce899b51f",
   "metadata": {},
   "outputs": [
    {
     "name": "stdout",
     "output_type": "stream",
     "text": [
      "[0 1 2 3 4 5 6 7 8 9]\n"
     ]
    }
   ],
   "source": [
    "arr = np.arange(0,10)\n",
    "print(arr)"
   ]
  },
  {
   "cell_type": "code",
   "execution_count": 40,
   "id": "dcb6ed77-4ab9-4368-baf5-60501880e3f8",
   "metadata": {},
   "outputs": [
    {
     "name": "stdout",
     "output_type": "stream",
     "text": [
      "[ 0  2  4  6  8 10 12 14 16 18]\n",
      "[ 0  1  4  9 16 25 36 49 64 81]\n",
      "[0 0 0 0 0 0 0 0 0 0]\n"
     ]
    }
   ],
   "source": [
    "# Basic arithmetic\n",
    "print(arr + arr)\n",
    "print(arr * arr)\n",
    "print(arr - arr)"
   ]
  },
  {
   "cell_type": "code",
   "execution_count": 41,
   "id": "ff378ebc-9be9-4a6b-be53-a77340436d15",
   "metadata": {},
   "outputs": [
    {
     "name": "stdout",
     "output_type": "stream",
     "text": [
      "[nan  1.  1.  1.  1.  1.  1.  1.  1.  1.]\n"
     ]
    },
    {
     "name": "stderr",
     "output_type": "stream",
     "text": [
      "C:\\Users\\jayes\\AppData\\Local\\Temp\\ipykernel_4228\\3596303889.py:3: RuntimeWarning: invalid value encountered in divide\n",
      "  print(arr/arr)\n"
     ]
    }
   ],
   "source": [
    "# This will raise a Warning on division by zero, but not an error!\n",
    "# It just fills the spot with nan\n",
    "print(arr/arr)"
   ]
  },
  {
   "cell_type": "code",
   "execution_count": 42,
   "id": "87b03489-9709-42c2-bf89-95241e231600",
   "metadata": {},
   "outputs": [
    {
     "name": "stdout",
     "output_type": "stream",
     "text": [
      "[       inf 1.         0.5        0.33333333 0.25       0.2\n",
      " 0.16666667 0.14285714 0.125      0.11111111]\n",
      "[  0   1   8  27  64 125 216 343 512 729]\n"
     ]
    },
    {
     "name": "stderr",
     "output_type": "stream",
     "text": [
      "C:\\Users\\jayes\\AppData\\Local\\Temp\\ipykernel_4228\\1714326209.py:2: RuntimeWarning: divide by zero encountered in divide\n",
      "  print(1/arr)\n"
     ]
    }
   ],
   "source": [
    "# Also a warning (but not an error) relating to infinity\n",
    "print(1/arr)\n",
    "\n",
    "print(arr**3)"
   ]
  },
  {
   "cell_type": "code",
   "execution_count": 43,
   "id": "d4734e6e-a40f-4b78-84d7-96a304dcbf14",
   "metadata": {},
   "outputs": [
    {
     "name": "stdout",
     "output_type": "stream",
     "text": [
      "[0.         1.         1.41421356 1.73205081 2.         2.23606798\n",
      " 2.44948974 2.64575131 2.82842712 3.        ]\n"
     ]
    }
   ],
   "source": [
    "# Universal functions\n",
    "\n",
    "# Taking Square Roots\n",
    "print(np.sqrt(arr))"
   ]
  },
  {
   "cell_type": "code",
   "execution_count": 44,
   "id": "d78a6546-4925-4931-969d-6c961bb6ff1f",
   "metadata": {},
   "outputs": [
    {
     "name": "stdout",
     "output_type": "stream",
     "text": [
      "[1.00000000e+00 2.71828183e+00 7.38905610e+00 2.00855369e+01\n",
      " 5.45981500e+01 1.48413159e+02 4.03428793e+02 1.09663316e+03\n",
      " 2.98095799e+03 8.10308393e+03]\n"
     ]
    }
   ],
   "source": [
    "# Calculating exponential (e^)\n",
    "print(np.exp(arr))"
   ]
  },
  {
   "cell_type": "code",
   "execution_count": 45,
   "id": "d0f3260e-6676-41e7-a244-050f9e00148c",
   "metadata": {},
   "outputs": [
    {
     "name": "stdout",
     "output_type": "stream",
     "text": [
      "[ 0.          0.84147098  0.90929743  0.14112001 -0.7568025  -0.95892427\n",
      " -0.2794155   0.6569866   0.98935825  0.41211849]\n"
     ]
    }
   ],
   "source": [
    "# Trigonometric Functions like sine\n",
    "print(np.sin(arr))"
   ]
  },
  {
   "cell_type": "code",
   "execution_count": 46,
   "id": "b804b747-583d-4d9e-9feb-86590dfbba25",
   "metadata": {},
   "outputs": [
    {
     "name": "stdout",
     "output_type": "stream",
     "text": [
      "[      -inf 0.         0.69314718 1.09861229 1.38629436 1.60943791\n",
      " 1.79175947 1.94591015 2.07944154 2.19722458]\n"
     ]
    },
    {
     "name": "stderr",
     "output_type": "stream",
     "text": [
      "C:\\Users\\jayes\\AppData\\Local\\Temp\\ipykernel_4228\\3278392787.py:2: RuntimeWarning: divide by zero encountered in log\n",
      "  print(np.log(arr))\n"
     ]
    }
   ],
   "source": [
    "# Taking the Natural Logarithm\n",
    "print(np.log(arr))"
   ]
  },
  {
   "cell_type": "code",
   "execution_count": 47,
   "id": "b543e601-9600-4372-b91f-f79f948b0d85",
   "metadata": {},
   "outputs": [
    {
     "name": "stdout",
     "output_type": "stream",
     "text": [
      "45\n",
      "4.5\n",
      "9\n",
      "0\n",
      "8.25\n",
      "2.8722813232690143\n"
     ]
    }
   ],
   "source": [
    "# Summary statistics\n",
    "\n",
    "print(arr.sum())\n",
    "print(arr.mean())\n",
    "print(arr.max())\n",
    "print(arr.min())\n",
    "print(arr.var())\n",
    "print(arr.std())"
   ]
  },
  {
   "cell_type": "code",
   "execution_count": 48,
   "id": "2125bd43-5d8a-4082-a236-18652a5bc116",
   "metadata": {},
   "outputs": [
    {
     "name": "stdout",
     "output_type": "stream",
     "text": [
      "[[ 1  2  3  4]\n",
      " [ 5  6  7  8]\n",
      " [ 9 10 11 12]]\n"
     ]
    }
   ],
   "source": [
    "# 2D arrays\n",
    "\n",
    "# This is a 2-dimensional array with 3 rows and 4 columns\n",
    "arr_2d = np.array([[1,2,3,4],[5,6,7,8],[9,10,11,12]])\n",
    "print(arr_2d)"
   ]
  },
  {
   "cell_type": "code",
   "execution_count": 49,
   "id": "4b189157-c095-4e26-a35c-6bf675cefbea",
   "metadata": {},
   "outputs": [
    {
     "name": "stdout",
     "output_type": "stream",
     "text": [
      "[15 18 21 24]\n"
     ]
    }
   ],
   "source": [
    "# Sum all the columns for each row (e.g. 1+5+9, 2+6+10, etc)\n",
    "print(arr_2d.sum(axis=0))"
   ]
  },
  {
   "cell_type": "code",
   "execution_count": 50,
   "id": "c7401626-4d0b-4cf1-b9ef-0499e0f80fe1",
   "metadata": {},
   "outputs": [
    {
     "name": "stdout",
     "output_type": "stream",
     "text": [
      "(3, 4)\n"
     ]
    }
   ],
   "source": [
    "# Row and column count\n",
    "print(arr_2d.shape)"
   ]
  },
  {
   "cell_type": "code",
   "execution_count": 51,
   "id": "b6dbb081-f17a-4e73-b89d-92572c94b3ea",
   "metadata": {},
   "outputs": [
    {
     "name": "stdout",
     "output_type": "stream",
     "text": [
      "[10 26 42]\n"
     ]
    }
   ],
   "source": [
    "# Sum all the rows for each column (e.g. 1+2+3+4, 5+6+7+8, etc)\n",
    "print(arr_2d.sum(axis=1))"
   ]
  },
  {
   "cell_type": "code",
   "execution_count": null,
   "id": "2c9ee6dc-1788-4a7f-8f58-107d129a00f6",
   "metadata": {},
   "outputs": [],
   "source": []
  }
 ],
 "metadata": {
  "kernelspec": {
   "display_name": "Python 3 (ipykernel)",
   "language": "python",
   "name": "python3"
  },
  "language_info": {
   "codemirror_mode": {
    "name": "ipython",
    "version": 3
   },
   "file_extension": ".py",
   "mimetype": "text/x-python",
   "name": "python",
   "nbconvert_exporter": "python",
   "pygments_lexer": "ipython3",
   "version": "3.12.4"
  }
 },
 "nbformat": 4,
 "nbformat_minor": 5
}
